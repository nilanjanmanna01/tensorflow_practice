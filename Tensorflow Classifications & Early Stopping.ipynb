{
 "cells": [
  {
   "cell_type": "code",
   "execution_count": 18,
   "metadata": {},
   "outputs": [
    {
     "data": {
      "text/html": [
       "        <script type=\"text/javascript\">\n",
       "        window.PlotlyConfig = {MathJaxConfig: 'local'};\n",
       "        if (window.MathJax) {MathJax.Hub.Config({SVG: {font: \"STIX-Web\"}});}\n",
       "        if (typeof require !== 'undefined') {\n",
       "        require.undef(\"plotly\");\n",
       "        requirejs.config({\n",
       "            paths: {\n",
       "                'plotly': ['https://cdn.plot.ly/plotly-latest.min']\n",
       "            }\n",
       "        });\n",
       "        require(['plotly'], function(Plotly) {\n",
       "            window._Plotly = Plotly;\n",
       "        });\n",
       "        }\n",
       "        </script>\n",
       "        "
      ]
     },
     "metadata": {},
     "output_type": "display_data"
    },
    {
     "data": {
      "text/html": [
       "        <script type=\"text/javascript\">\n",
       "        window.PlotlyConfig = {MathJaxConfig: 'local'};\n",
       "        if (window.MathJax) {MathJax.Hub.Config({SVG: {font: \"STIX-Web\"}});}\n",
       "        if (typeof require !== 'undefined') {\n",
       "        require.undef(\"plotly\");\n",
       "        requirejs.config({\n",
       "            paths: {\n",
       "                'plotly': ['https://cdn.plot.ly/plotly-latest.min']\n",
       "            }\n",
       "        });\n",
       "        require(['plotly'], function(Plotly) {\n",
       "            window._Plotly = Plotly;\n",
       "        });\n",
       "        }\n",
       "        </script>\n",
       "        "
      ]
     },
     "metadata": {},
     "output_type": "display_data"
    }
   ],
   "source": [
    "import pandas as pd\n",
    "import numpy as np\n",
    "import seaborn as sns\n",
    "import matplotlib.pyplot as plt\n",
    "%matplotlib inline\n",
    "from plotly import __version__\n",
    "from plotly.offline import download_plotlyjs, init_notebook_mode, plot, iplot\n",
    "import cufflinks as cf\n",
    "init_notebook_mode(connected=True)\n",
    "cf.go_offline()"
   ]
  },
  {
   "cell_type": "code",
   "execution_count": 2,
   "metadata": {},
   "outputs": [],
   "source": [
    "sns.set_style(\"dark\")\n",
    "sns.set_context(\"paper\")\n",
    "sns.set_style(\"darkgrid\", {\"axes.facecolor\": \".9\"})"
   ]
  },
  {
   "cell_type": "code",
   "execution_count": 3,
   "metadata": {},
   "outputs": [],
   "source": [
    "df = pd.read_csv('TensorFlow_FILES/DATA/cancer_classification.csv')"
   ]
  },
  {
   "cell_type": "code",
   "execution_count": 4,
   "metadata": {},
   "outputs": [
    {
     "data": {
      "text/html": [
       "<div>\n",
       "<style scoped>\n",
       "    .dataframe tbody tr th:only-of-type {\n",
       "        vertical-align: middle;\n",
       "    }\n",
       "\n",
       "    .dataframe tbody tr th {\n",
       "        vertical-align: top;\n",
       "    }\n",
       "\n",
       "    .dataframe thead th {\n",
       "        text-align: right;\n",
       "    }\n",
       "</style>\n",
       "<table border=\"1\" class=\"dataframe\">\n",
       "  <thead>\n",
       "    <tr style=\"text-align: right;\">\n",
       "      <th></th>\n",
       "      <th>mean radius</th>\n",
       "      <th>mean texture</th>\n",
       "      <th>mean perimeter</th>\n",
       "      <th>mean area</th>\n",
       "      <th>mean smoothness</th>\n",
       "      <th>mean compactness</th>\n",
       "      <th>mean concavity</th>\n",
       "      <th>mean concave points</th>\n",
       "      <th>mean symmetry</th>\n",
       "      <th>mean fractal dimension</th>\n",
       "      <th>...</th>\n",
       "      <th>worst texture</th>\n",
       "      <th>worst perimeter</th>\n",
       "      <th>worst area</th>\n",
       "      <th>worst smoothness</th>\n",
       "      <th>worst compactness</th>\n",
       "      <th>worst concavity</th>\n",
       "      <th>worst concave points</th>\n",
       "      <th>worst symmetry</th>\n",
       "      <th>worst fractal dimension</th>\n",
       "      <th>benign_0__mal_1</th>\n",
       "    </tr>\n",
       "  </thead>\n",
       "  <tbody>\n",
       "    <tr>\n",
       "      <th>0</th>\n",
       "      <td>17.99</td>\n",
       "      <td>10.38</td>\n",
       "      <td>122.80</td>\n",
       "      <td>1001.0</td>\n",
       "      <td>0.11840</td>\n",
       "      <td>0.27760</td>\n",
       "      <td>0.3001</td>\n",
       "      <td>0.14710</td>\n",
       "      <td>0.2419</td>\n",
       "      <td>0.07871</td>\n",
       "      <td>...</td>\n",
       "      <td>17.33</td>\n",
       "      <td>184.60</td>\n",
       "      <td>2019.0</td>\n",
       "      <td>0.1622</td>\n",
       "      <td>0.6656</td>\n",
       "      <td>0.7119</td>\n",
       "      <td>0.2654</td>\n",
       "      <td>0.4601</td>\n",
       "      <td>0.11890</td>\n",
       "      <td>0</td>\n",
       "    </tr>\n",
       "    <tr>\n",
       "      <th>1</th>\n",
       "      <td>20.57</td>\n",
       "      <td>17.77</td>\n",
       "      <td>132.90</td>\n",
       "      <td>1326.0</td>\n",
       "      <td>0.08474</td>\n",
       "      <td>0.07864</td>\n",
       "      <td>0.0869</td>\n",
       "      <td>0.07017</td>\n",
       "      <td>0.1812</td>\n",
       "      <td>0.05667</td>\n",
       "      <td>...</td>\n",
       "      <td>23.41</td>\n",
       "      <td>158.80</td>\n",
       "      <td>1956.0</td>\n",
       "      <td>0.1238</td>\n",
       "      <td>0.1866</td>\n",
       "      <td>0.2416</td>\n",
       "      <td>0.1860</td>\n",
       "      <td>0.2750</td>\n",
       "      <td>0.08902</td>\n",
       "      <td>0</td>\n",
       "    </tr>\n",
       "    <tr>\n",
       "      <th>2</th>\n",
       "      <td>19.69</td>\n",
       "      <td>21.25</td>\n",
       "      <td>130.00</td>\n",
       "      <td>1203.0</td>\n",
       "      <td>0.10960</td>\n",
       "      <td>0.15990</td>\n",
       "      <td>0.1974</td>\n",
       "      <td>0.12790</td>\n",
       "      <td>0.2069</td>\n",
       "      <td>0.05999</td>\n",
       "      <td>...</td>\n",
       "      <td>25.53</td>\n",
       "      <td>152.50</td>\n",
       "      <td>1709.0</td>\n",
       "      <td>0.1444</td>\n",
       "      <td>0.4245</td>\n",
       "      <td>0.4504</td>\n",
       "      <td>0.2430</td>\n",
       "      <td>0.3613</td>\n",
       "      <td>0.08758</td>\n",
       "      <td>0</td>\n",
       "    </tr>\n",
       "    <tr>\n",
       "      <th>3</th>\n",
       "      <td>11.42</td>\n",
       "      <td>20.38</td>\n",
       "      <td>77.58</td>\n",
       "      <td>386.1</td>\n",
       "      <td>0.14250</td>\n",
       "      <td>0.28390</td>\n",
       "      <td>0.2414</td>\n",
       "      <td>0.10520</td>\n",
       "      <td>0.2597</td>\n",
       "      <td>0.09744</td>\n",
       "      <td>...</td>\n",
       "      <td>26.50</td>\n",
       "      <td>98.87</td>\n",
       "      <td>567.7</td>\n",
       "      <td>0.2098</td>\n",
       "      <td>0.8663</td>\n",
       "      <td>0.6869</td>\n",
       "      <td>0.2575</td>\n",
       "      <td>0.6638</td>\n",
       "      <td>0.17300</td>\n",
       "      <td>0</td>\n",
       "    </tr>\n",
       "    <tr>\n",
       "      <th>4</th>\n",
       "      <td>20.29</td>\n",
       "      <td>14.34</td>\n",
       "      <td>135.10</td>\n",
       "      <td>1297.0</td>\n",
       "      <td>0.10030</td>\n",
       "      <td>0.13280</td>\n",
       "      <td>0.1980</td>\n",
       "      <td>0.10430</td>\n",
       "      <td>0.1809</td>\n",
       "      <td>0.05883</td>\n",
       "      <td>...</td>\n",
       "      <td>16.67</td>\n",
       "      <td>152.20</td>\n",
       "      <td>1575.0</td>\n",
       "      <td>0.1374</td>\n",
       "      <td>0.2050</td>\n",
       "      <td>0.4000</td>\n",
       "      <td>0.1625</td>\n",
       "      <td>0.2364</td>\n",
       "      <td>0.07678</td>\n",
       "      <td>0</td>\n",
       "    </tr>\n",
       "  </tbody>\n",
       "</table>\n",
       "<p>5 rows × 31 columns</p>\n",
       "</div>"
      ],
      "text/plain": [
       "   mean radius  mean texture  mean perimeter  mean area  mean smoothness  \\\n",
       "0        17.99         10.38          122.80     1001.0          0.11840   \n",
       "1        20.57         17.77          132.90     1326.0          0.08474   \n",
       "2        19.69         21.25          130.00     1203.0          0.10960   \n",
       "3        11.42         20.38           77.58      386.1          0.14250   \n",
       "4        20.29         14.34          135.10     1297.0          0.10030   \n",
       "\n",
       "   mean compactness  mean concavity  mean concave points  mean symmetry  \\\n",
       "0           0.27760          0.3001              0.14710         0.2419   \n",
       "1           0.07864          0.0869              0.07017         0.1812   \n",
       "2           0.15990          0.1974              0.12790         0.2069   \n",
       "3           0.28390          0.2414              0.10520         0.2597   \n",
       "4           0.13280          0.1980              0.10430         0.1809   \n",
       "\n",
       "   mean fractal dimension  ...  worst texture  worst perimeter  worst area  \\\n",
       "0                 0.07871  ...          17.33           184.60      2019.0   \n",
       "1                 0.05667  ...          23.41           158.80      1956.0   \n",
       "2                 0.05999  ...          25.53           152.50      1709.0   \n",
       "3                 0.09744  ...          26.50            98.87       567.7   \n",
       "4                 0.05883  ...          16.67           152.20      1575.0   \n",
       "\n",
       "   worst smoothness  worst compactness  worst concavity  worst concave points  \\\n",
       "0            0.1622             0.6656           0.7119                0.2654   \n",
       "1            0.1238             0.1866           0.2416                0.1860   \n",
       "2            0.1444             0.4245           0.4504                0.2430   \n",
       "3            0.2098             0.8663           0.6869                0.2575   \n",
       "4            0.1374             0.2050           0.4000                0.1625   \n",
       "\n",
       "   worst symmetry  worst fractal dimension  benign_0__mal_1  \n",
       "0          0.4601                  0.11890                0  \n",
       "1          0.2750                  0.08902                0  \n",
       "2          0.3613                  0.08758                0  \n",
       "3          0.6638                  0.17300                0  \n",
       "4          0.2364                  0.07678                0  \n",
       "\n",
       "[5 rows x 31 columns]"
      ]
     },
     "execution_count": 4,
     "metadata": {},
     "output_type": "execute_result"
    }
   ],
   "source": [
    "df.head()"
   ]
  },
  {
   "cell_type": "code",
   "execution_count": 5,
   "metadata": {},
   "outputs": [
    {
     "data": {
      "text/html": [
       "<div>\n",
       "<style scoped>\n",
       "    .dataframe tbody tr th:only-of-type {\n",
       "        vertical-align: middle;\n",
       "    }\n",
       "\n",
       "    .dataframe tbody tr th {\n",
       "        vertical-align: top;\n",
       "    }\n",
       "\n",
       "    .dataframe thead th {\n",
       "        text-align: right;\n",
       "    }\n",
       "</style>\n",
       "<table border=\"1\" class=\"dataframe\">\n",
       "  <thead>\n",
       "    <tr style=\"text-align: right;\">\n",
       "      <th></th>\n",
       "      <th>mean radius</th>\n",
       "      <th>mean texture</th>\n",
       "      <th>mean perimeter</th>\n",
       "      <th>mean area</th>\n",
       "      <th>mean smoothness</th>\n",
       "      <th>mean compactness</th>\n",
       "      <th>mean concavity</th>\n",
       "      <th>mean concave points</th>\n",
       "      <th>mean symmetry</th>\n",
       "      <th>mean fractal dimension</th>\n",
       "      <th>...</th>\n",
       "      <th>worst texture</th>\n",
       "      <th>worst perimeter</th>\n",
       "      <th>worst area</th>\n",
       "      <th>worst smoothness</th>\n",
       "      <th>worst compactness</th>\n",
       "      <th>worst concavity</th>\n",
       "      <th>worst concave points</th>\n",
       "      <th>worst symmetry</th>\n",
       "      <th>worst fractal dimension</th>\n",
       "      <th>benign_0__mal_1</th>\n",
       "    </tr>\n",
       "  </thead>\n",
       "  <tbody>\n",
       "    <tr>\n",
       "      <th>count</th>\n",
       "      <td>569.000000</td>\n",
       "      <td>569.000000</td>\n",
       "      <td>569.000000</td>\n",
       "      <td>569.000000</td>\n",
       "      <td>569.000000</td>\n",
       "      <td>569.000000</td>\n",
       "      <td>569.000000</td>\n",
       "      <td>569.000000</td>\n",
       "      <td>569.000000</td>\n",
       "      <td>569.000000</td>\n",
       "      <td>...</td>\n",
       "      <td>569.000000</td>\n",
       "      <td>569.000000</td>\n",
       "      <td>569.000000</td>\n",
       "      <td>569.000000</td>\n",
       "      <td>569.000000</td>\n",
       "      <td>569.000000</td>\n",
       "      <td>569.000000</td>\n",
       "      <td>569.000000</td>\n",
       "      <td>569.000000</td>\n",
       "      <td>569.000000</td>\n",
       "    </tr>\n",
       "    <tr>\n",
       "      <th>mean</th>\n",
       "      <td>14.127292</td>\n",
       "      <td>19.289649</td>\n",
       "      <td>91.969033</td>\n",
       "      <td>654.889104</td>\n",
       "      <td>0.096360</td>\n",
       "      <td>0.104341</td>\n",
       "      <td>0.088799</td>\n",
       "      <td>0.048919</td>\n",
       "      <td>0.181162</td>\n",
       "      <td>0.062798</td>\n",
       "      <td>...</td>\n",
       "      <td>25.677223</td>\n",
       "      <td>107.261213</td>\n",
       "      <td>880.583128</td>\n",
       "      <td>0.132369</td>\n",
       "      <td>0.254265</td>\n",
       "      <td>0.272188</td>\n",
       "      <td>0.114606</td>\n",
       "      <td>0.290076</td>\n",
       "      <td>0.083946</td>\n",
       "      <td>0.627417</td>\n",
       "    </tr>\n",
       "    <tr>\n",
       "      <th>std</th>\n",
       "      <td>3.524049</td>\n",
       "      <td>4.301036</td>\n",
       "      <td>24.298981</td>\n",
       "      <td>351.914129</td>\n",
       "      <td>0.014064</td>\n",
       "      <td>0.052813</td>\n",
       "      <td>0.079720</td>\n",
       "      <td>0.038803</td>\n",
       "      <td>0.027414</td>\n",
       "      <td>0.007060</td>\n",
       "      <td>...</td>\n",
       "      <td>6.146258</td>\n",
       "      <td>33.602542</td>\n",
       "      <td>569.356993</td>\n",
       "      <td>0.022832</td>\n",
       "      <td>0.157336</td>\n",
       "      <td>0.208624</td>\n",
       "      <td>0.065732</td>\n",
       "      <td>0.061867</td>\n",
       "      <td>0.018061</td>\n",
       "      <td>0.483918</td>\n",
       "    </tr>\n",
       "    <tr>\n",
       "      <th>min</th>\n",
       "      <td>6.981000</td>\n",
       "      <td>9.710000</td>\n",
       "      <td>43.790000</td>\n",
       "      <td>143.500000</td>\n",
       "      <td>0.052630</td>\n",
       "      <td>0.019380</td>\n",
       "      <td>0.000000</td>\n",
       "      <td>0.000000</td>\n",
       "      <td>0.106000</td>\n",
       "      <td>0.049960</td>\n",
       "      <td>...</td>\n",
       "      <td>12.020000</td>\n",
       "      <td>50.410000</td>\n",
       "      <td>185.200000</td>\n",
       "      <td>0.071170</td>\n",
       "      <td>0.027290</td>\n",
       "      <td>0.000000</td>\n",
       "      <td>0.000000</td>\n",
       "      <td>0.156500</td>\n",
       "      <td>0.055040</td>\n",
       "      <td>0.000000</td>\n",
       "    </tr>\n",
       "    <tr>\n",
       "      <th>25%</th>\n",
       "      <td>11.700000</td>\n",
       "      <td>16.170000</td>\n",
       "      <td>75.170000</td>\n",
       "      <td>420.300000</td>\n",
       "      <td>0.086370</td>\n",
       "      <td>0.064920</td>\n",
       "      <td>0.029560</td>\n",
       "      <td>0.020310</td>\n",
       "      <td>0.161900</td>\n",
       "      <td>0.057700</td>\n",
       "      <td>...</td>\n",
       "      <td>21.080000</td>\n",
       "      <td>84.110000</td>\n",
       "      <td>515.300000</td>\n",
       "      <td>0.116600</td>\n",
       "      <td>0.147200</td>\n",
       "      <td>0.114500</td>\n",
       "      <td>0.064930</td>\n",
       "      <td>0.250400</td>\n",
       "      <td>0.071460</td>\n",
       "      <td>0.000000</td>\n",
       "    </tr>\n",
       "    <tr>\n",
       "      <th>50%</th>\n",
       "      <td>13.370000</td>\n",
       "      <td>18.840000</td>\n",
       "      <td>86.240000</td>\n",
       "      <td>551.100000</td>\n",
       "      <td>0.095870</td>\n",
       "      <td>0.092630</td>\n",
       "      <td>0.061540</td>\n",
       "      <td>0.033500</td>\n",
       "      <td>0.179200</td>\n",
       "      <td>0.061540</td>\n",
       "      <td>...</td>\n",
       "      <td>25.410000</td>\n",
       "      <td>97.660000</td>\n",
       "      <td>686.500000</td>\n",
       "      <td>0.131300</td>\n",
       "      <td>0.211900</td>\n",
       "      <td>0.226700</td>\n",
       "      <td>0.099930</td>\n",
       "      <td>0.282200</td>\n",
       "      <td>0.080040</td>\n",
       "      <td>1.000000</td>\n",
       "    </tr>\n",
       "    <tr>\n",
       "      <th>75%</th>\n",
       "      <td>15.780000</td>\n",
       "      <td>21.800000</td>\n",
       "      <td>104.100000</td>\n",
       "      <td>782.700000</td>\n",
       "      <td>0.105300</td>\n",
       "      <td>0.130400</td>\n",
       "      <td>0.130700</td>\n",
       "      <td>0.074000</td>\n",
       "      <td>0.195700</td>\n",
       "      <td>0.066120</td>\n",
       "      <td>...</td>\n",
       "      <td>29.720000</td>\n",
       "      <td>125.400000</td>\n",
       "      <td>1084.000000</td>\n",
       "      <td>0.146000</td>\n",
       "      <td>0.339100</td>\n",
       "      <td>0.382900</td>\n",
       "      <td>0.161400</td>\n",
       "      <td>0.317900</td>\n",
       "      <td>0.092080</td>\n",
       "      <td>1.000000</td>\n",
       "    </tr>\n",
       "    <tr>\n",
       "      <th>max</th>\n",
       "      <td>28.110000</td>\n",
       "      <td>39.280000</td>\n",
       "      <td>188.500000</td>\n",
       "      <td>2501.000000</td>\n",
       "      <td>0.163400</td>\n",
       "      <td>0.345400</td>\n",
       "      <td>0.426800</td>\n",
       "      <td>0.201200</td>\n",
       "      <td>0.304000</td>\n",
       "      <td>0.097440</td>\n",
       "      <td>...</td>\n",
       "      <td>49.540000</td>\n",
       "      <td>251.200000</td>\n",
       "      <td>4254.000000</td>\n",
       "      <td>0.222600</td>\n",
       "      <td>1.058000</td>\n",
       "      <td>1.252000</td>\n",
       "      <td>0.291000</td>\n",
       "      <td>0.663800</td>\n",
       "      <td>0.207500</td>\n",
       "      <td>1.000000</td>\n",
       "    </tr>\n",
       "  </tbody>\n",
       "</table>\n",
       "<p>8 rows × 31 columns</p>\n",
       "</div>"
      ],
      "text/plain": [
       "       mean radius  mean texture  mean perimeter    mean area  \\\n",
       "count   569.000000    569.000000      569.000000   569.000000   \n",
       "mean     14.127292     19.289649       91.969033   654.889104   \n",
       "std       3.524049      4.301036       24.298981   351.914129   \n",
       "min       6.981000      9.710000       43.790000   143.500000   \n",
       "25%      11.700000     16.170000       75.170000   420.300000   \n",
       "50%      13.370000     18.840000       86.240000   551.100000   \n",
       "75%      15.780000     21.800000      104.100000   782.700000   \n",
       "max      28.110000     39.280000      188.500000  2501.000000   \n",
       "\n",
       "       mean smoothness  mean compactness  mean concavity  mean concave points  \\\n",
       "count       569.000000        569.000000      569.000000           569.000000   \n",
       "mean          0.096360          0.104341        0.088799             0.048919   \n",
       "std           0.014064          0.052813        0.079720             0.038803   \n",
       "min           0.052630          0.019380        0.000000             0.000000   \n",
       "25%           0.086370          0.064920        0.029560             0.020310   \n",
       "50%           0.095870          0.092630        0.061540             0.033500   \n",
       "75%           0.105300          0.130400        0.130700             0.074000   \n",
       "max           0.163400          0.345400        0.426800             0.201200   \n",
       "\n",
       "       mean symmetry  mean fractal dimension  ...  worst texture  \\\n",
       "count     569.000000              569.000000  ...     569.000000   \n",
       "mean        0.181162                0.062798  ...      25.677223   \n",
       "std         0.027414                0.007060  ...       6.146258   \n",
       "min         0.106000                0.049960  ...      12.020000   \n",
       "25%         0.161900                0.057700  ...      21.080000   \n",
       "50%         0.179200                0.061540  ...      25.410000   \n",
       "75%         0.195700                0.066120  ...      29.720000   \n",
       "max         0.304000                0.097440  ...      49.540000   \n",
       "\n",
       "       worst perimeter   worst area  worst smoothness  worst compactness  \\\n",
       "count       569.000000   569.000000        569.000000         569.000000   \n",
       "mean        107.261213   880.583128          0.132369           0.254265   \n",
       "std          33.602542   569.356993          0.022832           0.157336   \n",
       "min          50.410000   185.200000          0.071170           0.027290   \n",
       "25%          84.110000   515.300000          0.116600           0.147200   \n",
       "50%          97.660000   686.500000          0.131300           0.211900   \n",
       "75%         125.400000  1084.000000          0.146000           0.339100   \n",
       "max         251.200000  4254.000000          0.222600           1.058000   \n",
       "\n",
       "       worst concavity  worst concave points  worst symmetry  \\\n",
       "count       569.000000            569.000000      569.000000   \n",
       "mean          0.272188              0.114606        0.290076   \n",
       "std           0.208624              0.065732        0.061867   \n",
       "min           0.000000              0.000000        0.156500   \n",
       "25%           0.114500              0.064930        0.250400   \n",
       "50%           0.226700              0.099930        0.282200   \n",
       "75%           0.382900              0.161400        0.317900   \n",
       "max           1.252000              0.291000        0.663800   \n",
       "\n",
       "       worst fractal dimension  benign_0__mal_1  \n",
       "count               569.000000       569.000000  \n",
       "mean                  0.083946         0.627417  \n",
       "std                   0.018061         0.483918  \n",
       "min                   0.055040         0.000000  \n",
       "25%                   0.071460         0.000000  \n",
       "50%                   0.080040         1.000000  \n",
       "75%                   0.092080         1.000000  \n",
       "max                   0.207500         1.000000  \n",
       "\n",
       "[8 rows x 31 columns]"
      ]
     },
     "execution_count": 5,
     "metadata": {},
     "output_type": "execute_result"
    }
   ],
   "source": [
    "df.describe()"
   ]
  },
  {
   "cell_type": "code",
   "execution_count": 6,
   "metadata": {},
   "outputs": [
    {
     "name": "stdout",
     "output_type": "stream",
     "text": [
      "<class 'pandas.core.frame.DataFrame'>\n",
      "RangeIndex: 569 entries, 0 to 568\n",
      "Data columns (total 31 columns):\n",
      " #   Column                   Non-Null Count  Dtype  \n",
      "---  ------                   --------------  -----  \n",
      " 0   mean radius              569 non-null    float64\n",
      " 1   mean texture             569 non-null    float64\n",
      " 2   mean perimeter           569 non-null    float64\n",
      " 3   mean area                569 non-null    float64\n",
      " 4   mean smoothness          569 non-null    float64\n",
      " 5   mean compactness         569 non-null    float64\n",
      " 6   mean concavity           569 non-null    float64\n",
      " 7   mean concave points      569 non-null    float64\n",
      " 8   mean symmetry            569 non-null    float64\n",
      " 9   mean fractal dimension   569 non-null    float64\n",
      " 10  radius error             569 non-null    float64\n",
      " 11  texture error            569 non-null    float64\n",
      " 12  perimeter error          569 non-null    float64\n",
      " 13  area error               569 non-null    float64\n",
      " 14  smoothness error         569 non-null    float64\n",
      " 15  compactness error        569 non-null    float64\n",
      " 16  concavity error          569 non-null    float64\n",
      " 17  concave points error     569 non-null    float64\n",
      " 18  symmetry error           569 non-null    float64\n",
      " 19  fractal dimension error  569 non-null    float64\n",
      " 20  worst radius             569 non-null    float64\n",
      " 21  worst texture            569 non-null    float64\n",
      " 22  worst perimeter          569 non-null    float64\n",
      " 23  worst area               569 non-null    float64\n",
      " 24  worst smoothness         569 non-null    float64\n",
      " 25  worst compactness        569 non-null    float64\n",
      " 26  worst concavity          569 non-null    float64\n",
      " 27  worst concave points     569 non-null    float64\n",
      " 28  worst symmetry           569 non-null    float64\n",
      " 29  worst fractal dimension  569 non-null    float64\n",
      " 30  benign_0__mal_1          569 non-null    int64  \n",
      "dtypes: float64(30), int64(1)\n",
      "memory usage: 137.9 KB\n"
     ]
    }
   ],
   "source": [
    "df.info()"
   ]
  },
  {
   "cell_type": "code",
   "execution_count": 7,
   "metadata": {},
   "outputs": [
    {
     "data": {
      "text/plain": [
       "<matplotlib.axes._subplots.AxesSubplot at 0x1a1c558110>"
      ]
     },
     "execution_count": 7,
     "metadata": {},
     "output_type": "execute_result"
    },
    {
     "data": {
      "image/png": "[encoded data removed]",
      "text/plain": [
       "<Figure size 432x288 with 1 Axes>"
      ]
     },
     "metadata": {},
     "output_type": "display_data"
    }
   ],
   "source": [
    "sns.countplot(x='benign_0__mal_1',data=df)"
   ]
  },
  {
   "cell_type": "code",
   "execution_count": 11,
   "metadata": {},
   "outputs": [
    {
     "data": {
      "text/plain": [
       "mean radius               -0.730029\n",
       "mean texture              -0.415185\n",
       "mean perimeter            -0.742636\n",
       "mean area                 -0.708984\n",
       "mean smoothness           -0.358560\n",
       "mean compactness          -0.596534\n",
       "mean concavity            -0.696360\n",
       "mean concave points       -0.776614\n",
       "mean symmetry             -0.330499\n",
       "mean fractal dimension     0.012838\n",
       "radius error              -0.567134\n",
       "texture error              0.008303\n",
       "perimeter error           -0.556141\n",
       "area error                -0.548236\n",
       "smoothness error           0.067016\n",
       "compactness error         -0.292999\n",
       "concavity error           -0.253730\n",
       "concave points error      -0.408042\n",
       "symmetry error             0.006522\n",
       "fractal dimension error   -0.077972\n",
       "worst radius              -0.776454\n",
       "worst texture             -0.456903\n",
       "worst perimeter           -0.782914\n",
       "worst area                -0.733825\n",
       "worst smoothness          -0.421465\n",
       "worst compactness         -0.590998\n",
       "worst concavity           -0.659610\n",
       "worst concave points      -0.793566\n",
       "worst symmetry            -0.416294\n",
       "worst fractal dimension   -0.323872\n",
       "benign_0__mal_1            1.000000\n",
       "Name: benign_0__mal_1, dtype: float64"
      ]
     },
     "execution_count": 11,
     "metadata": {},
     "output_type": "execute_result"
    }
   ],
   "source": [
    "df.corr()['benign_0__mal_1']"
   ]
  },
  {
   "cell_type": "code",
   "execution_count": 19,
   "metadata": {},
   "outputs": [
    {
     "data": {
      "application/vnd.plotly.v1+json": {
       "config": {
        "linkText": "Export to plot.ly",
        "plotlyServerURL": "https://plot.ly",
        "showLink": true
       },
       "data": [
        {
         "marker": {
          "color": "rgba(255, 153, 51, 0.6)",
          "line": {
           "color": "rgba(255, 153, 51, 1.0)",
           "width": 1
          }
         },
         "name": "benign_0__mal_1",
         "orientation": "v",
         "text": "",
         "type": "bar",
         "x": [
          "worst concave points",
          "worst perimeter",
          "mean concave points",
          "worst radius",
          "mean perimeter",
          "worst area",
          "mean radius",
          "mean area",
          "mean concavity",
          "worst concavity",
          "mean compactness",
          "worst compactness",
          "radius error",
          "perimeter error",
          "area error",
          "worst texture",
          "worst smoothness",
          "worst symmetry",
          "mean texture",
          "concave points error",
          "mean smoothness",
          "mean symmetry",
          "worst fractal dimension",
          "compactness error",
          "concavity error",
          "fractal dimension error",
          "symmetry error",
          "texture error",
          "mean fractal dimension",
          "smoothness error"
         ],
         "y": [
          -0.7935660171412696,
          -0.782914137173759,
          -0.7766138400204361,
          -0.7764537785950388,
          -0.742635529725833,
          -0.7338250349210516,
          -0.7300285113754569,
          -0.7089838365853909,
          -0.6963597071719053,
          -0.6596102103692345,
          -0.596533677508253,
          -0.5909982378417925,
          -0.5671338208247176,
          -0.5561407034314833,
          -0.5482359402780249,
          -0.4569028213967982,
          -0.4214648610664031,
          -0.41629431104861897,
          -0.4151852998452046,
          -0.4080423327165052,
          -0.3585599650859322,
          -0.3304985542625467,
          -0.3238721887208239,
          -0.2929992442488583,
          -0.2537297659808305,
          -0.07797241739025607,
          0.006521755870647938,
          0.008303332973877439,
          0.012837602698432347,
          0.06701601057948743
         ]
        }
       ],
       "layout": {
        "legend": {
         "bgcolor": "#F5F6F9",
         "font": {
          "color": "#4D5663"
         }
        },
        "paper_bgcolor": "#F5F6F9",
        "plot_bgcolor": "#F5F6F9",
        "template": {
         "data": {
          "bar": [
           {
            "error_x": {
             "color": "#2a3f5f"
            },
            "error_y": {
             "color": "#2a3f5f"
            },
            "marker": {
             "line": {
              "color": "#E5ECF6",
              "width": 0.5
             }
            },
            "type": "bar"
           }
          ],
          "barpolar": [
           {
            "marker": {
             "line": {
              "color": "#E5ECF6",
              "width": 0.5
             }
            },
            "type": "barpolar"
           }
          ],
          "carpet": [
           {
            "aaxis": {
             "endlinecolor": "#2a3f5f",
             "gridcolor": "white",
             "linecolor": "white",
             "minorgridcolor": "white",
             "startlinecolor": "#2a3f5f"
            },
            "baxis": {
             "endlinecolor": "#2a3f5f",
             "gridcolor": "white",
             "linecolor": "white",
             "minorgridcolor": "white",
             "startlinecolor": "#2a3f5f"
            },
            "type": "carpet"
           }
          ],
          "choropleth": [
           {
            "colorbar": {
             "outlinewidth": 0,
             "ticks": ""
            },
            "type": "choropleth"
           }
          ],
          "contour": [
           {
            "colorbar": {
             "outlinewidth": 0,
             "ticks": ""
            },
            "colorscale": [
             [
              0,
              "#0d0887"
             ],
             [
              0.1111111111111111,
              "#46039f"
             ],
             [
              0.2222222222222222,
              "#7201a8"
             ],
             [
              0.3333333333333333,
              "#9c179e"
             ],
             [
              0.4444444444444444,
              "#bd3786"
             ],
             [
              0.5555555555555556,
              "#d8576b"
             ],
             [
              0.6666666666666666,
              "#ed7953"
             ],
             [
              0.7777777777777778,
              "#fb9f3a"
             ],
             [
              0.8888888888888888,
              "#fdca26"
             ],
             [
              1,
              "#f0f921"
             ]
            ],
            "type": "contour"
           }
          ],
          "contourcarpet": [
           {
            "colorbar": {
             "outlinewidth": 0,
             "ticks": ""
            },
            "type": "contourcarpet"
           }
          ],
          "heatmap": [
           {
            "colorbar": {
             "outlinewidth": 0,
             "ticks": ""
            },
            "colorscale": [
             [
              0,
              "#0d0887"
             ],
             [
              0.1111111111111111,
              "#46039f"
             ],
             [
              0.2222222222222222,
              "#7201a8"
             ],
             [
              0.3333333333333333,
              "#9c179e"
             ],
             [
              0.4444444444444444,
              "#bd3786"
             ],
             [
              0.5555555555555556,
              "#d8576b"
             ],
             [
              0.6666666666666666,
              "#ed7953"
             ],
             [
              0.7777777777777778,
              "#fb9f3a"
             ],
             [
              0.8888888888888888,
              "#fdca26"
             ],
             [
              1,
              "#f0f921"
             ]
            ],
            "type": "heatmap"
           }
          ],
          "heatmapgl": [
           {
            "colorbar": {
             "outlinewidth": 0,
             "ticks": ""
            },
            "colorscale": [
             [
              0,
              "#0d0887"
             ],
             [
              0.1111111111111111,
              "#46039f"
             ],
             [
              0.2222222222222222,
              "#7201a8"
             ],
             [
              0.3333333333333333,
              "#9c179e"
             ],
             [
              0.4444444444444444,
              "#bd3786"
             ],
             [
              0.5555555555555556,
              "#d8576b"
             ],
             [
              0.6666666666666666,
              "#ed7953"
             ],
             [
              0.7777777777777778,
              "#fb9f3a"
             ],
             [
              0.8888888888888888,
              "#fdca26"
             ],
             [
              1,
              "#f0f921"
             ]
            ],
            "type": "heatmapgl"
           }
          ],
          "histogram": [
           {
            "marker": {
             "colorbar": {
              "outlinewidth": 0,
              "ticks": ""
             }
            },
            "type": "histogram"
           }
          ],
          "histogram2d": [
           {
            "colorbar": {
             "outlinewidth": 0,
             "ticks": ""
            },
            "colorscale": [
             [
              0,
              "#0d0887"
             ],
             [
              0.1111111111111111,
              "#46039f"
             ],
             [
              0.2222222222222222,
              "#7201a8"
             ],
             [
              0.3333333333333333,
              "#9c179e"
             ],
             [
              0.4444444444444444,
              "#bd3786"
             ],
             [
              0.5555555555555556,
              "#d8576b"
             ],
             [
              0.6666666666666666,
              "#ed7953"
             ],
             [
              0.7777777777777778,
              "#fb9f3a"
             ],
             [
              0.8888888888888888,
              "#fdca26"
             ],
             [
              1,
              "#f0f921"
             ]
            ],
            "type": "histogram2d"
           }
          ],
          "histogram2dcontour": [
           {
            "colorbar": {
             "outlinewidth": 0,
             "ticks": ""
            },
            "colorscale": [
             [
              0,
              "#0d0887"
             ],
             [
              0.1111111111111111,
              "#46039f"
             ],
             [
              0.2222222222222222,
              "#7201a8"
             ],
             [
              0.3333333333333333,
              "#9c179e"
             ],
             [
              0.4444444444444444,
              "#bd3786"
             ],
             [
              0.5555555555555556,
              "#d8576b"
             ],
             [
              0.6666666666666666,
              "#ed7953"
             ],
             [
              0.7777777777777778,
              "#fb9f3a"
             ],
             [
              0.8888888888888888,
              "#fdca26"
             ],
             [
              1,
              "#f0f921"
             ]
            ],
            "type": "histogram2dcontour"
           }
          ],
          "mesh3d": [
           {
            "colorbar": {
             "outlinewidth": 0,
             "ticks": ""
            },
            "type": "mesh3d"
           }
          ],
          "parcoords": [
           {
            "line": {
             "colorbar": {
              "outlinewidth": 0,
              "ticks": ""
             }
            },
            "type": "parcoords"
           }
          ],
          "pie": [
           {
            "automargin": true,
            "type": "pie"
           }
          ],
          "scatter": [
           {
            "marker": {
             "colorbar": {
              "outlinewidth": 0,
              "ticks": ""
             }
            },
            "type": "scatter"
           }
          ],
          "scatter3d": [
           {
            "line": {
             "colorbar": {
              "outlinewidth": 0,
              "ticks": ""
             }
            },
            "marker": {
             "colorbar": {
              "outlinewidth": 0,
              "ticks": ""
             }
            },
            "type": "scatter3d"
           }
          ],
          "scattercarpet": [
           {
            "marker": {
             "colorbar": {
              "outlinewidth": 0,
              "ticks": ""
             }
            },
            "type": "scattercarpet"
           }
          ],
          "scattergeo": [
           {
            "marker": {
             "colorbar": {
              "outlinewidth": 0,
              "ticks": ""
             }
            },
            "type": "scattergeo"
           }
          ],
          "scattergl": [
           {
            "marker": {
             "colorbar": {
              "outlinewidth": 0,
              "ticks": ""
             }
            },
            "type": "scattergl"
           }
          ],
          "scattermapbox": [
           {
            "marker": {
             "colorbar": {
              "outlinewidth": 0,
              "ticks": ""
             }
            },
            "type": "scattermapbox"
           }
          ],
          "scatterpolar": [
           {
            "marker": {
             "colorbar": {
              "outlinewidth": 0,
              "ticks": ""
             }
            },
            "type": "scatterpolar"
           }
          ],
          "scatterpolargl": [
           {
            "marker": {
             "colorbar": {
              "outlinewidth": 0,
              "ticks": ""
             }
            },
            "type": "scatterpolargl"
           }
          ],
          "scatterternary": [
           {
            "marker": {
             "colorbar": {
              "outlinewidth": 0,
              "ticks": ""
             }
            },
            "type": "scatterternary"
           }
          ],
          "surface": [
           {
            "colorbar": {
             "outlinewidth": 0,
             "ticks": ""
            },
            "colorscale": [
             [
              0,
              "#0d0887"
             ],
             [
              0.1111111111111111,
              "#46039f"
             ],
             [
              0.2222222222222222,
              "#7201a8"
             ],
             [
              0.3333333333333333,
              "#9c179e"
             ],
             [
              0.4444444444444444,
              "#bd3786"
             ],
             [
              0.5555555555555556,
              "#d8576b"
             ],
             [
              0.6666666666666666,
              "#ed7953"
             ],
             [
              0.7777777777777778,
              "#fb9f3a"
             ],
             [
              0.8888888888888888,
              "#fdca26"
             ],
             [
              1,
              "#f0f921"
             ]
            ],
            "type": "surface"
           }
          ],
          "table": [
           {
            "cells": {
             "fill": {
              "color": "#EBF0F8"
             },
             "line": {
              "color": "white"
             }
            },
            "header": {
             "fill": {
              "color": "#C8D4E3"
             },
             "line": {
              "color": "white"
             }
            },
            "type": "table"
           }
          ]
         },
         "layout": {
          "annotationdefaults": {
           "arrowcolor": "#2a3f5f",
           "arrowhead": 0,
           "arrowwidth": 1
          },
          "coloraxis": {
           "colorbar": {
            "outlinewidth": 0,
            "ticks": ""
           }
          },
          "colorscale": {
           "diverging": [
            [
             0,
             "#8e0152"
            ],
            [
             0.1,
             "#c51b7d"
            ],
            [
             0.2,
             "#de77ae"
            ],
            [
             0.3,
             "#f1b6da"
            ],
            [
             0.4,
             "#fde0ef"
            ],
            [
             0.5,
             "#f7f7f7"
            ],
            [
             0.6,
             "#e6f5d0"
            ],
            [
             0.7,
             "#b8e186"
            ],
            [
             0.8,
             "#7fbc41"
            ],
            [
             0.9,
             "#4d9221"
            ],
            [
             1,
             "#276419"
            ]
           ],
           "sequential": [
            [
             0,
             "#0d0887"
            ],
            [
             0.1111111111111111,
             "#46039f"
            ],
            [
             0.2222222222222222,
             "#7201a8"
            ],
            [
             0.3333333333333333,
             "#9c179e"
            ],
            [
             0.4444444444444444,
             "#bd3786"
            ],
            [
             0.5555555555555556,
             "#d8576b"
            ],
            [
             0.6666666666666666,
             "#ed7953"
            ],
            [
             0.7777777777777778,
             "#fb9f3a"
            ],
            [
             0.8888888888888888,
             "#fdca26"
            ],
            [
             1,
             "#f0f921"
            ]
           ],
           "sequentialminus": [
            [
             0,
             "#0d0887"
            ],
            [
             0.1111111111111111,
             "#46039f"
            ],
            [
             0.2222222222222222,
             "#7201a8"
            ],
            [
             0.3333333333333333,
             "#9c179e"
            ],
            [
             0.4444444444444444,
             "#bd3786"
            ],
            [
             0.5555555555555556,
             "#d8576b"
            ],
            [
             0.6666666666666666,
             "#ed7953"
            ],
            [
             0.7777777777777778,
             "#fb9f3a"
            ],
            [
             0.8888888888888888,
             "#fdca26"
            ],
            [
             1,
             "#f0f921"
            ]
           ]
          },
          "colorway": [
           "#636efa",
           "#EF553B",
           "#00cc96",
           "#ab63fa",
           "#FFA15A",
           "#19d3f3",
           "#FF6692",
           "#B6E880",
           "#FF97FF",
           "#FECB52"
          ],
          "font": {
           "color": "#2a3f5f"
          },
          "geo": {
           "bgcolor": "white",
           "lakecolor": "white",
           "landcolor": "#E5ECF6",
           "showlakes": true,
           "showland": true,
           "subunitcolor": "white"
          },
          "hoverlabel": {
           "align": "left"
          },
          "hovermode": "closest",
          "mapbox": {
           "style": "light"
          },
          "paper_bgcolor": "white",
          "plot_bgcolor": "#E5ECF6",
          "polar": {
           "angularaxis": {
            "gridcolor": "white",
            "linecolor": "white",
            "ticks": ""
           },
           "bgcolor": "#E5ECF6",
           "radialaxis": {
            "gridcolor": "white",
            "linecolor": "white",
            "ticks": ""
           }
          },
          "scene": {
           "xaxis": {
            "backgroundcolor": "#E5ECF6",
            "gridcolor": "white",
            "gridwidth": 2,
            "linecolor": "white",
            "showbackground": true,
            "ticks": "",
            "zerolinecolor": "white"
           },
           "yaxis": {
            "backgroundcolor": "#E5ECF6",
            "gridcolor": "white",
            "gridwidth": 2,
            "linecolor": "white",
            "showbackground": true,
            "ticks": "",
            "zerolinecolor": "white"
           },
           "zaxis": {
            "backgroundcolor": "#E5ECF6",
            "gridcolor": "white",
            "gridwidth": 2,
            "linecolor": "white",
            "showbackground": true,
            "ticks": "",
            "zerolinecolor": "white"
           }
          },
          "shapedefaults": {
           "line": {
            "color": "#2a3f5f"
           }
          },
          "ternary": {
           "aaxis": {
            "gridcolor": "white",
            "linecolor": "white",
            "ticks": ""
           },
           "baxis": {
            "gridcolor": "white",
            "linecolor": "white",
            "ticks": ""
           },
           "bgcolor": "#E5ECF6",
           "caxis": {
            "gridcolor": "white",
            "linecolor": "white",
            "ticks": ""
           }
          },
          "title": {
           "x": 0.05
          },
          "xaxis": {
           "automargin": true,
           "gridcolor": "white",
           "linecolor": "white",
           "ticks": "",
           "title": {
            "standoff": 15
           },
           "zerolinecolor": "white",
           "zerolinewidth": 2
          },
          "yaxis": {
           "automargin": true,
           "gridcolor": "white",
           "linecolor": "white",
           "ticks": "",
           "title": {
            "standoff": 15
           },
           "zerolinecolor": "white",
           "zerolinewidth": 2
          }
         }
        },
        "title": {
         "font": {
          "color": "#4D5663"
         }
        },
        "xaxis": {
         "gridcolor": "#E1E5ED",
         "showgrid": true,
         "tickfont": {
          "color": "#4D5663"
         },
         "title": {
          "font": {
           "color": "#4D5663"
          },
          "text": ""
         },
         "zerolinecolor": "#E1E5ED"
        },
        "yaxis": {
         "gridcolor": "#E1E5ED",
         "showgrid": true,
         "tickfont": {
          "color": "#4D5663"
         },
         "title": {
          "font": {
           "color": "#4D5663"
          },
          "text": ""
         },
         "zerolinecolor": "#E1E5ED"
        }
       }
      },
      "text/html": [
       "<div>                            <div id=\"97b5d7bd-de66-4e00-9d70-f976ad33b731\" class=\"plotly-graph-div\" style=\"height:525px; width:100%;\"></div>            <script type=\"text/javascript\">                require([\"plotly\"], function(Plotly) {                    window.PLOTLYENV=window.PLOTLYENV || {};\n",
       "                    window.PLOTLYENV.BASE_URL='https://plot.ly';                                    if (document.getElementById(\"97b5d7bd-de66-4e00-9d70-f976ad33b731\")) {                    Plotly.newPlot(                        \"97b5d7bd-de66-4e00-9d70-f976ad33b731\",                        [{\"marker\": {\"color\": \"rgba(255, 153, 51, 0.6)\", \"line\": {\"color\": \"rgba(255, 153, 51, 1.0)\", \"width\": 1}}, \"name\": \"benign_0__mal_1\", \"orientation\": \"v\", \"text\": \"\", \"type\": \"bar\", \"x\": [\"worst concave points\", \"worst perimeter\", \"mean concave points\", \"worst radius\", \"mean perimeter\", \"worst area\", \"mean radius\", \"mean area\", \"mean concavity\", \"worst concavity\", \"mean compactness\", \"worst compactness\", \"radius error\", \"perimeter error\", \"area error\", \"worst texture\", \"worst smoothness\", \"worst symmetry\", \"mean texture\", \"concave points error\", \"mean smoothness\", \"mean symmetry\", \"worst fractal dimension\", \"compactness error\", \"concavity error\", \"fractal dimension error\", \"symmetry error\", \"texture error\", \"mean fractal dimension\", \"smoothness error\"], \"y\": [-0.7935660171412696, -0.782914137173759, -0.7766138400204361, -0.7764537785950388, -0.742635529725833, -0.7338250349210516, -0.7300285113754569, -0.7089838365853909, -0.6963597071719053, -0.6596102103692345, -0.596533677508253, -0.5909982378417925, -0.5671338208247176, -0.5561407034314833, -0.5482359402780249, -0.4569028213967982, -0.4214648610664031, -0.41629431104861897, -0.4151852998452046, -0.4080423327165052, -0.3585599650859322, -0.3304985542625467, -0.3238721887208239, -0.2929992442488583, -0.2537297659808305, -0.07797241739025607, 0.006521755870647938, 0.008303332973877439, 0.012837602698432347, 0.06701601057948743]}],                        {\"legend\": {\"bgcolor\": \"#F5F6F9\", \"font\": {\"color\": \"#4D5663\"}}, \"paper_bgcolor\": \"#F5F6F9\", \"plot_bgcolor\": \"#F5F6F9\", \"template\": {\"data\": {\"bar\": [{\"error_x\": {\"color\": \"#2a3f5f\"}, \"error_y\": {\"color\": \"#2a3f5f\"}, \"marker\": {\"line\": {\"color\": \"#E5ECF6\", \"width\": 0.5}}, \"type\": \"bar\"}], \"barpolar\": [{\"marker\": {\"line\": {\"color\": \"#E5ECF6\", \"width\": 0.5}}, \"type\": \"barpolar\"}], \"carpet\": [{\"aaxis\": {\"endlinecolor\": \"#2a3f5f\", \"gridcolor\": \"white\", \"linecolor\": \"white\", \"minorgridcolor\": \"white\", \"startlinecolor\": \"#2a3f5f\"}, \"baxis\": {\"endlinecolor\": \"#2a3f5f\", \"gridcolor\": \"white\", \"linecolor\": \"white\", \"minorgridcolor\": \"white\", \"startlinecolor\": \"#2a3f5f\"}, \"type\": \"carpet\"}], \"choropleth\": [{\"colorbar\": {\"outlinewidth\": 0, \"ticks\": \"\"}, \"type\": \"choropleth\"}], \"contour\": [{\"colorbar\": {\"outlinewidth\": 0, \"ticks\": \"\"}, \"colorscale\": [[0.0, \"#0d0887\"], [0.1111111111111111, \"#46039f\"], [0.2222222222222222, \"#7201a8\"], [0.3333333333333333, \"#9c179e\"], [0.4444444444444444, \"#bd3786\"], [0.5555555555555556, \"#d8576b\"], [0.6666666666666666, \"#ed7953\"], [0.7777777777777778, \"#fb9f3a\"], [0.8888888888888888, \"#fdca26\"], [1.0, \"#f0f921\"]], \"type\": \"contour\"}], \"contourcarpet\": [{\"colorbar\": {\"outlinewidth\": 0, \"ticks\": \"\"}, \"type\": \"contourcarpet\"}], \"heatmap\": [{\"colorbar\": {\"outlinewidth\": 0, \"ticks\": \"\"}, \"colorscale\": [[0.0, \"#0d0887\"], [0.1111111111111111, \"#46039f\"], [0.2222222222222222, \"#7201a8\"], [0.3333333333333333, \"#9c179e\"], [0.4444444444444444, \"#bd3786\"], [0.5555555555555556, \"#d8576b\"], [0.6666666666666666, \"#ed7953\"], [0.7777777777777778, \"#fb9f3a\"], [0.8888888888888888, \"#fdca26\"], [1.0, \"#f0f921\"]], \"type\": \"heatmap\"}], \"heatmapgl\": [{\"colorbar\": {\"outlinewidth\": 0, \"ticks\": \"\"}, \"colorscale\": [[0.0, \"#0d0887\"], [0.1111111111111111, \"#46039f\"], [0.2222222222222222, \"#7201a8\"], [0.3333333333333333, \"#9c179e\"], [0.4444444444444444, \"#bd3786\"], [0.5555555555555556, \"#d8576b\"], [0.6666666666666666, \"#ed7953\"], [0.7777777777777778, \"#fb9f3a\"], [0.8888888888888888, \"#fdca26\"], [1.0, \"#f0f921\"]], \"type\": \"heatmapgl\"}], \"histogram\": [{\"marker\": {\"colorbar\": {\"outlinewidth\": 0, \"ticks\": \"\"}}, \"type\": \"histogram\"}], \"histogram2d\": [{\"colorbar\": {\"outlinewidth\": 0, \"ticks\": \"\"}, \"colorscale\": [[0.0, \"#0d0887\"], [0.1111111111111111, \"#46039f\"], [0.2222222222222222, \"#7201a8\"], [0.3333333333333333, \"#9c179e\"], [0.4444444444444444, \"#bd3786\"], [0.5555555555555556, \"#d8576b\"], [0.6666666666666666, \"#ed7953\"], [0.7777777777777778, \"#fb9f3a\"], [0.8888888888888888, \"#fdca26\"], [1.0, \"#f0f921\"]], \"type\": \"histogram2d\"}], \"histogram2dcontour\": [{\"colorbar\": {\"outlinewidth\": 0, \"ticks\": \"\"}, \"colorscale\": [[0.0, \"#0d0887\"], [0.1111111111111111, \"#46039f\"], [0.2222222222222222, \"#7201a8\"], [0.3333333333333333, \"#9c179e\"], [0.4444444444444444, \"#bd3786\"], [0.5555555555555556, \"#d8576b\"], [0.6666666666666666, \"#ed7953\"], [0.7777777777777778, \"#fb9f3a\"], [0.8888888888888888, \"#fdca26\"], [1.0, \"#f0f921\"]], \"type\": \"histogram2dcontour\"}], \"mesh3d\": [{\"colorbar\": {\"outlinewidth\": 0, \"ticks\": \"\"}, \"type\": \"mesh3d\"}], \"parcoords\": [{\"line\": {\"colorbar\": {\"outlinewidth\": 0, \"ticks\": \"\"}}, \"type\": \"parcoords\"}], \"pie\": [{\"automargin\": true, \"type\": \"pie\"}], \"scatter\": [{\"marker\": {\"colorbar\": {\"outlinewidth\": 0, \"ticks\": \"\"}}, \"type\": \"scatter\"}], \"scatter3d\": [{\"line\": {\"colorbar\": {\"outlinewidth\": 0, \"ticks\": \"\"}}, \"marker\": {\"colorbar\": {\"outlinewidth\": 0, \"ticks\": \"\"}}, \"type\": \"scatter3d\"}], \"scattercarpet\": [{\"marker\": {\"colorbar\": {\"outlinewidth\": 0, \"ticks\": \"\"}}, \"type\": \"scattercarpet\"}], \"scattergeo\": [{\"marker\": {\"colorbar\": {\"outlinewidth\": 0, \"ticks\": \"\"}}, \"type\": \"scattergeo\"}], \"scattergl\": [{\"marker\": {\"colorbar\": {\"outlinewidth\": 0, \"ticks\": \"\"}}, \"type\": \"scattergl\"}], \"scattermapbox\": [{\"marker\": {\"colorbar\": {\"outlinewidth\": 0, \"ticks\": \"\"}}, \"type\": \"scattermapbox\"}], \"scatterpolar\": [{\"marker\": {\"colorbar\": {\"outlinewidth\": 0, \"ticks\": \"\"}}, \"type\": \"scatterpolar\"}], \"scatterpolargl\": [{\"marker\": {\"colorbar\": {\"outlinewidth\": 0, \"ticks\": \"\"}}, \"type\": \"scatterpolargl\"}], \"scatterternary\": [{\"marker\": {\"colorbar\": {\"outlinewidth\": 0, \"ticks\": \"\"}}, \"type\": \"scatterternary\"}], \"surface\": [{\"colorbar\": {\"outlinewidth\": 0, \"ticks\": \"\"}, \"colorscale\": [[0.0, \"#0d0887\"], [0.1111111111111111, \"#46039f\"], [0.2222222222222222, \"#7201a8\"], [0.3333333333333333, \"#9c179e\"], [0.4444444444444444, \"#bd3786\"], [0.5555555555555556, \"#d8576b\"], [0.6666666666666666, \"#ed7953\"], [0.7777777777777778, \"#fb9f3a\"], [0.8888888888888888, \"#fdca26\"], [1.0, \"#f0f921\"]], \"type\": \"surface\"}], \"table\": [{\"cells\": {\"fill\": {\"color\": \"#EBF0F8\"}, \"line\": {\"color\": \"white\"}}, \"header\": {\"fill\": {\"color\": \"#C8D4E3\"}, \"line\": {\"color\": \"white\"}}, \"type\": \"table\"}]}, \"layout\": {\"annotationdefaults\": {\"arrowcolor\": \"#2a3f5f\", \"arrowhead\": 0, \"arrowwidth\": 1}, \"coloraxis\": {\"colorbar\": {\"outlinewidth\": 0, \"ticks\": \"\"}}, \"colorscale\": {\"diverging\": [[0, \"#8e0152\"], [0.1, \"#c51b7d\"], [0.2, \"#de77ae\"], [0.3, \"#f1b6da\"], [0.4, \"#fde0ef\"], [0.5, \"#f7f7f7\"], [0.6, \"#e6f5d0\"], [0.7, \"#b8e186\"], [0.8, \"#7fbc41\"], [0.9, \"#4d9221\"], [1, \"#276419\"]], \"sequential\": [[0.0, \"#0d0887\"], [0.1111111111111111, \"#46039f\"], [0.2222222222222222, \"#7201a8\"], [0.3333333333333333, \"#9c179e\"], [0.4444444444444444, \"#bd3786\"], [0.5555555555555556, \"#d8576b\"], [0.6666666666666666, \"#ed7953\"], [0.7777777777777778, \"#fb9f3a\"], [0.8888888888888888, \"#fdca26\"], [1.0, \"#f0f921\"]], \"sequentialminus\": [[0.0, \"#0d0887\"], [0.1111111111111111, \"#46039f\"], [0.2222222222222222, \"#7201a8\"], [0.3333333333333333, \"#9c179e\"], [0.4444444444444444, \"#bd3786\"], [0.5555555555555556, \"#d8576b\"], [0.6666666666666666, \"#ed7953\"], [0.7777777777777778, \"#fb9f3a\"], [0.8888888888888888, \"#fdca26\"], [1.0, \"#f0f921\"]]}, \"colorway\": [\"#636efa\", \"#EF553B\", \"#00cc96\", \"#ab63fa\", \"#FFA15A\", \"#19d3f3\", \"#FF6692\", \"#B6E880\", \"#FF97FF\", \"#FECB52\"], \"font\": {\"color\": \"#2a3f5f\"}, \"geo\": {\"bgcolor\": \"white\", \"lakecolor\": \"white\", \"landcolor\": \"#E5ECF6\", \"showlakes\": true, \"showland\": true, \"subunitcolor\": \"white\"}, \"hoverlabel\": {\"align\": \"left\"}, \"hovermode\": \"closest\", \"mapbox\": {\"style\": \"light\"}, \"paper_bgcolor\": \"white\", \"plot_bgcolor\": \"#E5ECF6\", \"polar\": {\"angularaxis\": {\"gridcolor\": \"white\", \"linecolor\": \"white\", \"ticks\": \"\"}, \"bgcolor\": \"#E5ECF6\", \"radialaxis\": {\"gridcolor\": \"white\", \"linecolor\": \"white\", \"ticks\": \"\"}}, \"scene\": {\"xaxis\": {\"backgroundcolor\": \"#E5ECF6\", \"gridcolor\": \"white\", \"gridwidth\": 2, \"linecolor\": \"white\", \"showbackground\": true, \"ticks\": \"\", \"zerolinecolor\": \"white\"}, \"yaxis\": {\"backgroundcolor\": \"#E5ECF6\", \"gridcolor\": \"white\", \"gridwidth\": 2, \"linecolor\": \"white\", \"showbackground\": true, \"ticks\": \"\", \"zerolinecolor\": \"white\"}, \"zaxis\": {\"backgroundcolor\": \"#E5ECF6\", \"gridcolor\": \"white\", \"gridwidth\": 2, \"linecolor\": \"white\", \"showbackground\": true, \"ticks\": \"\", \"zerolinecolor\": \"white\"}}, \"shapedefaults\": {\"line\": {\"color\": \"#2a3f5f\"}}, \"ternary\": {\"aaxis\": {\"gridcolor\": \"white\", \"linecolor\": \"white\", \"ticks\": \"\"}, \"baxis\": {\"gridcolor\": \"white\", \"linecolor\": \"white\", \"ticks\": \"\"}, \"bgcolor\": \"#E5ECF6\", \"caxis\": {\"gridcolor\": \"white\", \"linecolor\": \"white\", \"ticks\": \"\"}}, \"title\": {\"x\": 0.05}, \"xaxis\": {\"automargin\": true, \"gridcolor\": \"white\", \"linecolor\": \"white\", \"ticks\": \"\", \"title\": {\"standoff\": 15}, \"zerolinecolor\": \"white\", \"zerolinewidth\": 2}, \"yaxis\": {\"automargin\": true, \"gridcolor\": \"white\", \"linecolor\": \"white\", \"ticks\": \"\", \"title\": {\"standoff\": 15}, \"zerolinecolor\": \"white\", \"zerolinewidth\": 2}}}, \"title\": {\"font\": {\"color\": \"#4D5663\"}}, \"xaxis\": {\"gridcolor\": \"#E1E5ED\", \"showgrid\": true, \"tickfont\": {\"color\": \"#4D5663\"}, \"title\": {\"font\": {\"color\": \"#4D5663\"}, \"text\": \"\"}, \"zerolinecolor\": \"#E1E5ED\"}, \"yaxis\": {\"gridcolor\": \"#E1E5ED\", \"showgrid\": true, \"tickfont\": {\"color\": \"#4D5663\"}, \"title\": {\"font\": {\"color\": \"#4D5663\"}, \"text\": \"\"}, \"zerolinecolor\": \"#E1E5ED\"}},                        {\"showLink\": true, \"linkText\": \"Export to plot.ly\", \"plotlyServerURL\": \"https://plot.ly\", \"responsive\": true}                    ).then(function(){\n",
       "                            \n",
       "var gd = document.getElementById('97b5d7bd-de66-4e00-9d70-f976ad33b731');\n",
       "var x = new MutationObserver(function (mutations, observer) {{\n",
       "        var display = window.getComputedStyle(gd).display;\n",
       "        if (!display || display === 'none') {{\n",
       "            console.log([gd, 'removed!']);\n",
       "            Plotly.purge(gd);\n",
       "            observer.disconnect();\n",
       "        }}\n",
       "}});\n",
       "\n",
       "// Listen for the removal of the full notebook cells\n",
       "var notebookContainer = gd.closest('#notebook-container');\n",
       "if (notebookContainer) {{\n",
       "    x.observe(notebookContainer, {childList: true});\n",
       "}}\n",
       "\n",
       "// Listen for the clearing of the current output cell\n",
       "var outputEl = gd.closest('.output');\n",
       "if (outputEl) {{\n",
       "    x.observe(outputEl, {childList: true});\n",
       "}}\n",
       "\n",
       "                        })                };                });            </script>        </div>"
      ]
     },
     "metadata": {},
     "output_type": "display_data"
    },
    {
     "data": {
      "text/plain": [
       "<Figure size 864x432 with 0 Axes>"
      ]
     },
     "metadata": {},
     "output_type": "display_data"
    }
   ],
   "source": [
    "plt.figure(figsize=(12,6))\n",
    "df.corr()['benign_0__mal_1'][:-1].sort_values().iplot(kind='bar')"
   ]
  },
  {
   "cell_type": "code",
   "execution_count": 25,
   "metadata": {},
   "outputs": [
    {
     "data": {
      "text/plain": [
       "<matplotlib.axes._subplots.AxesSubplot at 0x1a280fded0>"
      ]
     },
     "execution_count": 25,
     "metadata": {},
     "output_type": "execute_result"
    },
    {
     "data": {
      "image/png": "[encoded data removed]",
      "text/plain": [
       "<Figure size 864x432 with 2 Axes>"
      ]
     },
     "metadata": {
      "needs_background": "light"
     },
     "output_type": "display_data"
    }
   ],
   "source": [
    "plt.figure(figsize=(12,6))\n",
    "sns.heatmap(df.corr())"
   ]
  },
  {
   "cell_type": "code",
   "execution_count": 26,
   "metadata": {},
   "outputs": [],
   "source": [
    "from sklearn.model_selection import train_test_split"
   ]
  },
  {
   "cell_type": "code",
   "execution_count": 28,
   "metadata": {},
   "outputs": [],
   "source": [
    "X=df.drop('benign_0__mal_1',axis=1).values\n",
    "y=df['benign_0__mal_1'].values"
   ]
  },
  {
   "cell_type": "code",
   "execution_count": 29,
   "metadata": {},
   "outputs": [],
   "source": [
    "X_train, X_test, y_train, y_test = train_test_split(X, y, test_size=0.25, random_state=101)"
   ]
  },
  {
   "cell_type": "code",
   "execution_count": 30,
   "metadata": {},
   "outputs": [],
   "source": [
    "from sklearn.preprocessing import MinMaxScaler"
   ]
  },
  {
   "cell_type": "code",
   "execution_count": 31,
   "metadata": {},
   "outputs": [],
   "source": [
    "scaler = MinMaxScaler()"
   ]
  },
  {
   "cell_type": "code",
   "execution_count": 32,
   "metadata": {},
   "outputs": [],
   "source": [
    "X_train = scaler.fit_transform(X_train)"
   ]
  },
  {
   "cell_type": "code",
   "execution_count": 33,
   "metadata": {},
   "outputs": [],
   "source": [
    "X_test = scaler.transform(X_test)"
   ]
  },
  {
   "cell_type": "code",
   "execution_count": 35,
   "metadata": {},
   "outputs": [
    {
     "data": {
      "text/plain": [
       "1.0"
      ]
     },
     "execution_count": 35,
     "metadata": {},
     "output_type": "execute_result"
    }
   ],
   "source": [
    "X_train.max()"
   ]
  },
  {
   "cell_type": "code",
   "execution_count": 36,
   "metadata": {},
   "outputs": [],
   "source": [
    "from tensorflow.keras.models import Sequential\n",
    "from tensorflow.keras.layers import Dense,Dropout"
   ]
  },
  {
   "cell_type": "code",
   "execution_count": 38,
   "metadata": {},
   "outputs": [
    {
     "data": {
      "text/plain": [
       "(426, 30)"
      ]
     },
     "execution_count": 38,
     "metadata": {},
     "output_type": "execute_result"
    }
   ],
   "source": [
    "X_train.shape"
   ]
  },
  {
   "cell_type": "code",
   "execution_count": 41,
   "metadata": {},
   "outputs": [],
   "source": [
    "# Create empty sequential models\n",
    "model = Sequential()\n",
    "\n",
    "# Add layers - We added 30 because number of vaiables in trained data set\n",
    "model.add(Dense(30,activation='relu'))\n",
    "model.add(Dense(15,activation='relu'))\n",
    "\n",
    "# Output layer - BINARY classification, so we chose sigmoid activation function\n",
    "model.add(Dense(1,activation='sigmoid'))\n",
    "\n",
    "# Compiling model - We use these optimizer and loss because we are solving a regression problem\n",
    "model.compile(optimizer='adam',loss='binary_crossentropy')"
   ]
  },
  {
   "cell_type": "code",
   "execution_count": 42,
   "metadata": {},
   "outputs": [
    {
     "name": "stdout",
     "output_type": "stream",
     "text": [
      "Epoch 1/600\n",
      "14/14 [==============================] - 1s 23ms/step - loss: 0.6812 - val_loss: 0.6516\n",
      "Epoch 2/600\n",
      "14/14 [==============================] - 0s 6ms/step - loss: 0.6409 - val_loss: 0.6137\n",
      "Epoch 3/600\n",
      "14/14 [==============================] - 0s 6ms/step - loss: 0.5965 - val_loss: 0.5711\n",
      "Epoch 4/600\n",
      "14/14 [==============================] - 0s 6ms/step - loss: 0.5468 - val_loss: 0.5224\n",
      "Epoch 5/600\n",
      "14/14 [==============================] - 0s 7ms/step - loss: 0.5122 - val_loss: 0.4725\n",
      "Epoch 6/600\n",
      "14/14 [==============================] - 0s 6ms/step - loss: 0.4562 - val_loss: 0.4232\n",
      "Epoch 7/600\n",
      "14/14 [==============================] - 0s 6ms/step - loss: 0.4290 - val_loss: 0.3826\n",
      "Epoch 8/600\n",
      "14/14 [==============================] - 0s 6ms/step - loss: 0.3729 - val_loss: 0.3444\n",
      "Epoch 9/600\n",
      "14/14 [==============================] - 0s 6ms/step - loss: 0.3295 - val_loss: 0.3139\n",
      "Epoch 10/600\n",
      "14/14 [==============================] - 0s 6ms/step - loss: 0.3160 - val_loss: 0.2848\n",
      "Epoch 11/600\n",
      "14/14 [==============================] - 0s 6ms/step - loss: 0.2800 - val_loss: 0.2616\n",
      "Epoch 12/600\n",
      "14/14 [==============================] - 0s 6ms/step - loss: 0.2661 - val_loss: 0.2410\n",
      "Epoch 13/600\n",
      "14/14 [==============================] - 0s 6ms/step - loss: 0.2730 - val_loss: 0.2243\n",
      "Epoch 14/600\n",
      "14/14 [==============================] - 0s 6ms/step - loss: 0.2501 - val_loss: 0.2073\n",
      "Epoch 15/600\n",
      "14/14 [==============================] - 0s 6ms/step - loss: 0.2241 - val_loss: 0.1968\n",
      "Epoch 16/600\n",
      "14/14 [==============================] - 0s 5ms/step - loss: 0.2018 - val_loss: 0.1864\n",
      "Epoch 17/600\n",
      "14/14 [==============================] - 0s 20ms/step - loss: 0.2009 - val_loss: 0.1758\n",
      "Epoch 18/600\n",
      "14/14 [==============================] - 0s 5ms/step - loss: 0.1951 - val_loss: 0.1666\n",
      "Epoch 19/600\n",
      "14/14 [==============================] - 0s 6ms/step - loss: 0.1764 - val_loss: 0.1627\n",
      "Epoch 20/600\n",
      "14/14 [==============================] - 0s 6ms/step - loss: 0.1553 - val_loss: 0.1522\n",
      "Epoch 21/600\n",
      "14/14 [==============================] - 0s 6ms/step - loss: 0.1555 - val_loss: 0.1491\n",
      "Epoch 22/600\n",
      "14/14 [==============================] - 0s 5ms/step - loss: 0.1645 - val_loss: 0.1426\n",
      "Epoch 23/600\n",
      "14/14 [==============================] - 0s 6ms/step - loss: 0.1367 - val_loss: 0.1396\n",
      "Epoch 24/600\n",
      "14/14 [==============================] - 0s 6ms/step - loss: 0.1383 - val_loss: 0.1319\n",
      "Epoch 25/600\n",
      "14/14 [==============================] - 0s 6ms/step - loss: 0.1611 - val_loss: 0.1335\n",
      "Epoch 26/600\n",
      "14/14 [==============================] - 0s 6ms/step - loss: 0.1519 - val_loss: 0.1258\n",
      "Epoch 27/600\n",
      "14/14 [==============================] - 0s 6ms/step - loss: 0.1321 - val_loss: 0.1269\n",
      "Epoch 28/600\n",
      "14/14 [==============================] - 0s 6ms/step - loss: 0.1208 - val_loss: 0.1228\n",
      "Epoch 29/600\n",
      "14/14 [==============================] - 0s 6ms/step - loss: 0.1172 - val_loss: 0.1184\n",
      "Epoch 30/600\n",
      "14/14 [==============================] - 0s 6ms/step - loss: 0.1232 - val_loss: 0.1158\n",
      "Epoch 31/600\n",
      "14/14 [==============================] - 0s 6ms/step - loss: 0.1199 - val_loss: 0.1135\n",
      "Epoch 32/600\n",
      "14/14 [==============================] - 0s 6ms/step - loss: 0.1027 - val_loss: 0.1155\n",
      "Epoch 33/600\n",
      "14/14 [==============================] - 0s 6ms/step - loss: 0.0996 - val_loss: 0.1106\n",
      "Epoch 34/600\n",
      "14/14 [==============================] - 0s 6ms/step - loss: 0.1138 - val_loss: 0.1113\n",
      "Epoch 35/600\n",
      "14/14 [==============================] - 0s 6ms/step - loss: 0.1155 - val_loss: 0.1084\n",
      "Epoch 36/600\n",
      "14/14 [==============================] - 0s 6ms/step - loss: 0.0780 - val_loss: 0.1077\n",
      "Epoch 37/600\n",
      "14/14 [==============================] - 0s 6ms/step - loss: 0.0936 - val_loss: 0.1042\n",
      "Epoch 38/600\n",
      "14/14 [==============================] - 0s 6ms/step - loss: 0.0809 - val_loss: 0.1092\n",
      "Epoch 39/600\n",
      "14/14 [==============================] - 0s 6ms/step - loss: 0.0810 - val_loss: 0.1024\n",
      "Epoch 40/600\n",
      "14/14 [==============================] - 0s 7ms/step - loss: 0.0917 - val_loss: 0.1065\n",
      "Epoch 41/600\n",
      "14/14 [==============================] - 0s 7ms/step - loss: 0.0991 - val_loss: 0.1020\n",
      "Epoch 42/600\n",
      "14/14 [==============================] - 0s 7ms/step - loss: 0.0931 - val_loss: 0.1027\n",
      "Epoch 43/600\n",
      "14/14 [==============================] - 0s 7ms/step - loss: 0.0751 - val_loss: 0.1058\n",
      "Epoch 44/600\n",
      "14/14 [==============================] - 0s 7ms/step - loss: 0.0853 - val_loss: 0.1019\n",
      "Epoch 45/600\n",
      "14/14 [==============================] - 0s 7ms/step - loss: 0.0781 - val_loss: 0.1022\n",
      "Epoch 46/600\n",
      "14/14 [==============================] - 0s 6ms/step - loss: 0.0829 - val_loss: 0.1009\n",
      "Epoch 47/600\n",
      "14/14 [==============================] - 0s 5ms/step - loss: 0.0841 - val_loss: 0.1016\n",
      "Epoch 48/600\n",
      "14/14 [==============================] - 0s 6ms/step - loss: 0.0738 - val_loss: 0.1012\n",
      "Epoch 49/600\n",
      "14/14 [==============================] - 0s 6ms/step - loss: 0.0690 - val_loss: 0.1013\n",
      "Epoch 50/600\n",
      "14/14 [==============================] - 0s 23ms/step - loss: 0.0679 - val_loss: 0.0976\n",
      "Epoch 51/600\n",
      "14/14 [==============================] - 0s 7ms/step - loss: 0.0595 - val_loss: 0.0978\n",
      "Epoch 52/600\n",
      "14/14 [==============================] - 0s 21ms/step - loss: 0.1018 - val_loss: 0.1018\n",
      "Epoch 53/600\n",
      "14/14 [==============================] - 0s 6ms/step - loss: 0.0634 - val_loss: 0.0987\n",
      "Epoch 54/600\n",
      "14/14 [==============================] - 0s 6ms/step - loss: 0.0595 - val_loss: 0.1053\n",
      "Epoch 55/600\n",
      "14/14 [==============================] - 0s 9ms/step - loss: 0.0726 - val_loss: 0.0976\n",
      "Epoch 56/600\n",
      "14/14 [==============================] - 0s 7ms/step - loss: 0.0588 - val_loss: 0.1031\n",
      "Epoch 57/600\n",
      "14/14 [==============================] - 0s 8ms/step - loss: 0.0703 - val_loss: 0.0994\n",
      "Epoch 58/600\n",
      "14/14 [==============================] - 0s 7ms/step - loss: 0.0726 - val_loss: 0.1011\n",
      "Epoch 59/600\n",
      "14/14 [==============================] - 0s 6ms/step - loss: 0.0686 - val_loss: 0.0958\n",
      "Epoch 60/600\n",
      "14/14 [==============================] - 0s 6ms/step - loss: 0.0702 - val_loss: 0.1043\n",
      "Epoch 61/600\n",
      "14/14 [==============================] - 0s 6ms/step - loss: 0.0744 - val_loss: 0.0980\n",
      "Epoch 62/600\n",
      "14/14 [==============================] - 0s 6ms/step - loss: 0.0528 - val_loss: 0.1003\n",
      "Epoch 63/600\n",
      "14/14 [==============================] - 0s 6ms/step - loss: 0.0780 - val_loss: 0.0979\n",
      "Epoch 64/600\n",
      "14/14 [==============================] - 0s 6ms/step - loss: 0.0587 - val_loss: 0.0982\n",
      "Epoch 65/600\n",
      "14/14 [==============================] - 0s 12ms/step - loss: 0.0517 - val_loss: 0.1012\n",
      "Epoch 66/600\n",
      "14/14 [==============================] - 0s 11ms/step - loss: 0.0472 - val_loss: 0.1008\n",
      "Epoch 67/600\n",
      "14/14 [==============================] - 0s 9ms/step - loss: 0.0620 - val_loss: 0.0988\n",
      "Epoch 68/600\n",
      "14/14 [==============================] - 0s 9ms/step - loss: 0.0555 - val_loss: 0.0987\n",
      "Epoch 69/600\n",
      "14/14 [==============================] - 0s 8ms/step - loss: 0.0707 - val_loss: 0.0989\n",
      "Epoch 70/600\n",
      "14/14 [==============================] - 0s 20ms/step - loss: 0.0699 - val_loss: 0.1005\n",
      "Epoch 71/600\n",
      "14/14 [==============================] - 0s 28ms/step - loss: 0.0617 - val_loss: 0.0963\n",
      "Epoch 72/600\n",
      "14/14 [==============================] - 0s 11ms/step - loss: 0.0503 - val_loss: 0.1019\n",
      "Epoch 73/600\n",
      "14/14 [==============================] - 0s 8ms/step - loss: 0.0617 - val_loss: 0.0989\n",
      "Epoch 74/600\n",
      "14/14 [==============================] - 0s 7ms/step - loss: 0.0428 - val_loss: 0.1009\n",
      "Epoch 75/600\n",
      "14/14 [==============================] - 0s 6ms/step - loss: 0.0628 - val_loss: 0.1017\n",
      "Epoch 76/600\n",
      "14/14 [==============================] - 0s 6ms/step - loss: 0.0650 - val_loss: 0.0964\n",
      "Epoch 77/600\n",
      "14/14 [==============================] - 0s 8ms/step - loss: 0.0490 - val_loss: 0.1039\n",
      "Epoch 78/600\n",
      "14/14 [==============================] - 0s 10ms/step - loss: 0.0675 - val_loss: 0.1014\n",
      "Epoch 79/600\n",
      "14/14 [==============================] - 0s 7ms/step - loss: 0.0518 - val_loss: 0.0972\n",
      "Epoch 80/600\n",
      "14/14 [==============================] - 0s 8ms/step - loss: 0.0531 - val_loss: 0.1037\n",
      "Epoch 81/600\n",
      "14/14 [==============================] - 0s 6ms/step - loss: 0.0494 - val_loss: 0.0974\n",
      "Epoch 82/600\n",
      "14/14 [==============================] - 0s 7ms/step - loss: 0.0695 - val_loss: 0.0963\n"
     ]
    },
    {
     "name": "stdout",
     "output_type": "stream",
     "text": [
      "Epoch 83/600\n",
      "14/14 [==============================] - 0s 5ms/step - loss: 0.0442 - val_loss: 0.1036\n",
      "Epoch 84/600\n",
      "14/14 [==============================] - 0s 6ms/step - loss: 0.0497 - val_loss: 0.0999\n",
      "Epoch 85/600\n",
      "14/14 [==============================] - 0s 5ms/step - loss: 0.0454 - val_loss: 0.0998\n",
      "Epoch 86/600\n",
      "14/14 [==============================] - 0s 6ms/step - loss: 0.0511 - val_loss: 0.1021\n",
      "Epoch 87/600\n",
      "14/14 [==============================] - 0s 5ms/step - loss: 0.0644 - val_loss: 0.0976\n",
      "Epoch 88/600\n",
      "14/14 [==============================] - 0s 36ms/step - loss: 0.0555 - val_loss: 0.1024\n",
      "Epoch 89/600\n",
      "14/14 [==============================] - 0s 6ms/step - loss: 0.0436 - val_loss: 0.1074\n",
      "Epoch 90/600\n",
      "14/14 [==============================] - 0s 17ms/step - loss: 0.0492 - val_loss: 0.1006\n",
      "Epoch 91/600\n",
      "14/14 [==============================] - 0s 6ms/step - loss: 0.0569 - val_loss: 0.1100\n",
      "Epoch 92/600\n",
      "14/14 [==============================] - 0s 6ms/step - loss: 0.0412 - val_loss: 0.1019\n",
      "Epoch 93/600\n",
      "14/14 [==============================] - 0s 6ms/step - loss: 0.0416 - val_loss: 0.1072\n",
      "Epoch 94/600\n",
      "14/14 [==============================] - 0s 6ms/step - loss: 0.0421 - val_loss: 0.1020\n",
      "Epoch 95/600\n",
      "14/14 [==============================] - 0s 5ms/step - loss: 0.0539 - val_loss: 0.1058\n",
      "Epoch 96/600\n",
      "14/14 [==============================] - 0s 5ms/step - loss: 0.0543 - val_loss: 0.1021\n",
      "Epoch 97/600\n",
      "14/14 [==============================] - 0s 5ms/step - loss: 0.0476 - val_loss: 0.1033\n",
      "Epoch 98/600\n",
      "14/14 [==============================] - 0s 5ms/step - loss: 0.0359 - val_loss: 0.1033\n",
      "Epoch 99/600\n",
      "14/14 [==============================] - 0s 5ms/step - loss: 0.0540 - val_loss: 0.1104\n",
      "Epoch 100/600\n",
      "14/14 [==============================] - 0s 5ms/step - loss: 0.0525 - val_loss: 0.1005\n",
      "Epoch 101/600\n",
      "14/14 [==============================] - 0s 8ms/step - loss: 0.0575 - val_loss: 0.1057\n",
      "Epoch 102/600\n",
      "14/14 [==============================] - 0s 6ms/step - loss: 0.0418 - val_loss: 0.1033\n",
      "Epoch 103/600\n",
      "14/14 [==============================] - 0s 5ms/step - loss: 0.0454 - val_loss: 0.1056\n",
      "Epoch 104/600\n",
      "14/14 [==============================] - 0s 5ms/step - loss: 0.0431 - val_loss: 0.1082\n",
      "Epoch 105/600\n",
      "14/14 [==============================] - 0s 5ms/step - loss: 0.0419 - val_loss: 0.1059\n",
      "Epoch 106/600\n",
      "14/14 [==============================] - 0s 5ms/step - loss: 0.0412 - val_loss: 0.1038\n",
      "Epoch 107/600\n",
      "14/14 [==============================] - 0s 5ms/step - loss: 0.0477 - val_loss: 0.1049\n",
      "Epoch 108/600\n",
      "14/14 [==============================] - 0s 5ms/step - loss: 0.0326 - val_loss: 0.1065\n",
      "Epoch 109/600\n",
      "14/14 [==============================] - 0s 5ms/step - loss: 0.0458 - val_loss: 0.1051\n",
      "Epoch 110/600\n",
      "14/14 [==============================] - 0s 5ms/step - loss: 0.0517 - val_loss: 0.1070\n",
      "Epoch 111/600\n",
      "14/14 [==============================] - 0s 5ms/step - loss: 0.0640 - val_loss: 0.1036\n",
      "Epoch 112/600\n",
      "14/14 [==============================] - 0s 5ms/step - loss: 0.0598 - val_loss: 0.1063\n",
      "Epoch 113/600\n",
      "14/14 [==============================] - 0s 6ms/step - loss: 0.0485 - val_loss: 0.1041\n",
      "Epoch 114/600\n",
      "14/14 [==============================] - 0s 5ms/step - loss: 0.0471 - val_loss: 0.1046\n",
      "Epoch 115/600\n",
      "14/14 [==============================] - 0s 5ms/step - loss: 0.0428 - val_loss: 0.1026\n",
      "Epoch 116/600\n",
      "14/14 [==============================] - 0s 5ms/step - loss: 0.0375 - val_loss: 0.1117\n",
      "Epoch 117/600\n",
      "14/14 [==============================] - 0s 5ms/step - loss: 0.0467 - val_loss: 0.1029\n",
      "Epoch 118/600\n",
      "14/14 [==============================] - 0s 5ms/step - loss: 0.0419 - val_loss: 0.1089\n",
      "Epoch 119/600\n",
      "14/14 [==============================] - 0s 5ms/step - loss: 0.0398 - val_loss: 0.1064\n",
      "Epoch 120/600\n",
      "14/14 [==============================] - 0s 5ms/step - loss: 0.0419 - val_loss: 0.1078\n",
      "Epoch 121/600\n",
      "14/14 [==============================] - 0s 5ms/step - loss: 0.0398 - val_loss: 0.1062\n",
      "Epoch 122/600\n",
      "14/14 [==============================] - 0s 5ms/step - loss: 0.0412 - val_loss: 0.1099\n",
      "Epoch 123/600\n",
      "14/14 [==============================] - 0s 19ms/step - loss: 0.0359 - val_loss: 0.1084\n",
      "Epoch 124/600\n",
      "14/14 [==============================] - 0s 5ms/step - loss: 0.0470 - val_loss: 0.1062\n",
      "Epoch 125/600\n",
      "14/14 [==============================] - 0s 5ms/step - loss: 0.0346 - val_loss: 0.1120\n",
      "Epoch 126/600\n",
      "14/14 [==============================] - 0s 5ms/step - loss: 0.0448 - val_loss: 0.1080\n",
      "Epoch 127/600\n",
      "14/14 [==============================] - 0s 5ms/step - loss: 0.0451 - val_loss: 0.1092\n",
      "Epoch 128/600\n",
      "14/14 [==============================] - 0s 6ms/step - loss: 0.0448 - val_loss: 0.1124\n",
      "Epoch 129/600\n",
      "14/14 [==============================] - 0s 5ms/step - loss: 0.0620 - val_loss: 0.1066\n",
      "Epoch 130/600\n",
      "14/14 [==============================] - 0s 5ms/step - loss: 0.0573 - val_loss: 0.1092\n",
      "Epoch 131/600\n",
      "14/14 [==============================] - 0s 5ms/step - loss: 0.0397 - val_loss: 0.1119\n",
      "Epoch 132/600\n",
      "14/14 [==============================] - 0s 5ms/step - loss: 0.0320 - val_loss: 0.1112\n",
      "Epoch 133/600\n",
      "14/14 [==============================] - 0s 5ms/step - loss: 0.0352 - val_loss: 0.1096\n",
      "Epoch 134/600\n",
      "14/14 [==============================] - 0s 5ms/step - loss: 0.0440 - val_loss: 0.1095\n",
      "Epoch 135/600\n",
      "14/14 [==============================] - 0s 5ms/step - loss: 0.0297 - val_loss: 0.1064\n",
      "Epoch 136/600\n",
      "14/14 [==============================] - 0s 5ms/step - loss: 0.0404 - val_loss: 0.1169\n",
      "Epoch 137/600\n",
      "14/14 [==============================] - 0s 5ms/step - loss: 0.0476 - val_loss: 0.1037\n",
      "Epoch 138/600\n",
      "14/14 [==============================] - 0s 5ms/step - loss: 0.0388 - val_loss: 0.1149\n",
      "Epoch 139/600\n",
      "14/14 [==============================] - 0s 6ms/step - loss: 0.0457 - val_loss: 0.1114\n",
      "Epoch 140/600\n",
      "14/14 [==============================] - 0s 5ms/step - loss: 0.0493 - val_loss: 0.1079\n",
      "Epoch 141/600\n",
      "14/14 [==============================] - 0s 5ms/step - loss: 0.0381 - val_loss: 0.1127\n",
      "Epoch 142/600\n",
      "14/14 [==============================] - 0s 5ms/step - loss: 0.0459 - val_loss: 0.1095\n",
      "Epoch 143/600\n",
      "14/14 [==============================] - 0s 6ms/step - loss: 0.0437 - val_loss: 0.1082\n",
      "Epoch 144/600\n",
      "14/14 [==============================] - 0s 5ms/step - loss: 0.0338 - val_loss: 0.1128\n",
      "Epoch 145/600\n",
      "14/14 [==============================] - 0s 5ms/step - loss: 0.0486 - val_loss: 0.1112\n",
      "Epoch 146/600\n",
      "14/14 [==============================] - 0s 5ms/step - loss: 0.0422 - val_loss: 0.1183\n",
      "Epoch 147/600\n",
      "14/14 [==============================] - 0s 5ms/step - loss: 0.0412 - val_loss: 0.1121\n",
      "Epoch 148/600\n",
      "14/14 [==============================] - 0s 5ms/step - loss: 0.0354 - val_loss: 0.1147\n",
      "Epoch 149/600\n",
      "14/14 [==============================] - 0s 5ms/step - loss: 0.0296 - val_loss: 0.1136\n",
      "Epoch 150/600\n",
      "14/14 [==============================] - 0s 5ms/step - loss: 0.0564 - val_loss: 0.1172\n",
      "Epoch 151/600\n",
      "14/14 [==============================] - 0s 5ms/step - loss: 0.0324 - val_loss: 0.1115\n",
      "Epoch 152/600\n",
      "14/14 [==============================] - 0s 5ms/step - loss: 0.0479 - val_loss: 0.1134\n",
      "Epoch 153/600\n",
      "14/14 [==============================] - 0s 5ms/step - loss: 0.0373 - val_loss: 0.1089\n",
      "Epoch 154/600\n",
      "14/14 [==============================] - 0s 5ms/step - loss: 0.0459 - val_loss: 0.1119\n",
      "Epoch 155/600\n",
      "14/14 [==============================] - 0s 5ms/step - loss: 0.0499 - val_loss: 0.1097\n",
      "Epoch 156/600\n",
      "14/14 [==============================] - 0s 5ms/step - loss: 0.0553 - val_loss: 0.1119\n",
      "Epoch 157/600\n",
      "14/14 [==============================] - 0s 5ms/step - loss: 0.0280 - val_loss: 0.1184\n",
      "Epoch 158/600\n",
      "14/14 [==============================] - 0s 20ms/step - loss: 0.0408 - val_loss: 0.1083\n",
      "Epoch 159/600\n",
      "14/14 [==============================] - 0s 5ms/step - loss: 0.0328 - val_loss: 0.1135\n",
      "Epoch 160/600\n",
      "14/14 [==============================] - 0s 5ms/step - loss: 0.0297 - val_loss: 0.1152\n",
      "Epoch 161/600\n",
      "14/14 [==============================] - 0s 5ms/step - loss: 0.0440 - val_loss: 0.1215\n",
      "Epoch 162/600\n",
      "14/14 [==============================] - 0s 5ms/step - loss: 0.0479 - val_loss: 0.1101\n",
      "Epoch 163/600\n",
      "14/14 [==============================] - 0s 5ms/step - loss: 0.0532 - val_loss: 0.1140\n",
      "Epoch 164/600\n"
     ]
    },
    {
     "name": "stdout",
     "output_type": "stream",
     "text": [
      "14/14 [==============================] - 0s 5ms/step - loss: 0.0372 - val_loss: 0.1162\n",
      "Epoch 165/600\n",
      "14/14 [==============================] - 0s 5ms/step - loss: 0.0342 - val_loss: 0.1171\n",
      "Epoch 166/600\n",
      "14/14 [==============================] - 0s 5ms/step - loss: 0.0464 - val_loss: 0.1172\n",
      "Epoch 167/600\n",
      "14/14 [==============================] - 0s 5ms/step - loss: 0.0358 - val_loss: 0.1143\n",
      "Epoch 168/600\n",
      "14/14 [==============================] - 0s 5ms/step - loss: 0.0409 - val_loss: 0.1099\n",
      "Epoch 169/600\n",
      "14/14 [==============================] - 0s 6ms/step - loss: 0.0365 - val_loss: 0.1139\n",
      "Epoch 170/600\n",
      "14/14 [==============================] - 0s 7ms/step - loss: 0.0342 - val_loss: 0.1118\n",
      "Epoch 171/600\n",
      "14/14 [==============================] - 0s 6ms/step - loss: 0.0240 - val_loss: 0.1202\n",
      "Epoch 172/600\n",
      "14/14 [==============================] - 0s 6ms/step - loss: 0.0477 - val_loss: 0.1117\n",
      "Epoch 173/600\n",
      "14/14 [==============================] - 0s 6ms/step - loss: 0.0328 - val_loss: 0.1147\n",
      "Epoch 174/600\n",
      "14/14 [==============================] - 0s 6ms/step - loss: 0.0334 - val_loss: 0.1114\n",
      "Epoch 175/600\n",
      "14/14 [==============================] - 0s 6ms/step - loss: 0.0365 - val_loss: 0.1160\n",
      "Epoch 176/600\n",
      "14/14 [==============================] - 0s 6ms/step - loss: 0.0421 - val_loss: 0.1119\n",
      "Epoch 177/600\n",
      "14/14 [==============================] - 0s 5ms/step - loss: 0.0414 - val_loss: 0.1167\n",
      "Epoch 178/600\n",
      "14/14 [==============================] - 0s 5ms/step - loss: 0.0382 - val_loss: 0.1114\n",
      "Epoch 179/600\n",
      "14/14 [==============================] - 0s 5ms/step - loss: 0.0347 - val_loss: 0.1224\n",
      "Epoch 180/600\n",
      "14/14 [==============================] - 0s 5ms/step - loss: 0.0381 - val_loss: 0.1158\n",
      "Epoch 181/600\n",
      "14/14 [==============================] - 0s 7ms/step - loss: 0.0454 - val_loss: 0.1113\n",
      "Epoch 182/600\n",
      "14/14 [==============================] - 0s 5ms/step - loss: 0.0281 - val_loss: 0.1196\n",
      "Epoch 183/600\n",
      "14/14 [==============================] - 0s 5ms/step - loss: 0.0330 - val_loss: 0.1180\n",
      "Epoch 184/600\n",
      "14/14 [==============================] - 0s 5ms/step - loss: 0.0401 - val_loss: 0.1133\n",
      "Epoch 185/600\n",
      "14/14 [==============================] - 0s 5ms/step - loss: 0.0286 - val_loss: 0.1182\n",
      "Epoch 186/600\n",
      "14/14 [==============================] - 0s 6ms/step - loss: 0.0291 - val_loss: 0.1162\n",
      "Epoch 187/600\n",
      "14/14 [==============================] - 0s 9ms/step - loss: 0.0216 - val_loss: 0.1191\n",
      "Epoch 188/600\n",
      "14/14 [==============================] - 0s 7ms/step - loss: 0.0428 - val_loss: 0.1297\n",
      "Epoch 189/600\n",
      "14/14 [==============================] - 0s 7ms/step - loss: 0.0275 - val_loss: 0.1167\n",
      "Epoch 190/600\n",
      "14/14 [==============================] - 0s 6ms/step - loss: 0.0381 - val_loss: 0.1171\n",
      "Epoch 191/600\n",
      "14/14 [==============================] - 0s 6ms/step - loss: 0.0338 - val_loss: 0.1151\n",
      "Epoch 192/600\n",
      "14/14 [==============================] - 0s 7ms/step - loss: 0.0227 - val_loss: 0.1184\n",
      "Epoch 193/600\n",
      "14/14 [==============================] - 0s 20ms/step - loss: 0.0311 - val_loss: 0.1183\n",
      "Epoch 194/600\n",
      "14/14 [==============================] - 0s 5ms/step - loss: 0.0264 - val_loss: 0.1214\n",
      "Epoch 195/600\n",
      "14/14 [==============================] - 0s 5ms/step - loss: 0.0257 - val_loss: 0.1177\n",
      "Epoch 196/600\n",
      "14/14 [==============================] - 0s 5ms/step - loss: 0.0390 - val_loss: 0.1201\n",
      "Epoch 197/600\n",
      "14/14 [==============================] - 0s 5ms/step - loss: 0.0340 - val_loss: 0.1198\n",
      "Epoch 198/600\n",
      "14/14 [==============================] - 0s 5ms/step - loss: 0.0363 - val_loss: 0.1167\n",
      "Epoch 199/600\n",
      "14/14 [==============================] - 0s 7ms/step - loss: 0.0272 - val_loss: 0.1226\n",
      "Epoch 200/600\n",
      "14/14 [==============================] - 0s 5ms/step - loss: 0.0387 - val_loss: 0.1203\n",
      "Epoch 201/600\n",
      "14/14 [==============================] - 0s 5ms/step - loss: 0.0381 - val_loss: 0.1247\n",
      "Epoch 202/600\n",
      "14/14 [==============================] - 0s 5ms/step - loss: 0.0242 - val_loss: 0.1167\n",
      "Epoch 203/600\n",
      "14/14 [==============================] - 0s 5ms/step - loss: 0.0371 - val_loss: 0.1206\n",
      "Epoch 204/600\n",
      "14/14 [==============================] - 0s 5ms/step - loss: 0.0382 - val_loss: 0.1140\n",
      "Epoch 205/600\n",
      "14/14 [==============================] - 0s 5ms/step - loss: 0.0320 - val_loss: 0.1235\n",
      "Epoch 206/600\n",
      "14/14 [==============================] - 0s 5ms/step - loss: 0.0307 - val_loss: 0.1134\n",
      "Epoch 207/600\n",
      "14/14 [==============================] - 0s 25ms/step - loss: 0.0297 - val_loss: 0.1194\n",
      "Epoch 208/600\n",
      "14/14 [==============================] - 0s 5ms/step - loss: 0.0322 - val_loss: 0.1149\n",
      "Epoch 209/600\n",
      "14/14 [==============================] - 0s 5ms/step - loss: 0.0253 - val_loss: 0.1250\n",
      "Epoch 210/600\n",
      "14/14 [==============================] - 0s 5ms/step - loss: 0.0320 - val_loss: 0.1208\n",
      "Epoch 211/600\n",
      "14/14 [==============================] - 0s 5ms/step - loss: 0.0307 - val_loss: 0.1227\n",
      "Epoch 212/600\n",
      "14/14 [==============================] - 0s 5ms/step - loss: 0.0260 - val_loss: 0.1207\n",
      "Epoch 213/600\n",
      "14/14 [==============================] - 0s 9ms/step - loss: 0.0429 - val_loss: 0.1271\n",
      "Epoch 214/600\n",
      "14/14 [==============================] - 0s 7ms/step - loss: 0.0348 - val_loss: 0.1240\n",
      "Epoch 215/600\n",
      "14/14 [==============================] - 0s 7ms/step - loss: 0.0247 - val_loss: 0.1263\n",
      "Epoch 216/600\n",
      "14/14 [==============================] - 0s 8ms/step - loss: 0.0324 - val_loss: 0.1176\n",
      "Epoch 217/600\n",
      "14/14 [==============================] - 0s 5ms/step - loss: 0.0405 - val_loss: 0.1200\n",
      "Epoch 218/600\n",
      "14/14 [==============================] - 0s 5ms/step - loss: 0.0364 - val_loss: 0.1219\n",
      "Epoch 219/600\n",
      "14/14 [==============================] - 0s 5ms/step - loss: 0.0358 - val_loss: 0.1169\n",
      "Epoch 220/600\n",
      "14/14 [==============================] - 0s 5ms/step - loss: 0.0322 - val_loss: 0.1186\n",
      "Epoch 221/600\n",
      "14/14 [==============================] - 0s 5ms/step - loss: 0.0370 - val_loss: 0.1204\n",
      "Epoch 222/600\n",
      "14/14 [==============================] - 0s 5ms/step - loss: 0.0239 - val_loss: 0.1192\n",
      "Epoch 223/600\n",
      "14/14 [==============================] - 0s 5ms/step - loss: 0.0325 - val_loss: 0.1229\n",
      "Epoch 224/600\n",
      "14/14 [==============================] - 0s 5ms/step - loss: 0.0305 - val_loss: 0.1214\n",
      "Epoch 225/600\n",
      "14/14 [==============================] - 0s 5ms/step - loss: 0.0412 - val_loss: 0.1206\n",
      "Epoch 226/600\n",
      "14/14 [==============================] - 0s 5ms/step - loss: 0.0246 - val_loss: 0.1205\n",
      "Epoch 227/600\n",
      "14/14 [==============================] - 0s 5ms/step - loss: 0.0317 - val_loss: 0.1186\n",
      "Epoch 228/600\n",
      "14/14 [==============================] - 0s 5ms/step - loss: 0.0315 - val_loss: 0.1221\n",
      "Epoch 229/600\n",
      "14/14 [==============================] - 0s 19ms/step - loss: 0.0362 - val_loss: 0.1162\n",
      "Epoch 230/600\n",
      "14/14 [==============================] - 0s 5ms/step - loss: 0.0396 - val_loss: 0.1287\n",
      "Epoch 231/600\n",
      "14/14 [==============================] - 0s 5ms/step - loss: 0.0205 - val_loss: 0.1170\n",
      "Epoch 232/600\n",
      "14/14 [==============================] - 0s 5ms/step - loss: 0.0320 - val_loss: 0.1195\n",
      "Epoch 233/600\n",
      "14/14 [==============================] - 0s 5ms/step - loss: 0.0317 - val_loss: 0.1178\n",
      "Epoch 234/600\n",
      "14/14 [==============================] - 0s 5ms/step - loss: 0.0400 - val_loss: 0.1183\n",
      "Epoch 235/600\n",
      "14/14 [==============================] - 0s 5ms/step - loss: 0.0337 - val_loss: 0.1219\n",
      "Epoch 236/600\n",
      "14/14 [==============================] - 0s 5ms/step - loss: 0.0219 - val_loss: 0.1230\n",
      "Epoch 237/600\n",
      "14/14 [==============================] - 0s 5ms/step - loss: 0.0346 - val_loss: 0.1160\n",
      "Epoch 238/600\n",
      "14/14 [==============================] - 0s 5ms/step - loss: 0.0292 - val_loss: 0.1187\n",
      "Epoch 239/600\n",
      "14/14 [==============================] - 0s 5ms/step - loss: 0.0273 - val_loss: 0.1239\n",
      "Epoch 240/600\n",
      "14/14 [==============================] - 0s 5ms/step - loss: 0.0253 - val_loss: 0.1191\n",
      "Epoch 241/600\n",
      "14/14 [==============================] - 0s 5ms/step - loss: 0.0319 - val_loss: 0.1220\n",
      "Epoch 242/600\n",
      "14/14 [==============================] - 0s 5ms/step - loss: 0.0290 - val_loss: 0.1199\n",
      "Epoch 243/600\n",
      "14/14 [==============================] - 0s 5ms/step - loss: 0.0196 - val_loss: 0.1239\n",
      "Epoch 244/600\n",
      "14/14 [==============================] - 0s 5ms/step - loss: 0.0263 - val_loss: 0.1174\n",
      "Epoch 245/600\n"
     ]
    },
    {
     "name": "stdout",
     "output_type": "stream",
     "text": [
      "14/14 [==============================] - 0s 5ms/step - loss: 0.0290 - val_loss: 0.1188\n",
      "Epoch 246/600\n",
      "14/14 [==============================] - 0s 5ms/step - loss: 0.0241 - val_loss: 0.1210\n",
      "Epoch 247/600\n",
      "14/14 [==============================] - 0s 5ms/step - loss: 0.0293 - val_loss: 0.1203\n",
      "Epoch 248/600\n",
      "14/14 [==============================] - 0s 5ms/step - loss: 0.0169 - val_loss: 0.1195\n",
      "Epoch 249/600\n",
      "14/14 [==============================] - 0s 6ms/step - loss: 0.0234 - val_loss: 0.1189\n",
      "Epoch 250/600\n",
      "14/14 [==============================] - 0s 5ms/step - loss: 0.0268 - val_loss: 0.1155\n",
      "Epoch 251/600\n",
      "14/14 [==============================] - 0s 5ms/step - loss: 0.0309 - val_loss: 0.1204\n",
      "Epoch 252/600\n",
      "14/14 [==============================] - 0s 5ms/step - loss: 0.0345 - val_loss: 0.1211\n",
      "Epoch 253/600\n",
      "14/14 [==============================] - 0s 5ms/step - loss: 0.0278 - val_loss: 0.1229\n",
      "Epoch 254/600\n",
      "14/14 [==============================] - 0s 5ms/step - loss: 0.0249 - val_loss: 0.1165\n",
      "Epoch 255/600\n",
      "14/14 [==============================] - 0s 5ms/step - loss: 0.0287 - val_loss: 0.1196\n",
      "Epoch 256/600\n",
      "14/14 [==============================] - 0s 5ms/step - loss: 0.0386 - val_loss: 0.1214\n",
      "Epoch 257/600\n",
      "14/14 [==============================] - 0s 5ms/step - loss: 0.0204 - val_loss: 0.1241\n",
      "Epoch 258/600\n",
      "14/14 [==============================] - 0s 5ms/step - loss: 0.0284 - val_loss: 0.1212\n",
      "Epoch 259/600\n",
      "14/14 [==============================] - 0s 5ms/step - loss: 0.0296 - val_loss: 0.1229\n",
      "Epoch 260/600\n",
      "14/14 [==============================] - 0s 5ms/step - loss: 0.0267 - val_loss: 0.1250\n",
      "Epoch 261/600\n",
      "14/14 [==============================] - 0s 5ms/step - loss: 0.0313 - val_loss: 0.1177\n",
      "Epoch 262/600\n",
      "14/14 [==============================] - 0s 5ms/step - loss: 0.0303 - val_loss: 0.1304\n",
      "Epoch 263/600\n",
      "14/14 [==============================] - 0s 5ms/step - loss: 0.0280 - val_loss: 0.1180\n",
      "Epoch 264/600\n",
      "14/14 [==============================] - 0s 36ms/step - loss: 0.0253 - val_loss: 0.1240\n",
      "Epoch 265/600\n",
      "14/14 [==============================] - 0s 13ms/step - loss: 0.0301 - val_loss: 0.1208\n",
      "Epoch 266/600\n",
      "14/14 [==============================] - 0s 15ms/step - loss: 0.0179 - val_loss: 0.1274\n",
      "Epoch 267/600\n",
      "14/14 [==============================] - 0s 14ms/step - loss: 0.0236 - val_loss: 0.1216\n",
      "Epoch 268/600\n",
      "14/14 [==============================] - 0s 5ms/step - loss: 0.0184 - val_loss: 0.1224\n",
      "Epoch 269/600\n",
      "14/14 [==============================] - 0s 5ms/step - loss: 0.0254 - val_loss: 0.1215\n",
      "Epoch 270/600\n",
      "14/14 [==============================] - 0s 5ms/step - loss: 0.0216 - val_loss: 0.1170\n",
      "Epoch 271/600\n",
      "14/14 [==============================] - 0s 5ms/step - loss: 0.0245 - val_loss: 0.1278\n",
      "Epoch 272/600\n",
      "14/14 [==============================] - 0s 5ms/step - loss: 0.0252 - val_loss: 0.1227\n",
      "Epoch 273/600\n",
      "14/14 [==============================] - 0s 5ms/step - loss: 0.0235 - val_loss: 0.1227\n",
      "Epoch 274/600\n",
      "14/14 [==============================] - 0s 5ms/step - loss: 0.0227 - val_loss: 0.1280\n",
      "Epoch 275/600\n",
      "14/14 [==============================] - 0s 7ms/step - loss: 0.0147 - val_loss: 0.1275\n",
      "Epoch 276/600\n",
      "14/14 [==============================] - 0s 6ms/step - loss: 0.0352 - val_loss: 0.1223\n",
      "Epoch 277/600\n",
      "14/14 [==============================] - 0s 6ms/step - loss: 0.0293 - val_loss: 0.1231\n",
      "Epoch 278/600\n",
      "14/14 [==============================] - 0s 6ms/step - loss: 0.0241 - val_loss: 0.1247\n",
      "Epoch 279/600\n",
      "14/14 [==============================] - 0s 16ms/step - loss: 0.0245 - val_loss: 0.1229\n",
      "Epoch 280/600\n",
      "14/14 [==============================] - 0s 19ms/step - loss: 0.0214 - val_loss: 0.1225\n",
      "Epoch 281/600\n",
      "14/14 [==============================] - 0s 12ms/step - loss: 0.0162 - val_loss: 0.1266\n",
      "Epoch 282/600\n",
      "14/14 [==============================] - 0s 8ms/step - loss: 0.0271 - val_loss: 0.1223\n",
      "Epoch 283/600\n",
      "14/14 [==============================] - 0s 11ms/step - loss: 0.0276 - val_loss: 0.1237\n",
      "Epoch 284/600\n",
      "14/14 [==============================] - 0s 8ms/step - loss: 0.0232 - val_loss: 0.1184\n",
      "Epoch 285/600\n",
      "14/14 [==============================] - 0s 17ms/step - loss: 0.0196 - val_loss: 0.1275\n",
      "Epoch 286/600\n",
      "14/14 [==============================] - 0s 6ms/step - loss: 0.0331 - val_loss: 0.1204\n",
      "Epoch 287/600\n",
      "14/14 [==============================] - 0s 23ms/step - loss: 0.0200 - val_loss: 0.1281\n",
      "Epoch 288/600\n",
      "14/14 [==============================] - 0s 23ms/step - loss: 0.0345 - val_loss: 0.1250\n",
      "Epoch 289/600\n",
      "14/14 [==============================] - 0s 21ms/step - loss: 0.0159 - val_loss: 0.1210\n",
      "Epoch 290/600\n",
      "14/14 [==============================] - 0s 6ms/step - loss: 0.0188 - val_loss: 0.1231\n",
      "Epoch 291/600\n",
      "14/14 [==============================] - 0s 5ms/step - loss: 0.0224 - val_loss: 0.1249\n",
      "Epoch 292/600\n",
      "14/14 [==============================] - 0s 5ms/step - loss: 0.0206 - val_loss: 0.1236\n",
      "Epoch 293/600\n",
      "14/14 [==============================] - 0s 5ms/step - loss: 0.0298 - val_loss: 0.1176\n",
      "Epoch 294/600\n",
      "14/14 [==============================] - 0s 5ms/step - loss: 0.0262 - val_loss: 0.1231\n",
      "Epoch 295/600\n",
      "14/14 [==============================] - 0s 5ms/step - loss: 0.0195 - val_loss: 0.1228\n",
      "Epoch 296/600\n",
      "14/14 [==============================] - 0s 5ms/step - loss: 0.0225 - val_loss: 0.1242\n",
      "Epoch 297/600\n",
      "14/14 [==============================] - 0s 6ms/step - loss: 0.0223 - val_loss: 0.1294\n",
      "Epoch 298/600\n",
      "14/14 [==============================] - 0s 7ms/step - loss: 0.0323 - val_loss: 0.1169\n",
      "Epoch 299/600\n",
      "14/14 [==============================] - 0s 22ms/step - loss: 0.0269 - val_loss: 0.1185\n",
      "Epoch 300/600\n",
      "14/14 [==============================] - 0s 5ms/step - loss: 0.0226 - val_loss: 0.1243\n",
      "Epoch 301/600\n",
      "14/14 [==============================] - 0s 5ms/step - loss: 0.0294 - val_loss: 0.1176\n",
      "Epoch 302/600\n",
      "14/14 [==============================] - 0s 5ms/step - loss: 0.0258 - val_loss: 0.1197\n",
      "Epoch 303/600\n",
      "14/14 [==============================] - 0s 5ms/step - loss: 0.0200 - val_loss: 0.1223\n",
      "Epoch 304/600\n",
      "14/14 [==============================] - 0s 5ms/step - loss: 0.0167 - val_loss: 0.1203\n",
      "Epoch 305/600\n",
      "14/14 [==============================] - 0s 5ms/step - loss: 0.0221 - val_loss: 0.1186\n",
      "Epoch 306/600\n",
      "14/14 [==============================] - 0s 5ms/step - loss: 0.0280 - val_loss: 0.1223\n",
      "Epoch 307/600\n",
      "14/14 [==============================] - 0s 7ms/step - loss: 0.0187 - val_loss: 0.1210\n",
      "Epoch 308/600\n",
      "14/14 [==============================] - 0s 5ms/step - loss: 0.0232 - val_loss: 0.1233\n",
      "Epoch 309/600\n",
      "14/14 [==============================] - 0s 5ms/step - loss: 0.0249 - val_loss: 0.1189\n",
      "Epoch 310/600\n",
      "14/14 [==============================] - 0s 6ms/step - loss: 0.0317 - val_loss: 0.1194\n",
      "Epoch 311/600\n",
      "14/14 [==============================] - 0s 5ms/step - loss: 0.0284 - val_loss: 0.1170\n",
      "Epoch 312/600\n",
      "14/14 [==============================] - 0s 5ms/step - loss: 0.0168 - val_loss: 0.1247\n",
      "Epoch 313/600\n",
      "14/14 [==============================] - 0s 5ms/step - loss: 0.0267 - val_loss: 0.1208\n",
      "Epoch 314/600\n",
      "14/14 [==============================] - 0s 5ms/step - loss: 0.0194 - val_loss: 0.1225\n",
      "Epoch 315/600\n",
      "14/14 [==============================] - 0s 5ms/step - loss: 0.0205 - val_loss: 0.1291\n",
      "Epoch 316/600\n",
      "14/14 [==============================] - 0s 7ms/step - loss: 0.0256 - val_loss: 0.1219\n",
      "Epoch 317/600\n",
      "14/14 [==============================] - 0s 6ms/step - loss: 0.0236 - val_loss: 0.1210\n",
      "Epoch 318/600\n",
      "14/14 [==============================] - 0s 5ms/step - loss: 0.0290 - val_loss: 0.1245\n",
      "Epoch 319/600\n",
      "14/14 [==============================] - 0s 5ms/step - loss: 0.0199 - val_loss: 0.1290\n",
      "Epoch 320/600\n",
      "14/14 [==============================] - 0s 5ms/step - loss: 0.0301 - val_loss: 0.1229\n",
      "Epoch 321/600\n",
      "14/14 [==============================] - 0s 5ms/step - loss: 0.0243 - val_loss: 0.1235\n",
      "Epoch 322/600\n",
      "14/14 [==============================] - 0s 6ms/step - loss: 0.0208 - val_loss: 0.1279\n",
      "Epoch 323/600\n",
      "14/14 [==============================] - 0s 6ms/step - loss: 0.0234 - val_loss: 0.1235\n",
      "Epoch 324/600\n",
      "14/14 [==============================] - 0s 18ms/step - loss: 0.0167 - val_loss: 0.1251\n",
      "Epoch 325/600\n",
      "14/14 [==============================] - 0s 6ms/step - loss: 0.0231 - val_loss: 0.1272\n",
      "Epoch 326/600\n"
     ]
    },
    {
     "name": "stdout",
     "output_type": "stream",
     "text": [
      "14/14 [==============================] - 0s 5ms/step - loss: 0.0174 - val_loss: 0.1277\n",
      "Epoch 327/600\n",
      "14/14 [==============================] - 0s 5ms/step - loss: 0.0287 - val_loss: 0.1222\n",
      "Epoch 328/600\n",
      "14/14 [==============================] - 0s 8ms/step - loss: 0.0218 - val_loss: 0.1237\n",
      "Epoch 329/600\n",
      "14/14 [==============================] - 0s 28ms/step - loss: 0.0215 - val_loss: 0.1279\n",
      "Epoch 330/600\n",
      "14/14 [==============================] - 0s 11ms/step - loss: 0.0192 - val_loss: 0.1246\n",
      "Epoch 331/600\n",
      "14/14 [==============================] - 0s 14ms/step - loss: 0.0188 - val_loss: 0.1251\n",
      "Epoch 332/600\n",
      "14/14 [==============================] - 0s 17ms/step - loss: 0.0277 - val_loss: 0.1245\n",
      "Epoch 333/600\n",
      "14/14 [==============================] - 0s 18ms/step - loss: 0.0168 - val_loss: 0.1233\n",
      "Epoch 334/600\n",
      "14/14 [==============================] - 0s 31ms/step - loss: 0.0189 - val_loss: 0.1274\n",
      "Epoch 335/600\n",
      "14/14 [==============================] - 0s 5ms/step - loss: 0.0279 - val_loss: 0.1237\n",
      "Epoch 336/600\n",
      "14/14 [==============================] - 0s 5ms/step - loss: 0.0210 - val_loss: 0.1242\n",
      "Epoch 337/600\n",
      "14/14 [==============================] - 0s 5ms/step - loss: 0.0200 - val_loss: 0.1355\n",
      "Epoch 338/600\n",
      "14/14 [==============================] - 0s 5ms/step - loss: 0.0162 - val_loss: 0.1251\n",
      "Epoch 339/600\n",
      "14/14 [==============================] - 0s 6ms/step - loss: 0.0208 - val_loss: 0.1206\n",
      "Epoch 340/600\n",
      "14/14 [==============================] - 0s 6ms/step - loss: 0.0222 - val_loss: 0.1312\n",
      "Epoch 341/600\n",
      "14/14 [==============================] - 0s 6ms/step - loss: 0.0225 - val_loss: 0.1243\n",
      "Epoch 342/600\n",
      "14/14 [==============================] - 0s 5ms/step - loss: 0.0205 - val_loss: 0.1304\n",
      "Epoch 343/600\n",
      "14/14 [==============================] - 0s 5ms/step - loss: 0.0261 - val_loss: 0.1346\n",
      "Epoch 344/600\n",
      "14/14 [==============================] - 0s 5ms/step - loss: 0.0205 - val_loss: 0.1262\n",
      "Epoch 345/600\n",
      "14/14 [==============================] - 0s 5ms/step - loss: 0.0154 - val_loss: 0.1327\n",
      "Epoch 346/600\n",
      "14/14 [==============================] - 0s 5ms/step - loss: 0.0133 - val_loss: 0.1273\n",
      "Epoch 347/600\n",
      "14/14 [==============================] - 0s 5ms/step - loss: 0.0153 - val_loss: 0.1337\n",
      "Epoch 348/600\n",
      "14/14 [==============================] - 0s 5ms/step - loss: 0.0250 - val_loss: 0.1299\n",
      "Epoch 349/600\n",
      "14/14 [==============================] - 0s 5ms/step - loss: 0.0212 - val_loss: 0.1310\n",
      "Epoch 350/600\n",
      "14/14 [==============================] - 0s 5ms/step - loss: 0.0177 - val_loss: 0.1354\n",
      "Epoch 351/600\n",
      "14/14 [==============================] - 0s 5ms/step - loss: 0.0143 - val_loss: 0.1328\n",
      "Epoch 352/600\n",
      "14/14 [==============================] - 0s 5ms/step - loss: 0.0152 - val_loss: 0.1355\n",
      "Epoch 353/600\n",
      "14/14 [==============================] - 0s 5ms/step - loss: 0.0229 - val_loss: 0.1339\n",
      "Epoch 354/600\n",
      "14/14 [==============================] - 0s 5ms/step - loss: 0.0213 - val_loss: 0.1336\n",
      "Epoch 355/600\n",
      "14/14 [==============================] - 0s 5ms/step - loss: 0.0172 - val_loss: 0.1394\n",
      "Epoch 356/600\n",
      "14/14 [==============================] - 0s 5ms/step - loss: 0.0226 - val_loss: 0.1328\n",
      "Epoch 357/600\n",
      "14/14 [==============================] - 0s 5ms/step - loss: 0.0196 - val_loss: 0.1401\n",
      "Epoch 358/600\n",
      "14/14 [==============================] - 0s 5ms/step - loss: 0.0185 - val_loss: 0.1402\n",
      "Epoch 359/600\n",
      "14/14 [==============================] - 0s 5ms/step - loss: 0.0169 - val_loss: 0.1356\n",
      "Epoch 360/600\n",
      "14/14 [==============================] - 0s 5ms/step - loss: 0.0177 - val_loss: 0.1394\n",
      "Epoch 361/600\n",
      "14/14 [==============================] - 0s 5ms/step - loss: 0.0151 - val_loss: 0.1363\n",
      "Epoch 362/600\n",
      "14/14 [==============================] - 0s 5ms/step - loss: 0.0175 - val_loss: 0.1387\n",
      "Epoch 363/600\n",
      "14/14 [==============================] - 0s 5ms/step - loss: 0.0236 - val_loss: 0.1376\n",
      "Epoch 364/600\n",
      "14/14 [==============================] - 0s 5ms/step - loss: 0.0182 - val_loss: 0.1348\n",
      "Epoch 365/600\n",
      "14/14 [==============================] - 0s 5ms/step - loss: 0.0127 - val_loss: 0.1320\n",
      "Epoch 366/600\n",
      "14/14 [==============================] - 0s 5ms/step - loss: 0.0146 - val_loss: 0.1379\n",
      "Epoch 367/600\n",
      "14/14 [==============================] - 0s 5ms/step - loss: 0.0195 - val_loss: 0.1440\n",
      "Epoch 368/600\n",
      "14/14 [==============================] - 0s 5ms/step - loss: 0.0166 - val_loss: 0.1392\n",
      "Epoch 369/600\n",
      "14/14 [==============================] - 0s 5ms/step - loss: 0.0156 - val_loss: 0.1386\n",
      "Epoch 370/600\n",
      "14/14 [==============================] - 0s 19ms/step - loss: 0.0153 - val_loss: 0.1391\n",
      "Epoch 371/600\n",
      "14/14 [==============================] - 0s 6ms/step - loss: 0.0187 - val_loss: 0.1401\n",
      "Epoch 372/600\n",
      "14/14 [==============================] - 0s 6ms/step - loss: 0.0204 - val_loss: 0.1378\n",
      "Epoch 373/600\n",
      "14/14 [==============================] - 0s 6ms/step - loss: 0.0219 - val_loss: 0.1347\n",
      "Epoch 374/600\n",
      "14/14 [==============================] - 0s 6ms/step - loss: 0.0225 - val_loss: 0.1416\n",
      "Epoch 375/600\n",
      "14/14 [==============================] - 0s 6ms/step - loss: 0.0210 - val_loss: 0.1365\n",
      "Epoch 376/600\n",
      "14/14 [==============================] - 0s 6ms/step - loss: 0.0232 - val_loss: 0.1391\n",
      "Epoch 377/600\n",
      "14/14 [==============================] - 0s 6ms/step - loss: 0.0231 - val_loss: 0.1386\n",
      "Epoch 378/600\n",
      "14/14 [==============================] - 0s 5ms/step - loss: 0.0205 - val_loss: 0.1346\n",
      "Epoch 379/600\n",
      "14/14 [==============================] - 0s 6ms/step - loss: 0.0159 - val_loss: 0.1370\n",
      "Epoch 380/600\n",
      "14/14 [==============================] - 0s 6ms/step - loss: 0.0127 - val_loss: 0.1455\n",
      "Epoch 381/600\n",
      "14/14 [==============================] - 0s 5ms/step - loss: 0.0215 - val_loss: 0.1459\n",
      "Epoch 382/600\n",
      "14/14 [==============================] - 0s 5ms/step - loss: 0.0187 - val_loss: 0.1458\n",
      "Epoch 383/600\n",
      "14/14 [==============================] - 0s 5ms/step - loss: 0.0175 - val_loss: 0.1423\n",
      "Epoch 384/600\n",
      "14/14 [==============================] - 0s 5ms/step - loss: 0.0139 - val_loss: 0.1443\n",
      "Epoch 385/600\n",
      "14/14 [==============================] - 0s 5ms/step - loss: 0.0210 - val_loss: 0.1466\n",
      "Epoch 386/600\n",
      "14/14 [==============================] - 0s 5ms/step - loss: 0.0164 - val_loss: 0.1483\n",
      "Epoch 387/600\n",
      "14/14 [==============================] - 0s 5ms/step - loss: 0.0136 - val_loss: 0.1429\n",
      "Epoch 388/600\n",
      "14/14 [==============================] - 0s 5ms/step - loss: 0.0119 - val_loss: 0.1439\n",
      "Epoch 389/600\n",
      "14/14 [==============================] - 0s 5ms/step - loss: 0.0177 - val_loss: 0.1454\n",
      "Epoch 390/600\n",
      "14/14 [==============================] - 0s 5ms/step - loss: 0.0132 - val_loss: 0.1451\n",
      "Epoch 391/600\n",
      "14/14 [==============================] - 0s 5ms/step - loss: 0.0139 - val_loss: 0.1531\n",
      "Epoch 392/600\n",
      "14/14 [==============================] - 0s 6ms/step - loss: 0.0117 - val_loss: 0.1509\n",
      "Epoch 393/600\n",
      "14/14 [==============================] - 0s 5ms/step - loss: 0.0201 - val_loss: 0.1468\n",
      "Epoch 394/600\n",
      "14/14 [==============================] - 0s 5ms/step - loss: 0.0150 - val_loss: 0.1449\n",
      "Epoch 395/600\n",
      "14/14 [==============================] - 0s 6ms/step - loss: 0.0138 - val_loss: 0.1466\n",
      "Epoch 396/600\n",
      "14/14 [==============================] - 0s 6ms/step - loss: 0.0183 - val_loss: 0.1456\n",
      "Epoch 397/600\n",
      "14/14 [==============================] - 0s 5ms/step - loss: 0.0168 - val_loss: 0.1475\n",
      "Epoch 398/600\n",
      "14/14 [==============================] - 0s 5ms/step - loss: 0.0259 - val_loss: 0.1525\n",
      "Epoch 399/600\n",
      "14/14 [==============================] - 0s 5ms/step - loss: 0.0124 - val_loss: 0.1492\n",
      "Epoch 400/600\n",
      "14/14 [==============================] - 0s 6ms/step - loss: 0.0165 - val_loss: 0.1464\n",
      "Epoch 401/600\n",
      "14/14 [==============================] - 0s 8ms/step - loss: 0.0229 - val_loss: 0.1500\n",
      "Epoch 402/600\n",
      "14/14 [==============================] - 0s 5ms/step - loss: 0.0205 - val_loss: 0.1479\n",
      "Epoch 403/600\n",
      "14/14 [==============================] - 0s 5ms/step - loss: 0.0165 - val_loss: 0.1530\n",
      "Epoch 404/600\n",
      "14/14 [==============================] - 0s 5ms/step - loss: 0.0097 - val_loss: 0.1547\n",
      "Epoch 405/600\n",
      "14/14 [==============================] - 0s 22ms/step - loss: 0.0144 - val_loss: 0.1547\n",
      "Epoch 406/600\n",
      "14/14 [==============================] - 0s 6ms/step - loss: 0.0119 - val_loss: 0.1592\n",
      "Epoch 407/600\n"
     ]
    },
    {
     "name": "stdout",
     "output_type": "stream",
     "text": [
      "14/14 [==============================] - 0s 7ms/step - loss: 0.0157 - val_loss: 0.1627\n",
      "Epoch 408/600\n",
      "14/14 [==============================] - 0s 6ms/step - loss: 0.0122 - val_loss: 0.1633\n",
      "Epoch 409/600\n",
      "14/14 [==============================] - 0s 7ms/step - loss: 0.0152 - val_loss: 0.1725\n",
      "Epoch 410/600\n",
      "14/14 [==============================] - 0s 7ms/step - loss: 0.0134 - val_loss: 0.1680\n",
      "Epoch 411/600\n",
      "14/14 [==============================] - 0s 6ms/step - loss: 0.0141 - val_loss: 0.1582\n",
      "Epoch 412/600\n",
      "14/14 [==============================] - 0s 6ms/step - loss: 0.0156 - val_loss: 0.1641\n",
      "Epoch 413/600\n",
      "14/14 [==============================] - 0s 5ms/step - loss: 0.0142 - val_loss: 0.1552\n",
      "Epoch 414/600\n",
      "14/14 [==============================] - 0s 5ms/step - loss: 0.0121 - val_loss: 0.1575\n",
      "Epoch 415/600\n",
      "14/14 [==============================] - 0s 5ms/step - loss: 0.0137 - val_loss: 0.1624\n",
      "Epoch 416/600\n",
      "14/14 [==============================] - 0s 5ms/step - loss: 0.0121 - val_loss: 0.1706\n",
      "Epoch 417/600\n",
      "14/14 [==============================] - 0s 5ms/step - loss: 0.0125 - val_loss: 0.1649\n",
      "Epoch 418/600\n",
      "14/14 [==============================] - 0s 5ms/step - loss: 0.0158 - val_loss: 0.1663\n",
      "Epoch 419/600\n",
      "14/14 [==============================] - 0s 5ms/step - loss: 0.0250 - val_loss: 0.1641\n",
      "Epoch 420/600\n",
      "14/14 [==============================] - 0s 5ms/step - loss: 0.0159 - val_loss: 0.1652\n",
      "Epoch 421/600\n",
      "14/14 [==============================] - 0s 14ms/step - loss: 0.0141 - val_loss: 0.1694\n",
      "Epoch 422/600\n",
      "14/14 [==============================] - 0s 13ms/step - loss: 0.0146 - val_loss: 0.1682\n",
      "Epoch 423/600\n",
      "14/14 [==============================] - 0s 14ms/step - loss: 0.0148 - val_loss: 0.1630\n",
      "Epoch 424/600\n",
      "14/14 [==============================] - 0s 10ms/step - loss: 0.0126 - val_loss: 0.1686\n",
      "Epoch 425/600\n",
      "14/14 [==============================] - 0s 7ms/step - loss: 0.0139 - val_loss: 0.1707\n",
      "Epoch 426/600\n",
      "14/14 [==============================] - 0s 14ms/step - loss: 0.0147 - val_loss: 0.1706\n",
      "Epoch 427/600\n",
      "14/14 [==============================] - 0s 9ms/step - loss: 0.0206 - val_loss: 0.1708\n",
      "Epoch 428/600\n",
      "14/14 [==============================] - 0s 9ms/step - loss: 0.0106 - val_loss: 0.1690\n",
      "Epoch 429/600\n",
      "14/14 [==============================] - 0s 9ms/step - loss: 0.0211 - val_loss: 0.1680\n",
      "Epoch 430/600\n",
      "14/14 [==============================] - 0s 8ms/step - loss: 0.0127 - val_loss: 0.1702\n",
      "Epoch 431/600\n",
      "14/14 [==============================] - 0s 17ms/step - loss: 0.0213 - val_loss: 0.1748\n",
      "Epoch 432/600\n",
      "14/14 [==============================] - 0s 14ms/step - loss: 0.0117 - val_loss: 0.1670\n",
      "Epoch 433/600\n",
      "14/14 [==============================] - 0s 12ms/step - loss: 0.0104 - val_loss: 0.1618\n",
      "Epoch 434/600\n",
      "14/14 [==============================] - 0s 9ms/step - loss: 0.0125 - val_loss: 0.1721\n",
      "Epoch 435/600\n",
      "14/14 [==============================] - 0s 12ms/step - loss: 0.0105 - val_loss: 0.1790\n",
      "Epoch 436/600\n",
      "14/14 [==============================] - 1s 41ms/step - loss: 0.0095 - val_loss: 0.1782\n",
      "Epoch 437/600\n",
      "14/14 [==============================] - 0s 11ms/step - loss: 0.0135 - val_loss: 0.1806\n",
      "Epoch 438/600\n",
      "14/14 [==============================] - 0s 10ms/step - loss: 0.0101 - val_loss: 0.1815\n",
      "Epoch 439/600\n",
      "14/14 [==============================] - 0s 7ms/step - loss: 0.0107 - val_loss: 0.1838\n",
      "Epoch 440/600\n",
      "14/14 [==============================] - 0s 21ms/step - loss: 0.0086 - val_loss: 0.1806\n",
      "Epoch 441/600\n",
      "14/14 [==============================] - 0s 7ms/step - loss: 0.0163 - val_loss: 0.1870\n",
      "Epoch 442/600\n",
      "14/14 [==============================] - 0s 10ms/step - loss: 0.0149 - val_loss: 0.1845\n",
      "Epoch 443/600\n",
      "14/14 [==============================] - 0s 10ms/step - loss: 0.0130 - val_loss: 0.1860\n",
      "Epoch 444/600\n",
      "14/14 [==============================] - 0s 11ms/step - loss: 0.0107 - val_loss: 0.1869\n",
      "Epoch 445/600\n",
      "14/14 [==============================] - 0s 9ms/step - loss: 0.0149 - val_loss: 0.1794\n",
      "Epoch 446/600\n",
      "14/14 [==============================] - 0s 9ms/step - loss: 0.0137 - val_loss: 0.1810\n",
      "Epoch 447/600\n",
      "14/14 [==============================] - 0s 7ms/step - loss: 0.0149 - val_loss: 0.1852\n",
      "Epoch 448/600\n",
      "14/14 [==============================] - 0s 8ms/step - loss: 0.0119 - val_loss: 0.1904\n",
      "Epoch 449/600\n",
      "14/14 [==============================] - 0s 6ms/step - loss: 0.0127 - val_loss: 0.1915\n",
      "Epoch 450/600\n",
      "14/14 [==============================] - 0s 7ms/step - loss: 0.0134 - val_loss: 0.1883\n",
      "Epoch 451/600\n",
      "14/14 [==============================] - 0s 6ms/step - loss: 0.0130 - val_loss: 0.1886\n",
      "Epoch 452/600\n",
      "14/14 [==============================] - 0s 7ms/step - loss: 0.0086 - val_loss: 0.1870\n",
      "Epoch 453/600\n",
      "14/14 [==============================] - 0s 7ms/step - loss: 0.0149 - val_loss: 0.1931\n",
      "Epoch 454/600\n",
      "14/14 [==============================] - 0s 7ms/step - loss: 0.0132 - val_loss: 0.1941\n",
      "Epoch 455/600\n",
      "14/14 [==============================] - 0s 6ms/step - loss: 0.0086 - val_loss: 0.1934\n",
      "Epoch 456/600\n",
      "14/14 [==============================] - 0s 11ms/step - loss: 0.0101 - val_loss: 0.1910\n",
      "Epoch 457/600\n",
      "14/14 [==============================] - 0s 8ms/step - loss: 0.0090 - val_loss: 0.1927\n",
      "Epoch 458/600\n",
      "14/14 [==============================] - 0s 13ms/step - loss: 0.0121 - val_loss: 0.1968\n",
      "Epoch 459/600\n",
      "14/14 [==============================] - 0s 10ms/step - loss: 0.0149 - val_loss: 0.2031\n",
      "Epoch 460/600\n",
      "14/14 [==============================] - 0s 8ms/step - loss: 0.0126 - val_loss: 0.1970\n",
      "Epoch 461/600\n",
      "14/14 [==============================] - 0s 7ms/step - loss: 0.0080 - val_loss: 0.1986\n",
      "Epoch 462/600\n",
      "14/14 [==============================] - 0s 6ms/step - loss: 0.0152 - val_loss: 0.2207\n",
      "Epoch 463/600\n",
      "14/14 [==============================] - 0s 6ms/step - loss: 0.0113 - val_loss: 0.2113\n",
      "Epoch 464/600\n",
      "14/14 [==============================] - 0s 6ms/step - loss: 0.0115 - val_loss: 0.2025\n",
      "Epoch 465/600\n",
      "14/14 [==============================] - 0s 6ms/step - loss: 0.0118 - val_loss: 0.2028\n",
      "Epoch 466/600\n",
      "14/14 [==============================] - 0s 6ms/step - loss: 0.0083 - val_loss: 0.1940\n",
      "Epoch 467/600\n",
      "14/14 [==============================] - 0s 6ms/step - loss: 0.0211 - val_loss: 0.2212\n",
      "Epoch 468/600\n",
      "14/14 [==============================] - 0s 7ms/step - loss: 0.0135 - val_loss: 0.2057\n",
      "Epoch 469/600\n",
      "14/14 [==============================] - 0s 8ms/step - loss: 0.0168 - val_loss: 0.2081\n",
      "Epoch 470/600\n",
      "14/14 [==============================] - 0s 7ms/step - loss: 0.0103 - val_loss: 0.2064\n",
      "Epoch 471/600\n",
      "14/14 [==============================] - 0s 6ms/step - loss: 0.0112 - val_loss: 0.2067\n",
      "Epoch 472/600\n",
      "14/14 [==============================] - 0s 6ms/step - loss: 0.0135 - val_loss: 0.1974\n",
      "Epoch 473/600\n",
      "14/14 [==============================] - 0s 6ms/step - loss: 0.0101 - val_loss: 0.2054\n",
      "Epoch 474/600\n",
      "14/14 [==============================] - 0s 6ms/step - loss: 0.0097 - val_loss: 0.2118\n",
      "Epoch 475/600\n",
      "14/14 [==============================] - 0s 21ms/step - loss: 0.0109 - val_loss: 0.2080\n",
      "Epoch 476/600\n",
      "14/14 [==============================] - 0s 6ms/step - loss: 0.0082 - val_loss: 0.2197\n",
      "Epoch 477/600\n",
      "14/14 [==============================] - 0s 6ms/step - loss: 0.0111 - val_loss: 0.2078\n",
      "Epoch 478/600\n",
      "14/14 [==============================] - 0s 6ms/step - loss: 0.0126 - val_loss: 0.2146\n",
      "Epoch 479/600\n",
      "14/14 [==============================] - 0s 6ms/step - loss: 0.0111 - val_loss: 0.2188\n",
      "Epoch 480/600\n",
      "14/14 [==============================] - 0s 6ms/step - loss: 0.0124 - val_loss: 0.2098\n",
      "Epoch 481/600\n",
      "14/14 [==============================] - 0s 6ms/step - loss: 0.0120 - val_loss: 0.2076\n",
      "Epoch 482/600\n",
      "14/14 [==============================] - 0s 6ms/step - loss: 0.0130 - val_loss: 0.2194\n",
      "Epoch 483/600\n",
      "14/14 [==============================] - 0s 7ms/step - loss: 0.0104 - val_loss: 0.2115\n",
      "Epoch 484/600\n",
      "14/14 [==============================] - 0s 6ms/step - loss: 0.0117 - val_loss: 0.2106\n",
      "Epoch 485/600\n",
      "14/14 [==============================] - 0s 6ms/step - loss: 0.0115 - val_loss: 0.2136\n",
      "Epoch 486/600\n",
      "14/14 [==============================] - 0s 6ms/step - loss: 0.0088 - val_loss: 0.2145\n",
      "Epoch 487/600\n",
      "14/14 [==============================] - 0s 6ms/step - loss: 0.0136 - val_loss: 0.2206\n",
      "Epoch 488/600\n"
     ]
    },
    {
     "name": "stdout",
     "output_type": "stream",
     "text": [
      "14/14 [==============================] - 0s 6ms/step - loss: 0.0095 - val_loss: 0.2109\n",
      "Epoch 489/600\n",
      "14/14 [==============================] - 0s 6ms/step - loss: 0.0109 - val_loss: 0.2238\n",
      "Epoch 490/600\n",
      "14/14 [==============================] - 0s 5ms/step - loss: 0.0134 - val_loss: 0.2236\n",
      "Epoch 491/600\n",
      "14/14 [==============================] - 0s 5ms/step - loss: 0.0073 - val_loss: 0.2157\n",
      "Epoch 492/600\n",
      "14/14 [==============================] - 0s 5ms/step - loss: 0.0159 - val_loss: 0.2370\n",
      "Epoch 493/600\n",
      "14/14 [==============================] - 0s 5ms/step - loss: 0.0208 - val_loss: 0.2157\n",
      "Epoch 494/600\n",
      "14/14 [==============================] - 0s 5ms/step - loss: 0.0217 - val_loss: 0.2014\n",
      "Epoch 495/600\n",
      "14/14 [==============================] - 0s 5ms/step - loss: 0.0077 - val_loss: 0.2019\n",
      "Epoch 496/600\n",
      "14/14 [==============================] - 0s 5ms/step - loss: 0.0111 - val_loss: 0.2147\n",
      "Epoch 497/600\n",
      "14/14 [==============================] - 0s 5ms/step - loss: 0.0111 - val_loss: 0.2262\n",
      "Epoch 498/600\n",
      "14/14 [==============================] - 0s 5ms/step - loss: 0.0107 - val_loss: 0.2172\n",
      "Epoch 499/600\n",
      "14/14 [==============================] - 0s 5ms/step - loss: 0.0053 - val_loss: 0.2171\n",
      "Epoch 500/600\n",
      "14/14 [==============================] - 0s 5ms/step - loss: 0.0097 - val_loss: 0.2330\n",
      "Epoch 501/600\n",
      "14/14 [==============================] - 0s 6ms/step - loss: 0.0106 - val_loss: 0.2341\n",
      "Epoch 502/600\n",
      "14/14 [==============================] - 0s 5ms/step - loss: 0.0116 - val_loss: 0.2323\n",
      "Epoch 503/600\n",
      "14/14 [==============================] - 0s 6ms/step - loss: 0.0085 - val_loss: 0.2378\n",
      "Epoch 504/600\n",
      "14/14 [==============================] - 0s 6ms/step - loss: 0.0078 - val_loss: 0.2270\n",
      "Epoch 505/600\n",
      "14/14 [==============================] - 0s 6ms/step - loss: 0.0072 - val_loss: 0.2341\n",
      "Epoch 506/600\n",
      "14/14 [==============================] - 0s 6ms/step - loss: 0.0089 - val_loss: 0.2433\n",
      "Epoch 507/600\n",
      "14/14 [==============================] - 0s 5ms/step - loss: 0.0111 - val_loss: 0.2353\n",
      "Epoch 508/600\n",
      "14/14 [==============================] - 0s 5ms/step - loss: 0.0107 - val_loss: 0.2335\n",
      "Epoch 509/600\n",
      "14/14 [==============================] - 0s 6ms/step - loss: 0.0140 - val_loss: 0.2267\n",
      "Epoch 510/600\n",
      "14/14 [==============================] - 0s 6ms/step - loss: 0.0095 - val_loss: 0.2361\n",
      "Epoch 511/600\n",
      "14/14 [==============================] - 0s 19ms/step - loss: 0.0093 - val_loss: 0.2284\n",
      "Epoch 512/600\n",
      "14/14 [==============================] - 0s 7ms/step - loss: 0.0127 - val_loss: 0.2376\n",
      "Epoch 513/600\n",
      "14/14 [==============================] - 0s 5ms/step - loss: 0.0117 - val_loss: 0.2421\n",
      "Epoch 514/600\n",
      "14/14 [==============================] - 0s 5ms/step - loss: 0.0100 - val_loss: 0.2156\n",
      "Epoch 515/600\n",
      "14/14 [==============================] - 0s 5ms/step - loss: 0.0079 - val_loss: 0.2236\n",
      "Epoch 516/600\n",
      "14/14 [==============================] - 0s 5ms/step - loss: 0.0114 - val_loss: 0.2397\n",
      "Epoch 517/600\n",
      "14/14 [==============================] - 0s 5ms/step - loss: 0.0114 - val_loss: 0.2334\n",
      "Epoch 518/600\n",
      "14/14 [==============================] - 0s 6ms/step - loss: 0.0093 - val_loss: 0.2311\n",
      "Epoch 519/600\n",
      "14/14 [==============================] - 0s 6ms/step - loss: 0.0057 - val_loss: 0.2414\n",
      "Epoch 520/600\n",
      "14/14 [==============================] - 0s 7ms/step - loss: 0.0079 - val_loss: 0.2436\n",
      "Epoch 521/600\n",
      "14/14 [==============================] - 0s 10ms/step - loss: 0.0129 - val_loss: 0.2461\n",
      "Epoch 522/600\n",
      "14/14 [==============================] - 0s 5ms/step - loss: 0.0091 - val_loss: 0.2465\n",
      "Epoch 523/600\n",
      "14/14 [==============================] - 0s 6ms/step - loss: 0.0079 - val_loss: 0.2481\n",
      "Epoch 524/600\n",
      "14/14 [==============================] - 0s 6ms/step - loss: 0.0117 - val_loss: 0.2618\n",
      "Epoch 525/600\n",
      "14/14 [==============================] - 0s 6ms/step - loss: 0.0105 - val_loss: 0.2563\n",
      "Epoch 526/600\n",
      "14/14 [==============================] - 0s 5ms/step - loss: 0.0115 - val_loss: 0.2561\n",
      "Epoch 527/600\n",
      "14/14 [==============================] - 0s 6ms/step - loss: 0.0080 - val_loss: 0.2566\n",
      "Epoch 528/600\n",
      "14/14 [==============================] - 0s 5ms/step - loss: 0.0090 - val_loss: 0.2571\n",
      "Epoch 529/600\n",
      "14/14 [==============================] - 0s 6ms/step - loss: 0.0082 - val_loss: 0.2488\n",
      "Epoch 530/600\n",
      "14/14 [==============================] - 0s 5ms/step - loss: 0.0065 - val_loss: 0.2587\n",
      "Epoch 531/600\n",
      "14/14 [==============================] - 0s 5ms/step - loss: 0.0078 - val_loss: 0.2629\n",
      "Epoch 532/600\n",
      "14/14 [==============================] - 0s 6ms/step - loss: 0.0081 - val_loss: 0.2592\n",
      "Epoch 533/600\n",
      "14/14 [==============================] - 0s 5ms/step - loss: 0.0096 - val_loss: 0.2667\n",
      "Epoch 534/600\n",
      "14/14 [==============================] - 0s 5ms/step - loss: 0.0096 - val_loss: 0.2708\n",
      "Epoch 535/600\n",
      "14/14 [==============================] - 0s 5ms/step - loss: 0.0075 - val_loss: 0.2668\n",
      "Epoch 536/600\n",
      "14/14 [==============================] - 0s 5ms/step - loss: 0.0115 - val_loss: 0.2649\n",
      "Epoch 537/600\n",
      "14/14 [==============================] - 0s 6ms/step - loss: 0.0091 - val_loss: 0.2717\n",
      "Epoch 538/600\n",
      "14/14 [==============================] - 0s 6ms/step - loss: 0.0162 - val_loss: 0.2738\n",
      "Epoch 539/600\n",
      "14/14 [==============================] - 0s 6ms/step - loss: 0.0118 - val_loss: 0.2778\n",
      "Epoch 540/600\n",
      "14/14 [==============================] - 0s 5ms/step - loss: 0.0116 - val_loss: 0.2616\n",
      "Epoch 541/600\n",
      "14/14 [==============================] - 0s 5ms/step - loss: 0.0098 - val_loss: 0.2610\n",
      "Epoch 542/600\n",
      "14/14 [==============================] - 0s 5ms/step - loss: 0.0084 - val_loss: 0.2653\n",
      "Epoch 543/600\n",
      "14/14 [==============================] - 0s 5ms/step - loss: 0.0112 - val_loss: 0.2662\n",
      "Epoch 544/600\n",
      "14/14 [==============================] - 0s 5ms/step - loss: 0.0081 - val_loss: 0.2691\n",
      "Epoch 545/600\n",
      "14/14 [==============================] - 0s 5ms/step - loss: 0.0077 - val_loss: 0.2747\n",
      "Epoch 546/600\n",
      "14/14 [==============================] - 0s 20ms/step - loss: 0.0063 - val_loss: 0.2697\n",
      "Epoch 547/600\n",
      "14/14 [==============================] - 0s 5ms/step - loss: 0.0091 - val_loss: 0.2704\n",
      "Epoch 548/600\n",
      "14/14 [==============================] - 0s 5ms/step - loss: 0.0101 - val_loss: 0.2772\n",
      "Epoch 549/600\n",
      "14/14 [==============================] - 0s 5ms/step - loss: 0.0080 - val_loss: 0.2838\n",
      "Epoch 550/600\n",
      "14/14 [==============================] - 0s 5ms/step - loss: 0.0053 - val_loss: 0.2730\n",
      "Epoch 551/600\n",
      "14/14 [==============================] - 0s 5ms/step - loss: 0.0069 - val_loss: 0.2754\n",
      "Epoch 552/600\n",
      "14/14 [==============================] - 0s 5ms/step - loss: 0.0058 - val_loss: 0.2819\n",
      "Epoch 553/600\n",
      "14/14 [==============================] - 0s 5ms/step - loss: 0.0084 - val_loss: 0.2828\n",
      "Epoch 554/600\n",
      "14/14 [==============================] - 0s 5ms/step - loss: 0.0063 - val_loss: 0.2760\n",
      "Epoch 555/600\n",
      "14/14 [==============================] - 0s 5ms/step - loss: 0.0068 - val_loss: 0.2848\n",
      "Epoch 556/600\n",
      "14/14 [==============================] - 0s 5ms/step - loss: 0.0070 - val_loss: 0.2786\n",
      "Epoch 557/600\n",
      "14/14 [==============================] - 0s 6ms/step - loss: 0.0090 - val_loss: 0.2801\n",
      "Epoch 558/600\n",
      "14/14 [==============================] - 0s 5ms/step - loss: 0.0057 - val_loss: 0.2841\n",
      "Epoch 559/600\n",
      "14/14 [==============================] - 0s 5ms/step - loss: 0.0115 - val_loss: 0.2950\n",
      "Epoch 560/600\n",
      "14/14 [==============================] - 0s 5ms/step - loss: 0.0147 - val_loss: 0.2809\n",
      "Epoch 561/600\n",
      "14/14 [==============================] - 0s 5ms/step - loss: 0.0107 - val_loss: 0.2712\n",
      "Epoch 562/600\n",
      "14/14 [==============================] - 0s 5ms/step - loss: 0.0087 - val_loss: 0.2797\n",
      "Epoch 563/600\n",
      "14/14 [==============================] - 0s 5ms/step - loss: 0.0094 - val_loss: 0.2814\n",
      "Epoch 564/600\n",
      "14/14 [==============================] - 0s 5ms/step - loss: 0.0054 - val_loss: 0.2791\n",
      "Epoch 565/600\n",
      "14/14 [==============================] - 0s 5ms/step - loss: 0.0097 - val_loss: 0.2819\n",
      "Epoch 566/600\n",
      "14/14 [==============================] - 0s 5ms/step - loss: 0.0087 - val_loss: 0.2964\n",
      "Epoch 567/600\n",
      "14/14 [==============================] - 0s 5ms/step - loss: 0.0134 - val_loss: 0.2677\n",
      "Epoch 568/600\n",
      "14/14 [==============================] - 0s 5ms/step - loss: 0.0098 - val_loss: 0.2610\n",
      "Epoch 569/600\n"
     ]
    },
    {
     "name": "stdout",
     "output_type": "stream",
     "text": [
      "14/14 [==============================] - 0s 5ms/step - loss: 0.0087 - val_loss: 0.2769\n",
      "Epoch 570/600\n",
      "14/14 [==============================] - 0s 5ms/step - loss: 0.0061 - val_loss: 0.2894\n",
      "Epoch 571/600\n",
      "14/14 [==============================] - 0s 6ms/step - loss: 0.0072 - val_loss: 0.2876\n",
      "Epoch 572/600\n",
      "14/14 [==============================] - 0s 5ms/step - loss: 0.0050 - val_loss: 0.2876\n",
      "Epoch 573/600\n",
      "14/14 [==============================] - 0s 5ms/step - loss: 0.0084 - val_loss: 0.2986\n",
      "Epoch 574/600\n",
      "14/14 [==============================] - 0s 5ms/step - loss: 0.0082 - val_loss: 0.2955\n",
      "Epoch 575/600\n",
      "14/14 [==============================] - 0s 5ms/step - loss: 0.0067 - val_loss: 0.2928\n",
      "Epoch 576/600\n",
      "14/14 [==============================] - 0s 5ms/step - loss: 0.0111 - val_loss: 0.3017\n",
      "Epoch 577/600\n",
      "14/14 [==============================] - 0s 5ms/step - loss: 0.0072 - val_loss: 0.2934\n",
      "Epoch 578/600\n",
      "14/14 [==============================] - 0s 5ms/step - loss: 0.0103 - val_loss: 0.2968\n",
      "Epoch 579/600\n",
      "14/14 [==============================] - 0s 5ms/step - loss: 0.0055 - val_loss: 0.2942\n",
      "Epoch 580/600\n",
      "14/14 [==============================] - 0s 5ms/step - loss: 0.0104 - val_loss: 0.2982\n",
      "Epoch 581/600\n",
      "14/14 [==============================] - 0s 20ms/step - loss: 0.0097 - val_loss: 0.2897\n",
      "Epoch 582/600\n",
      "14/14 [==============================] - 0s 6ms/step - loss: 0.0141 - val_loss: 0.2920\n",
      "Epoch 583/600\n",
      "14/14 [==============================] - 0s 6ms/step - loss: 0.0075 - val_loss: 0.2949\n",
      "Epoch 584/600\n",
      "14/14 [==============================] - 0s 6ms/step - loss: 0.0075 - val_loss: 0.2953\n",
      "Epoch 585/600\n",
      "14/14 [==============================] - 0s 6ms/step - loss: 0.0064 - val_loss: 0.2895\n",
      "Epoch 586/600\n",
      "14/14 [==============================] - 0s 7ms/step - loss: 0.0054 - val_loss: 0.3048\n",
      "Epoch 587/600\n",
      "14/14 [==============================] - 0s 6ms/step - loss: 0.0067 - val_loss: 0.3018\n",
      "Epoch 588/600\n",
      "14/14 [==============================] - 0s 5ms/step - loss: 0.0092 - val_loss: 0.3111\n",
      "Epoch 589/600\n",
      "14/14 [==============================] - 0s 5ms/step - loss: 0.0050 - val_loss: 0.3076\n",
      "Epoch 590/600\n",
      "14/14 [==============================] - 0s 6ms/step - loss: 0.0084 - val_loss: 0.3072\n",
      "Epoch 591/600\n",
      "14/14 [==============================] - 0s 7ms/step - loss: 0.0061 - val_loss: 0.3067\n",
      "Epoch 592/600\n",
      "14/14 [==============================] - 0s 7ms/step - loss: 0.0086 - val_loss: 0.3107\n",
      "Epoch 593/600\n",
      "14/14 [==============================] - 0s 5ms/step - loss: 0.0086 - val_loss: 0.3097\n",
      "Epoch 594/600\n",
      "14/14 [==============================] - 0s 5ms/step - loss: 0.0067 - val_loss: 0.3070\n",
      "Epoch 595/600\n",
      "14/14 [==============================] - 0s 5ms/step - loss: 0.0075 - val_loss: 0.3078\n",
      "Epoch 596/600\n",
      "14/14 [==============================] - 0s 5ms/step - loss: 0.0082 - val_loss: 0.3138\n",
      "Epoch 597/600\n",
      "14/14 [==============================] - 0s 5ms/step - loss: 0.0090 - val_loss: 0.3150\n",
      "Epoch 598/600\n",
      "14/14 [==============================] - 0s 5ms/step - loss: 0.0055 - val_loss: 0.3196\n",
      "Epoch 599/600\n",
      "14/14 [==============================] - 0s 5ms/step - loss: 0.0060 - val_loss: 0.3182\n",
      "Epoch 600/600\n",
      "14/14 [==============================] - 0s 5ms/step - loss: 0.0057 - val_loss: 0.3230\n"
     ]
    },
    {
     "data": {
      "text/plain": [
       "<tensorflow.python.keras.callbacks.History at 0x1a4b985910>"
      ]
     },
     "execution_count": 42,
     "metadata": {},
     "output_type": "execute_result"
    }
   ],
   "source": [
    "# No Batch Size\n",
    "# Epochs - Number of iterations\n",
    "# Using validation data here to prevent overfitting\n",
    "# Adding validation data has no impact in adjusting weights and biases\n",
    "model.fit(x=X_train,y=y_train,validation_data=(X_test,y_test),epochs=600)"
   ]
  },
  {
   "cell_type": "code",
   "execution_count": 43,
   "metadata": {},
   "outputs": [],
   "source": [
    "losses = pd.DataFrame(model.history.history)"
   ]
  },
  {
   "cell_type": "code",
   "execution_count": 44,
   "metadata": {},
   "outputs": [
    {
     "data": {
      "application/vnd.plotly.v1+json": {
       "config": {
        "linkText": "Export to plot.ly",
        "plotlyServerURL": "https://plot.ly",
        "showLink": true
       },
       "data": [
        {
         "line": {
          "color": "rgba(255, 153, 51, 1.0)",
          "dash": "solid",
          "shape": "linear",
          "width": 1.3
         },
         "mode": "lines",
         "name": "loss",
         "text": "",
         "type": "scatter",
         "x": [
          0,
          1,
          2,
          3,
          4,
          5,
          6,
          7,
          8,
          9,
          10,
          11,
          12,
          13,
          14,
          15,
          16,
          17,
          18,
          19,
          20,
          21,
          22,
          23,
          24,
          25,
          26,
          27,
          28,
          29,
          30,
          31,
          32,
          33,
          34,
          35,
          36,
          37,
          38,
          39,
          40,
          41,
          42,
          43,
          44,
          45,
          46,
          47,
          48,
          49,
          50,
          51,
          52,
          53,
          54,
          55,
          56,
          57,
          58,
          59,
          60,
          61,
          62,
          63,
          64,
          65,
          66,
          67,
          68,
          69,
          70,
          71,
          72,
          73,
          74,
          75,
          76,
          77,
          78,
          79,
          80,
          81,
          82,
          83,
          84,
          85,
          86,
          87,
          88,
          89,
          90,
          91,
          92,
          93,
          94,
          95,
          96,
          97,
          98,
          99,
          100,
          101,
          102,
          103,
          104,
          105,
          106,
          107,
          108,
          109,
          110,
          111,
          112,
          113,
          114,
          115,
          116,
          117,
          118,
          119,
          120,
          121,
          122,
          123,
          124,
          125,
          126,
          127,
          128,
          129,
          130,
          131,
          132,
          133,
          134,
          135,
          136,
          137,
          138,
          139,
          140,
          141,
          142,
          143,
          144,
          145,
          146,
          147,
          148,
          149,
          150,
          151,
          152,
          153,
          154,
          155,
          156,
          157,
          158,
          159,
          160,
          161,
          162,
          163,
          164,
          165,
          166,
          167,
          168,
          169,
          170,
          171,
          172,
          173,
          174,
          175,
          176,
          177,
          178,
          179,
          180,
          181,
          182,
          183,
          184,
          185,
          186,
          187,
          188,
          189,
          190,
          191,
          192,
          193,
          194,
          195,
          196,
          197,
          198,
          199,
          200,
          201,
          202,
          203,
          204,
          205,
          206,
          207,
          208,
          209,
          210,
          211,
          212,
          213,
          214,
          215,
          216,
          217,
          218,
          219,
          220,
          221,
          222,
          223,
          224,
          225,
          226,
          227,
          228,
          229,
          230,
          231,
          232,
          233,
          234,
          235,
          236,
          237,
          238,
          239,
          240,
          241,
          242,
          243,
          244,
          245,
          246,
          247,
          248,
          249,
          250,
          251,
          252,
          253,
          254,
          255,
          256,
          257,
          258,
          259,
          260,
          261,
          262,
          263,
          264,
          265,
          266,
          267,
          268,
          269,
          270,
          271,
          272,
          273,
          274,
          275,
          276,
          277,
          278,
          279,
          280,
          281,
          282,
          283,
          284,
          285,
          286,
          287,
          288,
          289,
          290,
          291,
          292,
          293,
          294,
          295,
          296,
          297,
          298,
          299,
          300,
          301,
          302,
          303,
          304,
          305,
          306,
          307,
          308,
          309,
          310,
          311,
          312,
          313,
          314,
          315,
          316,
          317,
          318,
          319,
          320,
          321,
          322,
          323,
          324,
          325,
          326,
          327,
          328,
          329,
          330,
          331,
          332,
          333,
          334,
          335,
          336,
          337,
          338,
          339,
          340,
          341,
          342,
          343,
          344,
          345,
          346,
          347,
          348,
          349,
          350,
          351,
          352,
          353,
          354,
          355,
          356,
          357,
          358,
          359,
          360,
          361,
          362,
          363,
          364,
          365,
          366,
          367,
          368,
          369,
          370,
          371,
          372,
          373,
          374,
          375,
          376,
          377,
          378,
          379,
          380,
          381,
          382,
          383,
          384,
          385,
          386,
          387,
          388,
          389,
          390,
          391,
          392,
          393,
          394,
          395,
          396,
          397,
          398,
          399,
          400,
          401,
          402,
          403,
          404,
          405,
          406,
          407,
          408,
          409,
          410,
          411,
          412,
          413,
          414,
          415,
          416,
          417,
          418,
          419,
          420,
          421,
          422,
          423,
          424,
          425,
          426,
          427,
          428,
          429,
          430,
          431,
          432,
          433,
          434,
          435,
          436,
          437,
          438,
          439,
          440,
          441,
          442,
          443,
          444,
          445,
          446,
          447,
          448,
          449,
          450,
          451,
          452,
          453,
          454,
          455,
          456,
          457,
          458,
          459,
          460,
          461,
          462,
          463,
          464,
          465,
          466,
          467,
          468,
          469,
          470,
          471,
          472,
          473,
          474,
          475,
          476,
          477,
          478,
          479,
          480,
          481,
          482,
          483,
          484,
          485,
          486,
          487,
          488,
          489,
          490,
          491,
          492,
          493,
          494,
          495,
          496,
          497,
          498,
          499,
          500,
          501,
          502,
          503,
          504,
          505,
          506,
          507,
          508,
          509,
          510,
          511,
          512,
          513,
          514,
          515,
          516,
          517,
          518,
          519,
          520,
          521,
          522,
          523,
          524,
          525,
          526,
          527,
          528,
          529,
          530,
          531,
          532,
          533,
          534,
          535,
          536,
          537,
          538,
          539,
          540,
          541,
          542,
          543,
          544,
          545,
          546,
          547,
          548,
          549,
          550,
          551,
          552,
          553,
          554,
          555,
          556,
          557,
          558,
          559,
          560,
          561,
          562,
          563,
          564,
          565,
          566,
          567,
          568,
          569,
          570,
          571,
          572,
          573,
          574,
          575,
          576,
          577,
          578,
          579,
          580,
          581,
          582,
          583,
          584,
          585,
          586,
          587,
          588,
          589,
          590,
          591,
          592,
          593,
          594,
          595,
          596,
          597,
          598,
          599
         ],
         "y": [
          0.6726390719413757,
          0.632461667060852,
          0.5912758708000183,
          0.5488835573196411,
          0.49820199608802795,
          0.45201823115348816,
          0.4103251099586487,
          0.3700118362903595,
          0.33576279878616333,
          0.30836209654808044,
          0.2853538990020752,
          0.2655433714389801,
          0.24655018746852875,
          0.23063963651657104,
          0.21812231838703156,
          0.20694857835769653,
          0.19634409248828888,
          0.18729497492313385,
          0.17894573509693146,
          0.1709267944097519,
          0.16305851936340332,
          0.15632778406143188,
          0.1489325910806656,
          0.14441941678524017,
          0.14096492528915405,
          0.132854163646698,
          0.12665875256061554,
          0.12339232861995697,
          0.12409020215272903,
          0.11493543535470963,
          0.11240922659635544,
          0.10794803500175476,
          0.1053977757692337,
          0.10079267621040344,
          0.09869471937417984,
          0.09569434821605682,
          0.0925324335694313,
          0.0899885892868042,
          0.09064315259456635,
          0.08660321682691574,
          0.08470054715871811,
          0.08582030981779099,
          0.08694826811552048,
          0.0846550390124321,
          0.07795719057321548,
          0.07667732983827591,
          0.07524389028549194,
          0.0737629160284996,
          0.07385609298944473,
          0.07176438719034195,
          0.07204658538103104,
          0.07929829508066177,
          0.07512284815311432,
          0.06764565408229828,
          0.06677114218473434,
          0.07009660452604294,
          0.0662543997168541,
          0.06488043069839478,
          0.06544207781553268,
          0.0712202936410904,
          0.06505756825208664,
          0.06389208883047104,
          0.06209079176187515,
          0.061832644045352936,
          0.06266481429338455,
          0.06211677938699722,
          0.05996023863554001,
          0.05903984233736992,
          0.059037867933511734,
          0.05807337164878845,
          0.05851072072982788,
          0.05730124190449715,
          0.05701184272766113,
          0.05650056153535843,
          0.056906916201114655,
          0.05543098971247673,
          0.055183518677949905,
          0.059754785150289536,
          0.05586497485637665,
          0.05442072078585625,
          0.054158810526132584,
          0.054963573813438416,
          0.056323569267988205,
          0.05669255927205086,
          0.05260825902223587,
          0.05208997055888176,
          0.05730310454964638,
          0.05326707288622856,
          0.05293728783726692,
          0.05319800227880478,
          0.051124799996614456,
          0.05093922093510628,
          0.051550835371017456,
          0.0503123477101326,
          0.04939812049269676,
          0.04969162121415138,
          0.049346040934324265,
          0.05010896176099777,
          0.04889867082238197,
          0.048115089535713196,
          0.04842310771346092,
          0.05410515144467354,
          0.047964610159397125,
          0.04751605540513992,
          0.04749169573187828,
          0.04808579012751579,
          0.04732136428356171,
          0.04748580977320671,
          0.058419376611709595,
          0.05423377454280853,
          0.04984832555055618,
          0.04779568687081337,
          0.04696245491504669,
          0.05176842212677002,
          0.04605907201766968,
          0.046337954699993134,
          0.04678943008184433,
          0.0445038266479969,
          0.044573184102773666,
          0.044544726610183716,
          0.045941006392240524,
          0.04416754096746445,
          0.04463005065917969,
          0.04708109050989151,
          0.043129585683345795,
          0.043934375047683716,
          0.043699923902750015,
          0.0445222444832325,
          0.042364344000816345,
          0.044126879423856735,
          0.04405651241540909,
          0.042337145656347275,
          0.04213650897145271,
          0.04210897535085678,
          0.05090520903468132,
          0.04465533047914505,
          0.04642285034060478,
          0.04183778911828995,
          0.04174739494919777,
          0.041018176823854446,
          0.040823716670274734,
          0.042404282838106155,
          0.04155813902616501,
          0.04145810753107071,
          0.04092550650238991,
          0.04097473621368408,
          0.03950757905840874,
          0.0405702143907547,
          0.040994782000780106,
          0.049148496240377426,
          0.04199377819895744,
          0.03981849178671837,
          0.03936399891972542,
          0.0406864732503891,
          0.039494600147008896,
          0.03880203887820244,
          0.03834855556488037,
          0.03948359936475754,
          0.03845911845564842,
          0.03930218890309334,
          0.03831837698817253,
          0.03745759651064873,
          0.04122335463762283,
          0.03831084445118904,
          0.036799028515815735,
          0.03705446422100067,
          0.03993216156959534,
          0.038142409175634384,
          0.04253242537379265,
          0.03884679451584816,
          0.035658951848745346,
          0.036927249282598495,
          0.03620005026459694,
          0.03982176631689072,
          0.03791508823633194,
          0.03819918632507324,
          0.03567507117986679,
          0.03737139701843262,
          0.034369856119155884,
          0.037380870431661606,
          0.03508033975958824,
          0.035565394908189774,
          0.03526249900460243,
          0.03456345573067665,
          0.034083958715200424,
          0.034536585211753845,
          0.034178949892520905,
          0.039475925266742706,
          0.03485989198088646,
          0.033783964812755585,
          0.03390462324023247,
          0.035855524241924286,
          0.03341233730316162,
          0.03334896266460419,
          0.03285085782408714,
          0.03441014140844345,
          0.034509941935539246,
          0.03313012793660164,
          0.032740719616413116,
          0.0348573662340641,
          0.0337325856089592,
          0.03255660831928253,
          0.032534196972846985,
          0.0333283506333828,
          0.034568291157484055,
          0.03342483937740326,
          0.03416026011109352,
          0.03355235233902931,
          0.030795475468039513,
          0.031553588807582855,
          0.0321982279419899,
          0.030874669551849365,
          0.031246626749634743,
          0.03262520581483841,
          0.03110615909099579,
          0.033775877207517624,
          0.04347659647464752,
          0.03200049698352814,
          0.03033941052854061,
          0.03012562170624733,
          0.02984464168548584,
          0.02993837371468544,
          0.03151439502835274,
          0.029731936752796173,
          0.03228180855512619,
          0.029922882094979286,
          0.03059965744614601,
          0.03151656687259674,
          0.0326433926820755,
          0.03061416745185852,
          0.034064263105392456,
          0.030811963602900505,
          0.028613056987524033,
          0.028609398752450943,
          0.028010325506329536,
          0.028089752420783043,
          0.03615737706422806,
          0.032276496291160583,
          0.027838977053761482,
          0.03041219711303711,
          0.027223601937294006,
          0.027615780010819435,
          0.027900533750653267,
          0.02710842341184616,
          0.027528969570994377,
          0.0286870077252388,
          0.029780663549900055,
          0.02794322557747364,
          0.02906397171318531,
          0.03044002130627632,
          0.03155773878097534,
          0.027114160358905792,
          0.027249613776803017,
          0.026482930406928062,
          0.026521459221839905,
          0.031093912199139595,
          0.02767842449247837,
          0.026888500899076462,
          0.0255311019718647,
          0.027417341247200966,
          0.026374371722340584,
          0.026639657095074654,
          0.02519870363175869,
          0.027014002203941345,
          0.025964058935642242,
          0.026526162400841713,
          0.026077330112457275,
          0.025283969938755035,
          0.031972505152225494,
          0.029214955866336823,
          0.028478385880589485,
          0.02745687961578369,
          0.024352973327040672,
          0.02515709400177002,
          0.02723459154367447,
          0.028549980372190475,
          0.023991495370864868,
          0.024286825209856033,
          0.02438289299607277,
          0.023716378957033157,
          0.024315688759088516,
          0.024614408612251282,
          0.02360590361058712,
          0.024543581530451775,
          0.02652466855943203,
          0.026562655344605446,
          0.02560858242213726,
          0.02644280157983303,
          0.02355574630200863,
          0.023421594873070717,
          0.022642888128757477,
          0.023907208815217018,
          0.02671595849096775,
          0.024836184456944466,
          0.02242869883775711,
          0.022420436143875122,
          0.02493736334145069,
          0.025274567306041718,
          0.025336211547255516,
          0.024851001799106598,
          0.028056025505065918,
          0.02788451500236988,
          0.022724824026226997,
          0.021834172308444977,
          0.02357453852891922,
          0.02221408300101757,
          0.022572552785277367,
          0.023958563804626465,
          0.021241655573248863,
          0.02464296482503414,
          0.02163597196340561,
          0.022908173501491547,
          0.0206306055188179,
          0.021481681615114212,
          0.020741460844874382,
          0.020827196538448334,
          0.022188762202858925,
          0.021186362951993942,
          0.02111656405031681,
          0.022608332335948944,
          0.021805301308631897,
          0.0204915888607502,
          0.02139020711183548,
          0.022622548043727875,
          0.0209942776709795,
          0.021670648828148842,
          0.02166314423084259,
          0.02032102271914482,
          0.022337356582283974,
          0.0214830469340086,
          0.020553026348352432,
          0.02163183130323887,
          0.020898696035146713,
          0.019730646163225174,
          0.019482504576444626,
          0.020195383578538895,
          0.022090155631303787,
          0.021133678033947945,
          0.026744356378912926,
          0.020776450634002686,
          0.02042362280189991,
          0.020033283159136772,
          0.020010262727737427,
          0.019594168290495872,
          0.019315272569656372,
          0.01892082393169403,
          0.019334807991981506,
          0.020297978073358536,
          0.018936533480882645,
          0.018024226650595665,
          0.019350452348589897,
          0.01754060946404934,
          0.019123652949929237,
          0.01800621673464775,
          0.018572814762592316,
          0.020872334018349648,
          0.018216392025351524,
          0.017901932820677757,
          0.01838010922074318,
          0.018093755468726158,
          0.017439335584640503,
          0.01897512748837471,
          0.023751912638545036,
          0.018929898738861084,
          0.01888994686305523,
          0.01971380040049553,
          0.017568357288837433,
          0.018397854641079903,
          0.018547648563981056,
          0.01781519129872322,
          0.019427025690674782,
          0.022250205278396606,
          0.017627108842134476,
          0.017277874052524567,
          0.017646513879299164,
          0.019371405243873596,
          0.01869930513203144,
          0.017195312306284904,
          0.01686990261077881,
          0.01622053049504757,
          0.01654301956295967,
          0.020061016082763672,
          0.017558200284838676,
          0.015917392447590828,
          0.017724161967635155,
          0.01671762578189373,
          0.015685290098190308,
          0.016562528908252716,
          0.01632659137248993,
          0.015467450022697449,
          0.01581488363444805,
          0.018676212057471275,
          0.01637544482946396,
          0.01550301443785429,
          0.016360530629754066,
          0.017408080399036407,
          0.01772601529955864,
          0.018864767625927925,
          0.016468046233057976,
          0.01749127358198166,
          0.019791090860962868,
          0.015531564131379128,
          0.014503411017358303,
          0.014227486215531826,
          0.015170590952038765,
          0.017242789268493652,
          0.015306271612644196,
          0.0164182148873806,
          0.014623122289776802,
          0.015174799598753452,
          0.014523260295391083,
          0.016825824975967407,
          0.01633461005985737,
          0.014494170434772968,
          0.014078960753977299,
          0.015549267642199993,
          0.014086590148508549,
          0.016208870336413383,
          0.01632610894739628,
          0.014494547620415688,
          0.013745365664362907,
          0.014357672072947025,
          0.014085337519645691,
          0.013657137751579285,
          0.015309782698750496,
          0.020809834823012352,
          0.01655278354883194,
          0.012958516366779804,
          0.014868786558508873,
          0.014012536033987999,
          0.01734123006463051,
          0.014582455158233643,
          0.014377554878592491,
          0.013251250609755516,
          0.013487483374774456,
          0.013234040699899197,
          0.013124758377671242,
          0.014162502251565456,
          0.013057520613074303,
          0.012928458862006664,
          0.013070628046989441,
          0.012917378917336464,
          0.012157450430095196,
          0.014077390544116497,
          0.014913730323314667,
          0.01413622684776783,
          0.012960411608219147,
          0.012574094347655773,
          0.01297745667397976,
          0.012071313336491585,
          0.012629919685423374,
          0.013459349982440472,
          0.012627470307052135,
          0.011720641516149044,
          0.011995302513241768,
          0.011974244378507137,
          0.011557181365787983,
          0.012923368252813816,
          0.012751352973282337,
          0.012400364503264427,
          0.011534049175679684,
          0.01540551707148552,
          0.01241750456392765,
          0.012884693220257759,
          0.015666130930185318,
          0.013828183524310589,
          0.021646961569786072,
          0.014048038981854916,
          0.011934556066989899,
          0.012728644534945488,
          0.011521677486598492,
          0.013026649132370949,
          0.011406265199184418,
          0.013009424321353436,
          0.01361051481217146,
          0.011194249615073204,
          0.012324381619691849,
          0.01190832257270813,
          0.01319675613194704,
          0.01480806153267622,
          0.014132109470665455,
          0.01434363517910242,
          0.011474855244159698,
          0.010346713475883007,
          0.01103542186319828,
          0.01086203008890152,
          0.017017865553498268,
          0.010915691964328289,
          0.011453129351139069,
          0.011235684156417847,
          0.01117289811372757,
          0.018236666917800903,
          0.018734635785222054,
          0.018818410113453865,
          0.013926024548709393,
          0.011405172757804394,
          0.011231431737542152,
          0.009667856618762016,
          0.01055263914167881,
          0.01054737251251936,
          0.010480479337275028,
          0.011127486824989319,
          0.01091498602181673,
          0.009830966591835022,
          0.009993068873882294,
          0.011874435469508171,
          0.01458278764039278,
          0.012147083878517151,
          0.01277967169880867,
          0.010504757054150105,
          0.00987498089671135,
          0.011611389927566051,
          0.0175763089209795,
          0.011739824898540974,
          0.01047122199088335,
          0.011354966089129448,
          0.010818380862474442,
          0.00958293117582798,
          0.009147187694907188,
          0.009396851062774658,
          0.009617667645215988,
          0.00897499080747366,
          0.00961259938776493,
          0.008892439305782318,
          0.009118667803704739,
          0.0102944765239954,
          0.007985956966876984,
          0.011469452641904354,
          0.009155928157269955,
          0.00828410405665636,
          0.008450607769191265,
          0.01000794768333435,
          0.008787871338427067,
          0.008374392986297607,
          0.008739379234611988,
          0.011093471199274063,
          0.012807448394596577,
          0.018515944480895996,
          0.010064816102385521,
          0.011897062882781029,
          0.007840169593691826,
          0.008984292857348919,
          0.0082543371245265,
          0.008451729081571102,
          0.008214262314140797,
          0.009560192003846169,
          0.0082058385014534,
          0.00788288377225399,
          0.007937378250062466,
          0.00883070845156908,
          0.007950790226459503,
          0.007504960056394339,
          0.007362681441009045,
          0.007842258550226688,
          0.00753392931073904,
          0.007347500417381525,
          0.00740306219086051,
          0.007677130866795778,
          0.01313603762537241,
          0.012861907482147217,
          0.010327338241040707,
          0.00864584930241108,
          0.008120426908135414,
          0.008763107471168041,
          0.008366807363927364,
          0.013837547041475773,
          0.012125571258366108,
          0.009285284206271172,
          0.007707035169005394,
          0.0068855565041303635,
          0.006886046379804611,
          0.007455175276845694,
          0.00692973006516695,
          0.0077979653142392635,
          0.0064683714881539345,
          0.007767168339341879,
          0.0073357089422643185,
          0.008473378606140614,
          0.0066155786626040936,
          0.009531662799417973,
          0.009123914875090122,
          0.009196928702294827,
          0.0068685258738696575,
          0.007237317971885204,
          0.007942607626318932,
          0.006651942618191242,
          0.006385780405253172,
          0.006437694653868675,
          0.006622373126447201,
          0.007095116190612316,
          0.008024130947887897,
          0.006362227723002434,
          0.00745284091681242,
          0.00887942686676979,
          0.008514337241649628,
          0.008172261528670788,
          0.008255710825324059,
          0.007212462369352579,
          0.00817105546593666,
          0.0073515926487743855
         ]
        },
        {
         "line": {
          "color": "rgba(55, 128, 191, 1.0)",
          "dash": "solid",
          "shape": "linear",
          "width": 1.3
         },
         "mode": "lines",
         "name": "val_loss",
         "text": "",
         "type": "scatter",
         "x": [
          0,
          1,
          2,
          3,
          4,
          5,
          6,
          7,
          8,
          9,
          10,
          11,
          12,
          13,
          14,
          15,
          16,
          17,
          18,
          19,
          20,
          21,
          22,
          23,
          24,
          25,
          26,
          27,
          28,
          29,
          30,
          31,
          32,
          33,
          34,
          35,
          36,
          37,
          38,
          39,
          40,
          41,
          42,
          43,
          44,
          45,
          46,
          47,
          48,
          49,
          50,
          51,
          52,
          53,
          54,
          55,
          56,
          57,
          58,
          59,
          60,
          61,
          62,
          63,
          64,
          65,
          66,
          67,
          68,
          69,
          70,
          71,
          72,
          73,
          74,
          75,
          76,
          77,
          78,
          79,
          80,
          81,
          82,
          83,
          84,
          85,
          86,
          87,
          88,
          89,
          90,
          91,
          92,
          93,
          94,
          95,
          96,
          97,
          98,
          99,
          100,
          101,
          102,
          103,
          104,
          105,
          106,
          107,
          108,
          109,
          110,
          111,
          112,
          113,
          114,
          115,
          116,
          117,
          118,
          119,
          120,
          121,
          122,
          123,
          124,
          125,
          126,
          127,
          128,
          129,
          130,
          131,
          132,
          133,
          134,
          135,
          136,
          137,
          138,
          139,
          140,
          141,
          142,
          143,
          144,
          145,
          146,
          147,
          148,
          149,
          150,
          151,
          152,
          153,
          154,
          155,
          156,
          157,
          158,
          159,
          160,
          161,
          162,
          163,
          164,
          165,
          166,
          167,
          168,
          169,
          170,
          171,
          172,
          173,
          174,
          175,
          176,
          177,
          178,
          179,
          180,
          181,
          182,
          183,
          184,
          185,
          186,
          187,
          188,
          189,
          190,
          191,
          192,
          193,
          194,
          195,
          196,
          197,
          198,
          199,
          200,
          201,
          202,
          203,
          204,
          205,
          206,
          207,
          208,
          209,
          210,
          211,
          212,
          213,
          214,
          215,
          216,
          217,
          218,
          219,
          220,
          221,
          222,
          223,
          224,
          225,
          226,
          227,
          228,
          229,
          230,
          231,
          232,
          233,
          234,
          235,
          236,
          237,
          238,
          239,
          240,
          241,
          242,
          243,
          244,
          245,
          246,
          247,
          248,
          249,
          250,
          251,
          252,
          253,
          254,
          255,
          256,
          257,
          258,
          259,
          260,
          261,
          262,
          263,
          264,
          265,
          266,
          267,
          268,
          269,
          270,
          271,
          272,
          273,
          274,
          275,
          276,
          277,
          278,
          279,
          280,
          281,
          282,
          283,
          284,
          285,
          286,
          287,
          288,
          289,
          290,
          291,
          292,
          293,
          294,
          295,
          296,
          297,
          298,
          299,
          300,
          301,
          302,
          303,
          304,
          305,
          306,
          307,
          308,
          309,
          310,
          311,
          312,
          313,
          314,
          315,
          316,
          317,
          318,
          319,
          320,
          321,
          322,
          323,
          324,
          325,
          326,
          327,
          328,
          329,
          330,
          331,
          332,
          333,
          334,
          335,
          336,
          337,
          338,
          339,
          340,
          341,
          342,
          343,
          344,
          345,
          346,
          347,
          348,
          349,
          350,
          351,
          352,
          353,
          354,
          355,
          356,
          357,
          358,
          359,
          360,
          361,
          362,
          363,
          364,
          365,
          366,
          367,
          368,
          369,
          370,
          371,
          372,
          373,
          374,
          375,
          376,
          377,
          378,
          379,
          380,
          381,
          382,
          383,
          384,
          385,
          386,
          387,
          388,
          389,
          390,
          391,
          392,
          393,
          394,
          395,
          396,
          397,
          398,
          399,
          400,
          401,
          402,
          403,
          404,
          405,
          406,
          407,
          408,
          409,
          410,
          411,
          412,
          413,
          414,
          415,
          416,
          417,
          418,
          419,
          420,
          421,
          422,
          423,
          424,
          425,
          426,
          427,
          428,
          429,
          430,
          431,
          432,
          433,
          434,
          435,
          436,
          437,
          438,
          439,
          440,
          441,
          442,
          443,
          444,
          445,
          446,
          447,
          448,
          449,
          450,
          451,
          452,
          453,
          454,
          455,
          456,
          457,
          458,
          459,
          460,
          461,
          462,
          463,
          464,
          465,
          466,
          467,
          468,
          469,
          470,
          471,
          472,
          473,
          474,
          475,
          476,
          477,
          478,
          479,
          480,
          481,
          482,
          483,
          484,
          485,
          486,
          487,
          488,
          489,
          490,
          491,
          492,
          493,
          494,
          495,
          496,
          497,
          498,
          499,
          500,
          501,
          502,
          503,
          504,
          505,
          506,
          507,
          508,
          509,
          510,
          511,
          512,
          513,
          514,
          515,
          516,
          517,
          518,
          519,
          520,
          521,
          522,
          523,
          524,
          525,
          526,
          527,
          528,
          529,
          530,
          531,
          532,
          533,
          534,
          535,
          536,
          537,
          538,
          539,
          540,
          541,
          542,
          543,
          544,
          545,
          546,
          547,
          548,
          549,
          550,
          551,
          552,
          553,
          554,
          555,
          556,
          557,
          558,
          559,
          560,
          561,
          562,
          563,
          564,
          565,
          566,
          567,
          568,
          569,
          570,
          571,
          572,
          573,
          574,
          575,
          576,
          577,
          578,
          579,
          580,
          581,
          582,
          583,
          584,
          585,
          586,
          587,
          588,
          589,
          590,
          591,
          592,
          593,
          594,
          595,
          596,
          597,
          598,
          599
         ],
         "y": [
          0.6516445279121399,
          0.6137224435806274,
          0.571143388748169,
          0.5224148035049438,
          0.47248396277427673,
          0.42319706082344055,
          0.38260096311569214,
          0.3443557322025299,
          0.31394460797309875,
          0.28480854630470276,
          0.2616320252418518,
          0.24104447662830353,
          0.22425760328769684,
          0.20730425417423248,
          0.19679726660251617,
          0.18636135756969452,
          0.17575757205486298,
          0.16663402318954468,
          0.1626664102077484,
          0.1521824300289154,
          0.14910514652729034,
          0.142584890127182,
          0.13962644338607788,
          0.13189181685447693,
          0.1334674209356308,
          0.12579447031021118,
          0.12689998745918274,
          0.12284337729215622,
          0.11840131878852844,
          0.11583828181028366,
          0.11354003846645355,
          0.11554815620183945,
          0.11063859611749649,
          0.1112782433629036,
          0.10840864479541779,
          0.10766769200563431,
          0.10423687100410461,
          0.10915835946798325,
          0.1024193987250328,
          0.10651569068431854,
          0.10197579860687256,
          0.102717824280262,
          0.10583805292844772,
          0.10194722563028336,
          0.1021868959069252,
          0.10089971125125885,
          0.1015719473361969,
          0.10119517892599106,
          0.10128191858530045,
          0.09761695563793182,
          0.09780323505401611,
          0.1017589271068573,
          0.09870005398988724,
          0.10532666742801666,
          0.09761907905340195,
          0.10310495644807816,
          0.09935209155082703,
          0.10107476264238358,
          0.09579743444919586,
          0.10426029562950134,
          0.0979902595281601,
          0.10034169256687164,
          0.09794383496046066,
          0.09816662967205048,
          0.10117454826831818,
          0.10083643347024918,
          0.09880571067333221,
          0.09865441918373108,
          0.09892036765813828,
          0.10050718486309052,
          0.09631361812353134,
          0.10186095535755157,
          0.09893051534891129,
          0.10093190521001816,
          0.10170208662748337,
          0.09635453671216965,
          0.10389237105846405,
          0.10140743851661682,
          0.09718006104230881,
          0.10366816818714142,
          0.09744317084550858,
          0.09632228314876556,
          0.10356263816356659,
          0.09988059103488922,
          0.09979080408811569,
          0.10212142765522003,
          0.09760168939828873,
          0.10242076218128204,
          0.10739374160766602,
          0.1006389856338501,
          0.1100083515048027,
          0.10193056613206863,
          0.10723382979631424,
          0.10196371376514435,
          0.10581821948289871,
          0.10207365453243256,
          0.10328932106494904,
          0.10325194150209427,
          0.11035098135471344,
          0.10045042634010315,
          0.10567496716976166,
          0.10327387601137161,
          0.10564326494932175,
          0.10820260643959045,
          0.10594330728054047,
          0.10381105542182922,
          0.10487835109233856,
          0.10647695511579514,
          0.10513826459646225,
          0.10702015459537506,
          0.10363341867923737,
          0.10633280873298645,
          0.10414615273475647,
          0.10457870364189148,
          0.10262268036603928,
          0.1116633340716362,
          0.1028854250907898,
          0.10894966870546341,
          0.10637438297271729,
          0.10784208029508591,
          0.10621984302997589,
          0.10993591696023941,
          0.10844537615776062,
          0.10620211064815521,
          0.11197420954704285,
          0.10803555697202682,
          0.1091509535908699,
          0.11237848550081253,
          0.10659894347190857,
          0.10922017693519592,
          0.1118566170334816,
          0.1111781969666481,
          0.10963644087314606,
          0.10945416241884232,
          0.10644731670618057,
          0.11690524965524673,
          0.10373906791210175,
          0.1148800328373909,
          0.11138540506362915,
          0.10793980211019516,
          0.11265329271554947,
          0.10946042835712433,
          0.10821477323770523,
          0.11278454959392548,
          0.11119412630796432,
          0.11834084242582321,
          0.11206500232219696,
          0.11469367146492004,
          0.11361658573150635,
          0.11717573553323746,
          0.11154237389564514,
          0.11338517814874649,
          0.10894615948200226,
          0.11191534996032715,
          0.10970264673233032,
          0.11190665513277054,
          0.11839596927165985,
          0.10831823199987411,
          0.11349387466907501,
          0.1151585504412651,
          0.12149565666913986,
          0.11013366281986237,
          0.1140131801366806,
          0.11619626730680466,
          0.11710175126791,
          0.11723797023296356,
          0.1142529845237732,
          0.10990993678569794,
          0.11387203633785248,
          0.11176303029060364,
          0.12023093551397324,
          0.11169262230396271,
          0.1146884337067604,
          0.11142895370721817,
          0.11598337441682816,
          0.11192262917757034,
          0.11667931824922562,
          0.11143077164888382,
          0.12238387763500214,
          0.11576860398054123,
          0.11133874952793121,
          0.11961711198091507,
          0.11803966015577316,
          0.11325027793645859,
          0.1182418242096901,
          0.11617680639028549,
          0.11911925673484802,
          0.12965252995491028,
          0.11673640459775925,
          0.1170506402850151,
          0.11505421996116638,
          0.1183750331401825,
          0.11827878654003143,
          0.12139558047056198,
          0.1176682710647583,
          0.12006312608718872,
          0.11976790428161621,
          0.11666014045476913,
          0.1225779727101326,
          0.12031904608011246,
          0.12473790347576141,
          0.11666256934404373,
          0.12059066444635391,
          0.1140153557062149,
          0.12350210547447205,
          0.11344557255506516,
          0.11935879290103912,
          0.11488187313079834,
          0.12495844811201096,
          0.12082038819789886,
          0.12265434861183167,
          0.12074350565671921,
          0.1270827054977417,
          0.12404703348875046,
          0.1262858808040619,
          0.11757086217403412,
          0.12001040577888489,
          0.12194881588220596,
          0.11691230535507202,
          0.11857593059539795,
          0.12042916566133499,
          0.11920683830976486,
          0.12294308096170425,
          0.12136755138635635,
          0.1205870732665062,
          0.120490163564682,
          0.11860820651054382,
          0.12213757634162903,
          0.11623331904411316,
          0.12871861457824707,
          0.11699274927377701,
          0.11945638060569763,
          0.11777304112911224,
          0.1183437779545784,
          0.12189054489135742,
          0.12303511053323746,
          0.11604207754135132,
          0.11871061474084854,
          0.1238534152507782,
          0.11909790337085724,
          0.12203959375619888,
          0.11993985623121262,
          0.12392932176589966,
          0.11740779131650925,
          0.11877605319023132,
          0.1209900975227356,
          0.12033884227275848,
          0.11945398896932602,
          0.11890476942062378,
          0.11549468338489532,
          0.1204201877117157,
          0.1210828498005867,
          0.12285757809877396,
          0.11646907031536102,
          0.11956312507390976,
          0.12140815705060959,
          0.12414436042308807,
          0.12116745859384537,
          0.12292136251926422,
          0.12497041374444962,
          0.11773409694433212,
          0.13037580251693726,
          0.11802700161933899,
          0.12399850785732269,
          0.12078862637281418,
          0.12741504609584808,
          0.12162961810827255,
          0.12239167839288712,
          0.12154089659452438,
          0.1169736236333847,
          0.1278432309627533,
          0.1226988136768341,
          0.12273374944925308,
          0.12801481783390045,
          0.12748394906520844,
          0.1223377138376236,
          0.1230757087469101,
          0.12474919110536575,
          0.12294753640890121,
          0.12250158935785294,
          0.12659505009651184,
          0.12227694690227509,
          0.12365277111530304,
          0.11844061315059662,
          0.12746842205524445,
          0.12038280069828033,
          0.12813104689121246,
          0.12502343952655792,
          0.12100762873888016,
          0.12309054285287857,
          0.12489345669746399,
          0.12359360605478287,
          0.11758426576852798,
          0.12305853515863419,
          0.12278743833303452,
          0.1242433413863182,
          0.12942054867744446,
          0.11694905161857605,
          0.11851894855499268,
          0.1243099644780159,
          0.1175915002822876,
          0.11974775046110153,
          0.12229852378368378,
          0.12027440220117569,
          0.11862944066524506,
          0.12232161313295364,
          0.12102340161800385,
          0.1233261376619339,
          0.11885304003953934,
          0.11942684650421143,
          0.11703551560640335,
          0.1246885433793068,
          0.12077019363641739,
          0.12253633141517639,
          0.12909290194511414,
          0.12188135087490082,
          0.12098217755556107,
          0.12450817227363586,
          0.12904517352581024,
          0.12286464869976044,
          0.12351929396390915,
          0.12788686156272888,
          0.12352918088436127,
          0.12511134147644043,
          0.12723064422607422,
          0.12772740423679352,
          0.12215275317430496,
          0.1237289160490036,
          0.12787337601184845,
          0.12456955015659332,
          0.12514299154281616,
          0.12445662170648575,
          0.12331503629684448,
          0.12735922634601593,
          0.12374348193407059,
          0.12424256652593613,
          0.1354742795228958,
          0.1250736564397812,
          0.12061093747615814,
          0.13116149604320526,
          0.12428837269544601,
          0.13039527833461761,
          0.1345970630645752,
          0.12616635859012604,
          0.1326601654291153,
          0.12730897963047028,
          0.133662149310112,
          0.12994854152202606,
          0.1309901475906372,
          0.13540740311145782,
          0.1328289657831192,
          0.135467991232872,
          0.13387709856033325,
          0.1336413323879242,
          0.13935115933418274,
          0.13283073902130127,
          0.14014238119125366,
          0.14017502963542938,
          0.1355953961610794,
          0.1394401341676712,
          0.13632678985595703,
          0.13872739672660828,
          0.13760995864868164,
          0.1348211169242859,
          0.13201025128364563,
          0.1379263550043106,
          0.14403553307056427,
          0.139169842004776,
          0.13862885534763336,
          0.13908179104328156,
          0.14010868966579437,
          0.1377764493227005,
          0.13470378518104553,
          0.14158084988594055,
          0.13653112947940826,
          0.1390993446111679,
          0.13862885534763336,
          0.13458605110645294,
          0.13704510033130646,
          0.1454586535692215,
          0.14586752653121948,
          0.14582549035549164,
          0.14232195913791656,
          0.1443043202161789,
          0.14662964642047882,
          0.14827318489551544,
          0.1429024338722229,
          0.14391300082206726,
          0.14540457725524902,
          0.14509372413158417,
          0.15314757823944092,
          0.15094858407974243,
          0.14683206379413605,
          0.14487908780574799,
          0.14661452174186707,
          0.14559003710746765,
          0.14748960733413696,
          0.1524529606103897,
          0.14920508861541748,
          0.14640405774116516,
          0.15002617239952087,
          0.14786659181118011,
          0.15301984548568726,
          0.1546514332294464,
          0.154746875166893,
          0.15921777486801147,
          0.16272912919521332,
          0.16326968371868134,
          0.1725350320339203,
          0.1679966300725937,
          0.1582109034061432,
          0.16408595442771912,
          0.1552111953496933,
          0.1574552059173584,
          0.16242757439613342,
          0.17056238651275635,
          0.16489121317863464,
          0.16630159318447113,
          0.1641351282596588,
          0.16515180468559265,
          0.16937211155891418,
          0.1681952178478241,
          0.16301557421684265,
          0.16855427622795105,
          0.17070141434669495,
          0.17059263586997986,
          0.17083075642585754,
          0.16904188692569733,
          0.1680116355419159,
          0.17020443081855774,
          0.1748020052909851,
          0.16700008511543274,
          0.1617526412010193,
          0.17210598289966583,
          0.1790139228105545,
          0.17821645736694336,
          0.1806240826845169,
          0.18149521946907043,
          0.18375638127326965,
          0.18058399856090546,
          0.18703758716583252,
          0.18447348475456238,
          0.1859600841999054,
          0.18685297667980194,
          0.1794404685497284,
          0.18095763027668,
          0.18523536622524261,
          0.19041964411735535,
          0.1914874166250229,
          0.18827861547470093,
          0.18862085044384003,
          0.1869640350341797,
          0.19311943650245667,
          0.1941308230161667,
          0.1934499740600586,
          0.1909620463848114,
          0.19271181523799896,
          0.19681593775749207,
          0.2030981183052063,
          0.19696059823036194,
          0.19861871004104614,
          0.22066110372543335,
          0.21127040684223175,
          0.20252008736133575,
          0.20283973217010498,
          0.19399555027484894,
          0.22116054594516754,
          0.20570321381092072,
          0.2080615907907486,
          0.20640400052070618,
          0.2067168653011322,
          0.197389617562294,
          0.20544229447841644,
          0.21178597211837769,
          0.20804627239704132,
          0.21974819898605347,
          0.20781828463077545,
          0.21455198526382446,
          0.21881809830665588,
          0.20979425311088562,
          0.20758233964443207,
          0.2193673998117447,
          0.21149925887584686,
          0.2105838507413864,
          0.21362443268299103,
          0.21448010206222534,
          0.22061222791671753,
          0.21086911857128143,
          0.22375433146953583,
          0.22360146045684814,
          0.21573099493980408,
          0.23695066571235657,
          0.2157270908355713,
          0.2013607621192932,
          0.20193487405776978,
          0.21470478177070618,
          0.22615507245063782,
          0.21724742650985718,
          0.21713198721408844,
          0.23298279941082,
          0.23413018882274628,
          0.23225122690200806,
          0.23778702318668365,
          0.22702674567699432,
          0.23405662178993225,
          0.24334929883480072,
          0.23531469702720642,
          0.2334831804037094,
          0.22666803002357483,
          0.23608633875846863,
          0.2283993661403656,
          0.2376275509595871,
          0.24212299287319183,
          0.21564346551895142,
          0.22360926866531372,
          0.2396552413702011,
          0.233444482088089,
          0.23111684620380402,
          0.24139100313186646,
          0.24362270534038544,
          0.2461235523223877,
          0.2464732974767685,
          0.24810084700584412,
          0.26183024048805237,
          0.2562841773033142,
          0.2560650706291199,
          0.25655266642570496,
          0.2571013271808624,
          0.24880248308181763,
          0.2586807608604431,
          0.2628518044948578,
          0.25919124484062195,
          0.2666723430156708,
          0.2708108723163605,
          0.26683706045150757,
          0.2648598551750183,
          0.27170899510383606,
          0.2738249897956848,
          0.27779683470726013,
          0.2615927457809448,
          0.2610374689102173,
          0.2652681767940521,
          0.2662273347377777,
          0.2690766751766205,
          0.2746761441230774,
          0.26967212557792664,
          0.27035295963287354,
          0.2771989107131958,
          0.2837826907634735,
          0.2729710042476654,
          0.27536869049072266,
          0.2818879783153534,
          0.282761812210083,
          0.27597352862358093,
          0.28478187322616577,
          0.2786029875278473,
          0.28007981181144714,
          0.2840966582298279,
          0.2949642837047577,
          0.2809348702430725,
          0.2712169587612152,
          0.27971890568733215,
          0.28141966462135315,
          0.2791193127632141,
          0.2818904519081116,
          0.2964487671852112,
          0.2676733136177063,
          0.2610253691673279,
          0.27689868211746216,
          0.2893984913825989,
          0.28763824701309204,
          0.2876024544239044,
          0.2985956072807312,
          0.2954634726047516,
          0.29279887676239014,
          0.30167025327682495,
          0.2933909595012665,
          0.2968112826347351,
          0.29421061277389526,
          0.29821884632110596,
          0.289664089679718,
          0.29199114441871643,
          0.29489490389823914,
          0.2953205406665802,
          0.2895359396934509,
          0.30484139919281006,
          0.30177000164985657,
          0.3111017644405365,
          0.30760180950164795,
          0.30716967582702637,
          0.30673888325691223,
          0.31072986125946045,
          0.3096945285797119,
          0.30695757269859314,
          0.3078290522098541,
          0.3138067424297333,
          0.3149564862251282,
          0.31960630416870117,
          0.3181973397731781,
          0.322974294424057
         ]
        }
       ],
       "layout": {
        "legend": {
         "bgcolor": "#F5F6F9",
         "font": {
          "color": "#4D5663"
         }
        },
        "paper_bgcolor": "#F5F6F9",
        "plot_bgcolor": "#F5F6F9",
        "template": {
         "data": {
          "bar": [
           {
            "error_x": {
             "color": "#2a3f5f"
            },
            "error_y": {
             "color": "#2a3f5f"
            },
            "marker": {
             "line": {
              "color": "#E5ECF6",
              "width": 0.5
             }
            },
            "type": "bar"
           }
          ],
          "barpolar": [
           {
            "marker": {
             "line": {
              "color": "#E5ECF6",
              "width": 0.5
             }
            },
            "type": "barpolar"
           }
          ],
          "carpet": [
           {
            "aaxis": {
             "endlinecolor": "#2a3f5f",
             "gridcolor": "white",
             "linecolor": "white",
             "minorgridcolor": "white",
             "startlinecolor": "#2a3f5f"
            },
            "baxis": {
             "endlinecolor": "#2a3f5f",
             "gridcolor": "white",
             "linecolor": "white",
             "minorgridcolor": "white",
             "startlinecolor": "#2a3f5f"
            },
            "type": "carpet"
           }
          ],
          "choropleth": [
           {
            "colorbar": {
             "outlinewidth": 0,
             "ticks": ""
            },
            "type": "choropleth"
           }
          ],
          "contour": [
           {
            "colorbar": {
             "outlinewidth": 0,
             "ticks": ""
            },
            "colorscale": [
             [
              0,
              "#0d0887"
             ],
             [
              0.1111111111111111,
              "#46039f"
             ],
             [
              0.2222222222222222,
              "#7201a8"
             ],
             [
              0.3333333333333333,
              "#9c179e"
             ],
             [
              0.4444444444444444,
              "#bd3786"
             ],
             [
              0.5555555555555556,
              "#d8576b"
             ],
             [
              0.6666666666666666,
              "#ed7953"
             ],
             [
              0.7777777777777778,
              "#fb9f3a"
             ],
             [
              0.8888888888888888,
              "#fdca26"
             ],
             [
              1,
              "#f0f921"
             ]
            ],
            "type": "contour"
           }
          ],
          "contourcarpet": [
           {
            "colorbar": {
             "outlinewidth": 0,
             "ticks": ""
            },
            "type": "contourcarpet"
           }
          ],
          "heatmap": [
           {
            "colorbar": {
             "outlinewidth": 0,
             "ticks": ""
            },
            "colorscale": [
             [
              0,
              "#0d0887"
             ],
             [
              0.1111111111111111,
              "#46039f"
             ],
             [
              0.2222222222222222,
              "#7201a8"
             ],
             [
              0.3333333333333333,
              "#9c179e"
             ],
             [
              0.4444444444444444,
              "#bd3786"
             ],
             [
              0.5555555555555556,
              "#d8576b"
             ],
             [
              0.6666666666666666,
              "#ed7953"
             ],
             [
              0.7777777777777778,
              "#fb9f3a"
             ],
             [
              0.8888888888888888,
              "#fdca26"
             ],
             [
              1,
              "#f0f921"
             ]
            ],
            "type": "heatmap"
           }
          ],
          "heatmapgl": [
           {
            "colorbar": {
             "outlinewidth": 0,
             "ticks": ""
            },
            "colorscale": [
             [
              0,
              "#0d0887"
             ],
             [
              0.1111111111111111,
              "#46039f"
             ],
             [
              0.2222222222222222,
              "#7201a8"
             ],
             [
              0.3333333333333333,
              "#9c179e"
             ],
             [
              0.4444444444444444,
              "#bd3786"
             ],
             [
              0.5555555555555556,
              "#d8576b"
             ],
             [
              0.6666666666666666,
              "#ed7953"
             ],
             [
              0.7777777777777778,
              "#fb9f3a"
             ],
             [
              0.8888888888888888,
              "#fdca26"
             ],
             [
              1,
              "#f0f921"
             ]
            ],
            "type": "heatmapgl"
           }
          ],
          "histogram": [
           {
            "marker": {
             "colorbar": {
              "outlinewidth": 0,
              "ticks": ""
             }
            },
            "type": "histogram"
           }
          ],
          "histogram2d": [
           {
            "colorbar": {
             "outlinewidth": 0,
             "ticks": ""
            },
            "colorscale": [
             [
              0,
              "#0d0887"
             ],
             [
              0.1111111111111111,
              "#46039f"
             ],
             [
              0.2222222222222222,
              "#7201a8"
             ],
             [
              0.3333333333333333,
              "#9c179e"
             ],
             [
              0.4444444444444444,
              "#bd3786"
             ],
             [
              0.5555555555555556,
              "#d8576b"
             ],
             [
              0.6666666666666666,
              "#ed7953"
             ],
             [
              0.7777777777777778,
              "#fb9f3a"
             ],
             [
              0.8888888888888888,
              "#fdca26"
             ],
             [
              1,
              "#f0f921"
             ]
            ],
            "type": "histogram2d"
           }
          ],
          "histogram2dcontour": [
           {
            "colorbar": {
             "outlinewidth": 0,
             "ticks": ""
            },
            "colorscale": [
             [
              0,
              "#0d0887"
             ],
             [
              0.1111111111111111,
              "#46039f"
             ],
             [
              0.2222222222222222,
              "#7201a8"
             ],
             [
              0.3333333333333333,
              "#9c179e"
             ],
             [
              0.4444444444444444,
              "#bd3786"
             ],
             [
              0.5555555555555556,
              "#d8576b"
             ],
             [
              0.6666666666666666,
              "#ed7953"
             ],
             [
              0.7777777777777778,
              "#fb9f3a"
             ],
             [
              0.8888888888888888,
              "#fdca26"
             ],
             [
              1,
              "#f0f921"
             ]
            ],
            "type": "histogram2dcontour"
           }
          ],
          "mesh3d": [
           {
            "colorbar": {
             "outlinewidth": 0,
             "ticks": ""
            },
            "type": "mesh3d"
           }
          ],
          "parcoords": [
           {
            "line": {
             "colorbar": {
              "outlinewidth": 0,
              "ticks": ""
             }
            },
            "type": "parcoords"
           }
          ],
          "pie": [
           {
            "automargin": true,
            "type": "pie"
           }
          ],
          "scatter": [
           {
            "marker": {
             "colorbar": {
              "outlinewidth": 0,
              "ticks": ""
             }
            },
            "type": "scatter"
           }
          ],
          "scatter3d": [
           {
            "line": {
             "colorbar": {
              "outlinewidth": 0,
              "ticks": ""
             }
            },
            "marker": {
             "colorbar": {
              "outlinewidth": 0,
              "ticks": ""
             }
            },
            "type": "scatter3d"
           }
          ],
          "scattercarpet": [
           {
            "marker": {
             "colorbar": {
              "outlinewidth": 0,
              "ticks": ""
             }
            },
            "type": "scattercarpet"
           }
          ],
          "scattergeo": [
           {
            "marker": {
             "colorbar": {
              "outlinewidth": 0,
              "ticks": ""
             }
            },
            "type": "scattergeo"
           }
          ],
          "scattergl": [
           {
            "marker": {
             "colorbar": {
              "outlinewidth": 0,
              "ticks": ""
             }
            },
            "type": "scattergl"
           }
          ],
          "scattermapbox": [
           {
            "marker": {
             "colorbar": {
              "outlinewidth": 0,
              "ticks": ""
             }
            },
            "type": "scattermapbox"
           }
          ],
          "scatterpolar": [
           {
            "marker": {
             "colorbar": {
              "outlinewidth": 0,
              "ticks": ""
             }
            },
            "type": "scatterpolar"
           }
          ],
          "scatterpolargl": [
           {
            "marker": {
             "colorbar": {
              "outlinewidth": 0,
              "ticks": ""
             }
            },
            "type": "scatterpolargl"
           }
          ],
          "scatterternary": [
           {
            "marker": {
             "colorbar": {
              "outlinewidth": 0,
              "ticks": ""
             }
            },
            "type": "scatterternary"
           }
          ],
          "surface": [
           {
            "colorbar": {
             "outlinewidth": 0,
             "ticks": ""
            },
            "colorscale": [
             [
              0,
              "#0d0887"
             ],
             [
              0.1111111111111111,
              "#46039f"
             ],
             [
              0.2222222222222222,
              "#7201a8"
             ],
             [
              0.3333333333333333,
              "#9c179e"
             ],
             [
              0.4444444444444444,
              "#bd3786"
             ],
             [
              0.5555555555555556,
              "#d8576b"
             ],
             [
              0.6666666666666666,
              "#ed7953"
             ],
             [
              0.7777777777777778,
              "#fb9f3a"
             ],
             [
              0.8888888888888888,
              "#fdca26"
             ],
             [
              1,
              "#f0f921"
             ]
            ],
            "type": "surface"
           }
          ],
          "table": [
           {
            "cells": {
             "fill": {
              "color": "#EBF0F8"
             },
             "line": {
              "color": "white"
             }
            },
            "header": {
             "fill": {
              "color": "#C8D4E3"
             },
             "line": {
              "color": "white"
             }
            },
            "type": "table"
           }
          ]
         },
         "layout": {
          "annotationdefaults": {
           "arrowcolor": "#2a3f5f",
           "arrowhead": 0,
           "arrowwidth": 1
          },
          "coloraxis": {
           "colorbar": {
            "outlinewidth": 0,
            "ticks": ""
           }
          },
          "colorscale": {
           "diverging": [
            [
             0,
             "#8e0152"
            ],
            [
             0.1,
             "#c51b7d"
            ],
            [
             0.2,
             "#de77ae"
            ],
            [
             0.3,
             "#f1b6da"
            ],
            [
             0.4,
             "#fde0ef"
            ],
            [
             0.5,
             "#f7f7f7"
            ],
            [
             0.6,
             "#e6f5d0"
            ],
            [
             0.7,
             "#b8e186"
            ],
            [
             0.8,
             "#7fbc41"
            ],
            [
             0.9,
             "#4d9221"
            ],
            [
             1,
             "#276419"
            ]
           ],
           "sequential": [
            [
             0,
             "#0d0887"
            ],
            [
             0.1111111111111111,
             "#46039f"
            ],
            [
             0.2222222222222222,
             "#7201a8"
            ],
            [
             0.3333333333333333,
             "#9c179e"
            ],
            [
             0.4444444444444444,
             "#bd3786"
            ],
            [
             0.5555555555555556,
             "#d8576b"
            ],
            [
             0.6666666666666666,
             "#ed7953"
            ],
            [
             0.7777777777777778,
             "#fb9f3a"
            ],
            [
             0.8888888888888888,
             "#fdca26"
            ],
            [
             1,
             "#f0f921"
            ]
           ],
           "sequentialminus": [
            [
             0,
             "#0d0887"
            ],
            [
             0.1111111111111111,
             "#46039f"
            ],
            [
             0.2222222222222222,
             "#7201a8"
            ],
            [
             0.3333333333333333,
             "#9c179e"
            ],
            [
             0.4444444444444444,
             "#bd3786"
            ],
            [
             0.5555555555555556,
             "#d8576b"
            ],
            [
             0.6666666666666666,
             "#ed7953"
            ],
            [
             0.7777777777777778,
             "#fb9f3a"
            ],
            [
             0.8888888888888888,
             "#fdca26"
            ],
            [
             1,
             "#f0f921"
            ]
           ]
          },
          "colorway": [
           "#636efa",
           "#EF553B",
           "#00cc96",
           "#ab63fa",
           "#FFA15A",
           "#19d3f3",
           "#FF6692",
           "#B6E880",
           "#FF97FF",
           "#FECB52"
          ],
          "font": {
           "color": "#2a3f5f"
          },
          "geo": {
           "bgcolor": "white",
           "lakecolor": "white",
           "landcolor": "#E5ECF6",
           "showlakes": true,
           "showland": true,
           "subunitcolor": "white"
          },
          "hoverlabel": {
           "align": "left"
          },
          "hovermode": "closest",
          "mapbox": {
           "style": "light"
          },
          "paper_bgcolor": "white",
          "plot_bgcolor": "#E5ECF6",
          "polar": {
           "angularaxis": {
            "gridcolor": "white",
            "linecolor": "white",
            "ticks": ""
           },
           "bgcolor": "#E5ECF6",
           "radialaxis": {
            "gridcolor": "white",
            "linecolor": "white",
            "ticks": ""
           }
          },
          "scene": {
           "xaxis": {
            "backgroundcolor": "#E5ECF6",
            "gridcolor": "white",
            "gridwidth": 2,
            "linecolor": "white",
            "showbackground": true,
            "ticks": "",
            "zerolinecolor": "white"
           },
           "yaxis": {
            "backgroundcolor": "#E5ECF6",
            "gridcolor": "white",
            "gridwidth": 2,
            "linecolor": "white",
            "showbackground": true,
            "ticks": "",
            "zerolinecolor": "white"
           },
           "zaxis": {
            "backgroundcolor": "#E5ECF6",
            "gridcolor": "white",
            "gridwidth": 2,
            "linecolor": "white",
            "showbackground": true,
            "ticks": "",
            "zerolinecolor": "white"
           }
          },
          "shapedefaults": {
           "line": {
            "color": "#2a3f5f"
           }
          },
          "ternary": {
           "aaxis": {
            "gridcolor": "white",
            "linecolor": "white",
            "ticks": ""
           },
           "baxis": {
            "gridcolor": "white",
            "linecolor": "white",
            "ticks": ""
           },
           "bgcolor": "#E5ECF6",
           "caxis": {
            "gridcolor": "white",
            "linecolor": "white",
            "ticks": ""
           }
          },
          "title": {
           "x": 0.05
          },
          "xaxis": {
           "automargin": true,
           "gridcolor": "white",
           "linecolor": "white",
           "ticks": "",
           "title": {
            "standoff": 15
           },
           "zerolinecolor": "white",
           "zerolinewidth": 2
          },
          "yaxis": {
           "automargin": true,
           "gridcolor": "white",
           "linecolor": "white",
           "ticks": "",
           "title": {
            "standoff": 15
           },
           "zerolinecolor": "white",
           "zerolinewidth": 2
          }
         }
        },
        "title": {
         "font": {
          "color": "#4D5663"
         }
        },
        "xaxis": {
         "gridcolor": "#E1E5ED",
         "showgrid": true,
         "tickfont": {
          "color": "#4D5663"
         },
         "title": {
          "font": {
           "color": "#4D5663"
          },
          "text": ""
         },
         "zerolinecolor": "#E1E5ED"
        },
        "yaxis": {
         "gridcolor": "#E1E5ED",
         "showgrid": true,
         "tickfont": {
          "color": "#4D5663"
         },
         "title": {
          "font": {
           "color": "#4D5663"
          },
          "text": ""
         },
         "zerolinecolor": "#E1E5ED"
        }
       }
      },
      "text/html": [
       "<div>                            <div id=\"051526bf-fa72-464f-85cc-83d305155b69\" class=\"plotly-graph-div\" style=\"height:525px; width:100%;\"></div>            <script type=\"text/javascript\">                require([\"plotly\"], function(Plotly) {                    window.PLOTLYENV=window.PLOTLYENV || {};\n",
       "                    window.PLOTLYENV.BASE_URL='https://plot.ly';                                    if (document.getElementById(\"051526bf-fa72-464f-85cc-83d305155b69\")) {                    Plotly.newPlot(                        \"051526bf-fa72-464f-85cc-83d305155b69\",                        [{\"line\": {\"color\": \"rgba(255, 153, 51, 1.0)\", \"dash\": \"solid\", \"shape\": \"linear\", \"width\": 1.3}, \"mode\": \"lines\", \"name\": \"loss\", \"text\": \"\", \"type\": \"scatter\", \"x\": [0, 1, 2, 3, 4, 5, 6, 7, 8, 9, 10, 11, 12, 13, 14, 15, 16, 17, 18, 19, 20, 21, 22, 23, 24, 25, 26, 27, 28, 29, 30, 31, 32, 33, 34, 35, 36, 37, 38, 39, 40, 41, 42, 43, 44, 45, 46, 47, 48, 49, 50, 51, 52, 53, 54, 55, 56, 57, 58, 59, 60, 61, 62, 63, 64, 65, 66, 67, 68, 69, 70, 71, 72, 73, 74, 75, 76, 77, 78, 79, 80, 81, 82, 83, 84, 85, 86, 87, 88, 89, 90, 91, 92, 93, 94, 95, 96, 97, 98, 99, 100, 101, 102, 103, 104, 105, 106, 107, 108, 109, 110, 111, 112, 113, 114, 115, 116, 117, 118, 119, 120, 121, 122, 123, 124, 125, 126, 127, 128, 129, 130, 131, 132, 133, 134, 135, 136, 137, 138, 139, 140, 141, 142, 143, 144, 145, 146, 147, 148, 149, 150, 151, 152, 153, 154, 155, 156, 157, 158, 159, 160, 161, 162, 163, 164, 165, 166, 167, 168, 169, 170, 171, 172, 173, 174, 175, 176, 177, 178, 179, 180, 181, 182, 183, 184, 185, 186, 187, 188, 189, 190, 191, 192, 193, 194, 195, 196, 197, 198, 199, 200, 201, 202, 203, 204, 205, 206, 207, 208, 209, 210, 211, 212, 213, 214, 215, 216, 217, 218, 219, 220, 221, 222, 223, 224, 225, 226, 227, 228, 229, 230, 231, 232, 233, 234, 235, 236, 237, 238, 239, 240, 241, 242, 243, 244, 245, 246, 247, 248, 249, 250, 251, 252, 253, 254, 255, 256, 257, 258, 259, 260, 261, 262, 263, 264, 265, 266, 267, 268, 269, 270, 271, 272, 273, 274, 275, 276, 277, 278, 279, 280, 281, 282, 283, 284, 285, 286, 287, 288, 289, 290, 291, 292, 293, 294, 295, 296, 297, 298, 299, 300, 301, 302, 303, 304, 305, 306, 307, 308, 309, 310, 311, 312, 313, 314, 315, 316, 317, 318, 319, 320, 321, 322, 323, 324, 325, 326, 327, 328, 329, 330, 331, 332, 333, 334, 335, 336, 337, 338, 339, 340, 341, 342, 343, 344, 345, 346, 347, 348, 349, 350, 351, 352, 353, 354, 355, 356, 357, 358, 359, 360, 361, 362, 363, 364, 365, 366, 367, 368, 369, 370, 371, 372, 373, 374, 375, 376, 377, 378, 379, 380, 381, 382, 383, 384, 385, 386, 387, 388, 389, 390, 391, 392, 393, 394, 395, 396, 397, 398, 399, 400, 401, 402, 403, 404, 405, 406, 407, 408, 409, 410, 411, 412, 413, 414, 415, 416, 417, 418, 419, 420, 421, 422, 423, 424, 425, 426, 427, 428, 429, 430, 431, 432, 433, 434, 435, 436, 437, 438, 439, 440, 441, 442, 443, 444, 445, 446, 447, 448, 449, 450, 451, 452, 453, 454, 455, 456, 457, 458, 459, 460, 461, 462, 463, 464, 465, 466, 467, 468, 469, 470, 471, 472, 473, 474, 475, 476, 477, 478, 479, 480, 481, 482, 483, 484, 485, 486, 487, 488, 489, 490, 491, 492, 493, 494, 495, 496, 497, 498, 499, 500, 501, 502, 503, 504, 505, 506, 507, 508, 509, 510, 511, 512, 513, 514, 515, 516, 517, 518, 519, 520, 521, 522, 523, 524, 525, 526, 527, 528, 529, 530, 531, 532, 533, 534, 535, 536, 537, 538, 539, 540, 541, 542, 543, 544, 545, 546, 547, 548, 549, 550, 551, 552, 553, 554, 555, 556, 557, 558, 559, 560, 561, 562, 563, 564, 565, 566, 567, 568, 569, 570, 571, 572, 573, 574, 575, 576, 577, 578, 579, 580, 581, 582, 583, 584, 585, 586, 587, 588, 589, 590, 591, 592, 593, 594, 595, 596, 597, 598, 599], \"y\": [0.6726390719413757, 0.632461667060852, 0.5912758708000183, 0.5488835573196411, 0.49820199608802795, 0.45201823115348816, 0.4103251099586487, 0.3700118362903595, 0.33576279878616333, 0.30836209654808044, 0.2853538990020752, 0.2655433714389801, 0.24655018746852875, 0.23063963651657104, 0.21812231838703156, 0.20694857835769653, 0.19634409248828888, 0.18729497492313385, 0.17894573509693146, 0.1709267944097519, 0.16305851936340332, 0.15632778406143188, 0.1489325910806656, 0.14441941678524017, 0.14096492528915405, 0.132854163646698, 0.12665875256061554, 0.12339232861995697, 0.12409020215272903, 0.11493543535470963, 0.11240922659635544, 0.10794803500175476, 0.1053977757692337, 0.10079267621040344, 0.09869471937417984, 0.09569434821605682, 0.0925324335694313, 0.0899885892868042, 0.09064315259456635, 0.08660321682691574, 0.08470054715871811, 0.08582030981779099, 0.08694826811552048, 0.0846550390124321, 0.07795719057321548, 0.07667732983827591, 0.07524389028549194, 0.0737629160284996, 0.07385609298944473, 0.07176438719034195, 0.07204658538103104, 0.07929829508066177, 0.07512284815311432, 0.06764565408229828, 0.06677114218473434, 0.07009660452604294, 0.0662543997168541, 0.06488043069839478, 0.06544207781553268, 0.0712202936410904, 0.06505756825208664, 0.06389208883047104, 0.06209079176187515, 0.061832644045352936, 0.06266481429338455, 0.06211677938699722, 0.05996023863554001, 0.05903984233736992, 0.059037867933511734, 0.05807337164878845, 0.05851072072982788, 0.05730124190449715, 0.05701184272766113, 0.05650056153535843, 0.056906916201114655, 0.05543098971247673, 0.055183518677949905, 0.059754785150289536, 0.05586497485637665, 0.05442072078585625, 0.054158810526132584, 0.054963573813438416, 0.056323569267988205, 0.05669255927205086, 0.05260825902223587, 0.05208997055888176, 0.05730310454964638, 0.05326707288622856, 0.05293728783726692, 0.05319800227880478, 0.051124799996614456, 0.05093922093510628, 0.051550835371017456, 0.0503123477101326, 0.04939812049269676, 0.04969162121415138, 0.049346040934324265, 0.05010896176099777, 0.04889867082238197, 0.048115089535713196, 0.04842310771346092, 0.05410515144467354, 0.047964610159397125, 0.04751605540513992, 0.04749169573187828, 0.04808579012751579, 0.04732136428356171, 0.04748580977320671, 0.058419376611709595, 0.05423377454280853, 0.04984832555055618, 0.04779568687081337, 0.04696245491504669, 0.05176842212677002, 0.04605907201766968, 0.046337954699993134, 0.04678943008184433, 0.0445038266479969, 0.044573184102773666, 0.044544726610183716, 0.045941006392240524, 0.04416754096746445, 0.04463005065917969, 0.04708109050989151, 0.043129585683345795, 0.043934375047683716, 0.043699923902750015, 0.0445222444832325, 0.042364344000816345, 0.044126879423856735, 0.04405651241540909, 0.042337145656347275, 0.04213650897145271, 0.04210897535085678, 0.05090520903468132, 0.04465533047914505, 0.04642285034060478, 0.04183778911828995, 0.04174739494919777, 0.041018176823854446, 0.040823716670274734, 0.042404282838106155, 0.04155813902616501, 0.04145810753107071, 0.04092550650238991, 0.04097473621368408, 0.03950757905840874, 0.0405702143907547, 0.040994782000780106, 0.049148496240377426, 0.04199377819895744, 0.03981849178671837, 0.03936399891972542, 0.0406864732503891, 0.039494600147008896, 0.03880203887820244, 0.03834855556488037, 0.03948359936475754, 0.03845911845564842, 0.03930218890309334, 0.03831837698817253, 0.03745759651064873, 0.04122335463762283, 0.03831084445118904, 0.036799028515815735, 0.03705446422100067, 0.03993216156959534, 0.038142409175634384, 0.04253242537379265, 0.03884679451584816, 0.035658951848745346, 0.036927249282598495, 0.03620005026459694, 0.03982176631689072, 0.03791508823633194, 0.03819918632507324, 0.03567507117986679, 0.03737139701843262, 0.034369856119155884, 0.037380870431661606, 0.03508033975958824, 0.035565394908189774, 0.03526249900460243, 0.03456345573067665, 0.034083958715200424, 0.034536585211753845, 0.034178949892520905, 0.039475925266742706, 0.03485989198088646, 0.033783964812755585, 0.03390462324023247, 0.035855524241924286, 0.03341233730316162, 0.03334896266460419, 0.03285085782408714, 0.03441014140844345, 0.034509941935539246, 0.03313012793660164, 0.032740719616413116, 0.0348573662340641, 0.0337325856089592, 0.03255660831928253, 0.032534196972846985, 0.0333283506333828, 0.034568291157484055, 0.03342483937740326, 0.03416026011109352, 0.03355235233902931, 0.030795475468039513, 0.031553588807582855, 0.0321982279419899, 0.030874669551849365, 0.031246626749634743, 0.03262520581483841, 0.03110615909099579, 0.033775877207517624, 0.04347659647464752, 0.03200049698352814, 0.03033941052854061, 0.03012562170624733, 0.02984464168548584, 0.02993837371468544, 0.03151439502835274, 0.029731936752796173, 0.03228180855512619, 0.029922882094979286, 0.03059965744614601, 0.03151656687259674, 0.0326433926820755, 0.03061416745185852, 0.034064263105392456, 0.030811963602900505, 0.028613056987524033, 0.028609398752450943, 0.028010325506329536, 0.028089752420783043, 0.03615737706422806, 0.032276496291160583, 0.027838977053761482, 0.03041219711303711, 0.027223601937294006, 0.027615780010819435, 0.027900533750653267, 0.02710842341184616, 0.027528969570994377, 0.0286870077252388, 0.029780663549900055, 0.02794322557747364, 0.02906397171318531, 0.03044002130627632, 0.03155773878097534, 0.027114160358905792, 0.027249613776803017, 0.026482930406928062, 0.026521459221839905, 0.031093912199139595, 0.02767842449247837, 0.026888500899076462, 0.0255311019718647, 0.027417341247200966, 0.026374371722340584, 0.026639657095074654, 0.02519870363175869, 0.027014002203941345, 0.025964058935642242, 0.026526162400841713, 0.026077330112457275, 0.025283969938755035, 0.031972505152225494, 0.029214955866336823, 0.028478385880589485, 0.02745687961578369, 0.024352973327040672, 0.02515709400177002, 0.02723459154367447, 0.028549980372190475, 0.023991495370864868, 0.024286825209856033, 0.02438289299607277, 0.023716378957033157, 0.024315688759088516, 0.024614408612251282, 0.02360590361058712, 0.024543581530451775, 0.02652466855943203, 0.026562655344605446, 0.02560858242213726, 0.02644280157983303, 0.02355574630200863, 0.023421594873070717, 0.022642888128757477, 0.023907208815217018, 0.02671595849096775, 0.024836184456944466, 0.02242869883775711, 0.022420436143875122, 0.02493736334145069, 0.025274567306041718, 0.025336211547255516, 0.024851001799106598, 0.028056025505065918, 0.02788451500236988, 0.022724824026226997, 0.021834172308444977, 0.02357453852891922, 0.02221408300101757, 0.022572552785277367, 0.023958563804626465, 0.021241655573248863, 0.02464296482503414, 0.02163597196340561, 0.022908173501491547, 0.0206306055188179, 0.021481681615114212, 0.020741460844874382, 0.020827196538448334, 0.022188762202858925, 0.021186362951993942, 0.02111656405031681, 0.022608332335948944, 0.021805301308631897, 0.0204915888607502, 0.02139020711183548, 0.022622548043727875, 0.0209942776709795, 0.021670648828148842, 0.02166314423084259, 0.02032102271914482, 0.022337356582283974, 0.0214830469340086, 0.020553026348352432, 0.02163183130323887, 0.020898696035146713, 0.019730646163225174, 0.019482504576444626, 0.020195383578538895, 0.022090155631303787, 0.021133678033947945, 0.026744356378912926, 0.020776450634002686, 0.02042362280189991, 0.020033283159136772, 0.020010262727737427, 0.019594168290495872, 0.019315272569656372, 0.01892082393169403, 0.019334807991981506, 0.020297978073358536, 0.018936533480882645, 0.018024226650595665, 0.019350452348589897, 0.01754060946404934, 0.019123652949929237, 0.01800621673464775, 0.018572814762592316, 0.020872334018349648, 0.018216392025351524, 0.017901932820677757, 0.01838010922074318, 0.018093755468726158, 0.017439335584640503, 0.01897512748837471, 0.023751912638545036, 0.018929898738861084, 0.01888994686305523, 0.01971380040049553, 0.017568357288837433, 0.018397854641079903, 0.018547648563981056, 0.01781519129872322, 0.019427025690674782, 0.022250205278396606, 0.017627108842134476, 0.017277874052524567, 0.017646513879299164, 0.019371405243873596, 0.01869930513203144, 0.017195312306284904, 0.01686990261077881, 0.01622053049504757, 0.01654301956295967, 0.020061016082763672, 0.017558200284838676, 0.015917392447590828, 0.017724161967635155, 0.01671762578189373, 0.015685290098190308, 0.016562528908252716, 0.01632659137248993, 0.015467450022697449, 0.01581488363444805, 0.018676212057471275, 0.01637544482946396, 0.01550301443785429, 0.016360530629754066, 0.017408080399036407, 0.01772601529955864, 0.018864767625927925, 0.016468046233057976, 0.01749127358198166, 0.019791090860962868, 0.015531564131379128, 0.014503411017358303, 0.014227486215531826, 0.015170590952038765, 0.017242789268493652, 0.015306271612644196, 0.0164182148873806, 0.014623122289776802, 0.015174799598753452, 0.014523260295391083, 0.016825824975967407, 0.01633461005985737, 0.014494170434772968, 0.014078960753977299, 0.015549267642199993, 0.014086590148508549, 0.016208870336413383, 0.01632610894739628, 0.014494547620415688, 0.013745365664362907, 0.014357672072947025, 0.014085337519645691, 0.013657137751579285, 0.015309782698750496, 0.020809834823012352, 0.01655278354883194, 0.012958516366779804, 0.014868786558508873, 0.014012536033987999, 0.01734123006463051, 0.014582455158233643, 0.014377554878592491, 0.013251250609755516, 0.013487483374774456, 0.013234040699899197, 0.013124758377671242, 0.014162502251565456, 0.013057520613074303, 0.012928458862006664, 0.013070628046989441, 0.012917378917336464, 0.012157450430095196, 0.014077390544116497, 0.014913730323314667, 0.01413622684776783, 0.012960411608219147, 0.012574094347655773, 0.01297745667397976, 0.012071313336491585, 0.012629919685423374, 0.013459349982440472, 0.012627470307052135, 0.011720641516149044, 0.011995302513241768, 0.011974244378507137, 0.011557181365787983, 0.012923368252813816, 0.012751352973282337, 0.012400364503264427, 0.011534049175679684, 0.01540551707148552, 0.01241750456392765, 0.012884693220257759, 0.015666130930185318, 0.013828183524310589, 0.021646961569786072, 0.014048038981854916, 0.011934556066989899, 0.012728644534945488, 0.011521677486598492, 0.013026649132370949, 0.011406265199184418, 0.013009424321353436, 0.01361051481217146, 0.011194249615073204, 0.012324381619691849, 0.01190832257270813, 0.01319675613194704, 0.01480806153267622, 0.014132109470665455, 0.01434363517910242, 0.011474855244159698, 0.010346713475883007, 0.01103542186319828, 0.01086203008890152, 0.017017865553498268, 0.010915691964328289, 0.011453129351139069, 0.011235684156417847, 0.01117289811372757, 0.018236666917800903, 0.018734635785222054, 0.018818410113453865, 0.013926024548709393, 0.011405172757804394, 0.011231431737542152, 0.009667856618762016, 0.01055263914167881, 0.01054737251251936, 0.010480479337275028, 0.011127486824989319, 0.01091498602181673, 0.009830966591835022, 0.009993068873882294, 0.011874435469508171, 0.01458278764039278, 0.012147083878517151, 0.01277967169880867, 0.010504757054150105, 0.00987498089671135, 0.011611389927566051, 0.0175763089209795, 0.011739824898540974, 0.01047122199088335, 0.011354966089129448, 0.010818380862474442, 0.00958293117582798, 0.009147187694907188, 0.009396851062774658, 0.009617667645215988, 0.00897499080747366, 0.00961259938776493, 0.008892439305782318, 0.009118667803704739, 0.0102944765239954, 0.007985956966876984, 0.011469452641904354, 0.009155928157269955, 0.00828410405665636, 0.008450607769191265, 0.01000794768333435, 0.008787871338427067, 0.008374392986297607, 0.008739379234611988, 0.011093471199274063, 0.012807448394596577, 0.018515944480895996, 0.010064816102385521, 0.011897062882781029, 0.007840169593691826, 0.008984292857348919, 0.0082543371245265, 0.008451729081571102, 0.008214262314140797, 0.009560192003846169, 0.0082058385014534, 0.00788288377225399, 0.007937378250062466, 0.00883070845156908, 0.007950790226459503, 0.007504960056394339, 0.007362681441009045, 0.007842258550226688, 0.00753392931073904, 0.007347500417381525, 0.00740306219086051, 0.007677130866795778, 0.01313603762537241, 0.012861907482147217, 0.010327338241040707, 0.00864584930241108, 0.008120426908135414, 0.008763107471168041, 0.008366807363927364, 0.013837547041475773, 0.012125571258366108, 0.009285284206271172, 0.007707035169005394, 0.0068855565041303635, 0.006886046379804611, 0.007455175276845694, 0.00692973006516695, 0.0077979653142392635, 0.0064683714881539345, 0.007767168339341879, 0.0073357089422643185, 0.008473378606140614, 0.0066155786626040936, 0.009531662799417973, 0.009123914875090122, 0.009196928702294827, 0.0068685258738696575, 0.007237317971885204, 0.007942607626318932, 0.006651942618191242, 0.006385780405253172, 0.006437694653868675, 0.006622373126447201, 0.007095116190612316, 0.008024130947887897, 0.006362227723002434, 0.00745284091681242, 0.00887942686676979, 0.008514337241649628, 0.008172261528670788, 0.008255710825324059, 0.007212462369352579, 0.00817105546593666, 0.0073515926487743855]}, {\"line\": {\"color\": \"rgba(55, 128, 191, 1.0)\", \"dash\": \"solid\", \"shape\": \"linear\", \"width\": 1.3}, \"mode\": \"lines\", \"name\": \"val_loss\", \"text\": \"\", \"type\": \"scatter\", \"x\": [0, 1, 2, 3, 4, 5, 6, 7, 8, 9, 10, 11, 12, 13, 14, 15, 16, 17, 18, 19, 20, 21, 22, 23, 24, 25, 26, 27, 28, 29, 30, 31, 32, 33, 34, 35, 36, 37, 38, 39, 40, 41, 42, 43, 44, 45, 46, 47, 48, 49, 50, 51, 52, 53, 54, 55, 56, 57, 58, 59, 60, 61, 62, 63, 64, 65, 66, 67, 68, 69, 70, 71, 72, 73, 74, 75, 76, 77, 78, 79, 80, 81, 82, 83, 84, 85, 86, 87, 88, 89, 90, 91, 92, 93, 94, 95, 96, 97, 98, 99, 100, 101, 102, 103, 104, 105, 106, 107, 108, 109, 110, 111, 112, 113, 114, 115, 116, 117, 118, 119, 120, 121, 122, 123, 124, 125, 126, 127, 128, 129, 130, 131, 132, 133, 134, 135, 136, 137, 138, 139, 140, 141, 142, 143, 144, 145, 146, 147, 148, 149, 150, 151, 152, 153, 154, 155, 156, 157, 158, 159, 160, 161, 162, 163, 164, 165, 166, 167, 168, 169, 170, 171, 172, 173, 174, 175, 176, 177, 178, 179, 180, 181, 182, 183, 184, 185, 186, 187, 188, 189, 190, 191, 192, 193, 194, 195, 196, 197, 198, 199, 200, 201, 202, 203, 204, 205, 206, 207, 208, 209, 210, 211, 212, 213, 214, 215, 216, 217, 218, 219, 220, 221, 222, 223, 224, 225, 226, 227, 228, 229, 230, 231, 232, 233, 234, 235, 236, 237, 238, 239, 240, 241, 242, 243, 244, 245, 246, 247, 248, 249, 250, 251, 252, 253, 254, 255, 256, 257, 258, 259, 260, 261, 262, 263, 264, 265, 266, 267, 268, 269, 270, 271, 272, 273, 274, 275, 276, 277, 278, 279, 280, 281, 282, 283, 284, 285, 286, 287, 288, 289, 290, 291, 292, 293, 294, 295, 296, 297, 298, 299, 300, 301, 302, 303, 304, 305, 306, 307, 308, 309, 310, 311, 312, 313, 314, 315, 316, 317, 318, 319, 320, 321, 322, 323, 324, 325, 326, 327, 328, 329, 330, 331, 332, 333, 334, 335, 336, 337, 338, 339, 340, 341, 342, 343, 344, 345, 346, 347, 348, 349, 350, 351, 352, 353, 354, 355, 356, 357, 358, 359, 360, 361, 362, 363, 364, 365, 366, 367, 368, 369, 370, 371, 372, 373, 374, 375, 376, 377, 378, 379, 380, 381, 382, 383, 384, 385, 386, 387, 388, 389, 390, 391, 392, 393, 394, 395, 396, 397, 398, 399, 400, 401, 402, 403, 404, 405, 406, 407, 408, 409, 410, 411, 412, 413, 414, 415, 416, 417, 418, 419, 420, 421, 422, 423, 424, 425, 426, 427, 428, 429, 430, 431, 432, 433, 434, 435, 436, 437, 438, 439, 440, 441, 442, 443, 444, 445, 446, 447, 448, 449, 450, 451, 452, 453, 454, 455, 456, 457, 458, 459, 460, 461, 462, 463, 464, 465, 466, 467, 468, 469, 470, 471, 472, 473, 474, 475, 476, 477, 478, 479, 480, 481, 482, 483, 484, 485, 486, 487, 488, 489, 490, 491, 492, 493, 494, 495, 496, 497, 498, 499, 500, 501, 502, 503, 504, 505, 506, 507, 508, 509, 510, 511, 512, 513, 514, 515, 516, 517, 518, 519, 520, 521, 522, 523, 524, 525, 526, 527, 528, 529, 530, 531, 532, 533, 534, 535, 536, 537, 538, 539, 540, 541, 542, 543, 544, 545, 546, 547, 548, 549, 550, 551, 552, 553, 554, 555, 556, 557, 558, 559, 560, 561, 562, 563, 564, 565, 566, 567, 568, 569, 570, 571, 572, 573, 574, 575, 576, 577, 578, 579, 580, 581, 582, 583, 584, 585, 586, 587, 588, 589, 590, 591, 592, 593, 594, 595, 596, 597, 598, 599], \"y\": [0.6516445279121399, 0.6137224435806274, 0.571143388748169, 0.5224148035049438, 0.47248396277427673, 0.42319706082344055, 0.38260096311569214, 0.3443557322025299, 0.31394460797309875, 0.28480854630470276, 0.2616320252418518, 0.24104447662830353, 0.22425760328769684, 0.20730425417423248, 0.19679726660251617, 0.18636135756969452, 0.17575757205486298, 0.16663402318954468, 0.1626664102077484, 0.1521824300289154, 0.14910514652729034, 0.142584890127182, 0.13962644338607788, 0.13189181685447693, 0.1334674209356308, 0.12579447031021118, 0.12689998745918274, 0.12284337729215622, 0.11840131878852844, 0.11583828181028366, 0.11354003846645355, 0.11554815620183945, 0.11063859611749649, 0.1112782433629036, 0.10840864479541779, 0.10766769200563431, 0.10423687100410461, 0.10915835946798325, 0.1024193987250328, 0.10651569068431854, 0.10197579860687256, 0.102717824280262, 0.10583805292844772, 0.10194722563028336, 0.1021868959069252, 0.10089971125125885, 0.1015719473361969, 0.10119517892599106, 0.10128191858530045, 0.09761695563793182, 0.09780323505401611, 0.1017589271068573, 0.09870005398988724, 0.10532666742801666, 0.09761907905340195, 0.10310495644807816, 0.09935209155082703, 0.10107476264238358, 0.09579743444919586, 0.10426029562950134, 0.0979902595281601, 0.10034169256687164, 0.09794383496046066, 0.09816662967205048, 0.10117454826831818, 0.10083643347024918, 0.09880571067333221, 0.09865441918373108, 0.09892036765813828, 0.10050718486309052, 0.09631361812353134, 0.10186095535755157, 0.09893051534891129, 0.10093190521001816, 0.10170208662748337, 0.09635453671216965, 0.10389237105846405, 0.10140743851661682, 0.09718006104230881, 0.10366816818714142, 0.09744317084550858, 0.09632228314876556, 0.10356263816356659, 0.09988059103488922, 0.09979080408811569, 0.10212142765522003, 0.09760168939828873, 0.10242076218128204, 0.10739374160766602, 0.1006389856338501, 0.1100083515048027, 0.10193056613206863, 0.10723382979631424, 0.10196371376514435, 0.10581821948289871, 0.10207365453243256, 0.10328932106494904, 0.10325194150209427, 0.11035098135471344, 0.10045042634010315, 0.10567496716976166, 0.10327387601137161, 0.10564326494932175, 0.10820260643959045, 0.10594330728054047, 0.10381105542182922, 0.10487835109233856, 0.10647695511579514, 0.10513826459646225, 0.10702015459537506, 0.10363341867923737, 0.10633280873298645, 0.10414615273475647, 0.10457870364189148, 0.10262268036603928, 0.1116633340716362, 0.1028854250907898, 0.10894966870546341, 0.10637438297271729, 0.10784208029508591, 0.10621984302997589, 0.10993591696023941, 0.10844537615776062, 0.10620211064815521, 0.11197420954704285, 0.10803555697202682, 0.1091509535908699, 0.11237848550081253, 0.10659894347190857, 0.10922017693519592, 0.1118566170334816, 0.1111781969666481, 0.10963644087314606, 0.10945416241884232, 0.10644731670618057, 0.11690524965524673, 0.10373906791210175, 0.1148800328373909, 0.11138540506362915, 0.10793980211019516, 0.11265329271554947, 0.10946042835712433, 0.10821477323770523, 0.11278454959392548, 0.11119412630796432, 0.11834084242582321, 0.11206500232219696, 0.11469367146492004, 0.11361658573150635, 0.11717573553323746, 0.11154237389564514, 0.11338517814874649, 0.10894615948200226, 0.11191534996032715, 0.10970264673233032, 0.11190665513277054, 0.11839596927165985, 0.10831823199987411, 0.11349387466907501, 0.1151585504412651, 0.12149565666913986, 0.11013366281986237, 0.1140131801366806, 0.11619626730680466, 0.11710175126791, 0.11723797023296356, 0.1142529845237732, 0.10990993678569794, 0.11387203633785248, 0.11176303029060364, 0.12023093551397324, 0.11169262230396271, 0.1146884337067604, 0.11142895370721817, 0.11598337441682816, 0.11192262917757034, 0.11667931824922562, 0.11143077164888382, 0.12238387763500214, 0.11576860398054123, 0.11133874952793121, 0.11961711198091507, 0.11803966015577316, 0.11325027793645859, 0.1182418242096901, 0.11617680639028549, 0.11911925673484802, 0.12965252995491028, 0.11673640459775925, 0.1170506402850151, 0.11505421996116638, 0.1183750331401825, 0.11827878654003143, 0.12139558047056198, 0.1176682710647583, 0.12006312608718872, 0.11976790428161621, 0.11666014045476913, 0.1225779727101326, 0.12031904608011246, 0.12473790347576141, 0.11666256934404373, 0.12059066444635391, 0.1140153557062149, 0.12350210547447205, 0.11344557255506516, 0.11935879290103912, 0.11488187313079834, 0.12495844811201096, 0.12082038819789886, 0.12265434861183167, 0.12074350565671921, 0.1270827054977417, 0.12404703348875046, 0.1262858808040619, 0.11757086217403412, 0.12001040577888489, 0.12194881588220596, 0.11691230535507202, 0.11857593059539795, 0.12042916566133499, 0.11920683830976486, 0.12294308096170425, 0.12136755138635635, 0.1205870732665062, 0.120490163564682, 0.11860820651054382, 0.12213757634162903, 0.11623331904411316, 0.12871861457824707, 0.11699274927377701, 0.11945638060569763, 0.11777304112911224, 0.1183437779545784, 0.12189054489135742, 0.12303511053323746, 0.11604207754135132, 0.11871061474084854, 0.1238534152507782, 0.11909790337085724, 0.12203959375619888, 0.11993985623121262, 0.12392932176589966, 0.11740779131650925, 0.11877605319023132, 0.1209900975227356, 0.12033884227275848, 0.11945398896932602, 0.11890476942062378, 0.11549468338489532, 0.1204201877117157, 0.1210828498005867, 0.12285757809877396, 0.11646907031536102, 0.11956312507390976, 0.12140815705060959, 0.12414436042308807, 0.12116745859384537, 0.12292136251926422, 0.12497041374444962, 0.11773409694433212, 0.13037580251693726, 0.11802700161933899, 0.12399850785732269, 0.12078862637281418, 0.12741504609584808, 0.12162961810827255, 0.12239167839288712, 0.12154089659452438, 0.1169736236333847, 0.1278432309627533, 0.1226988136768341, 0.12273374944925308, 0.12801481783390045, 0.12748394906520844, 0.1223377138376236, 0.1230757087469101, 0.12474919110536575, 0.12294753640890121, 0.12250158935785294, 0.12659505009651184, 0.12227694690227509, 0.12365277111530304, 0.11844061315059662, 0.12746842205524445, 0.12038280069828033, 0.12813104689121246, 0.12502343952655792, 0.12100762873888016, 0.12309054285287857, 0.12489345669746399, 0.12359360605478287, 0.11758426576852798, 0.12305853515863419, 0.12278743833303452, 0.1242433413863182, 0.12942054867744446, 0.11694905161857605, 0.11851894855499268, 0.1243099644780159, 0.1175915002822876, 0.11974775046110153, 0.12229852378368378, 0.12027440220117569, 0.11862944066524506, 0.12232161313295364, 0.12102340161800385, 0.1233261376619339, 0.11885304003953934, 0.11942684650421143, 0.11703551560640335, 0.1246885433793068, 0.12077019363641739, 0.12253633141517639, 0.12909290194511414, 0.12188135087490082, 0.12098217755556107, 0.12450817227363586, 0.12904517352581024, 0.12286464869976044, 0.12351929396390915, 0.12788686156272888, 0.12352918088436127, 0.12511134147644043, 0.12723064422607422, 0.12772740423679352, 0.12215275317430496, 0.1237289160490036, 0.12787337601184845, 0.12456955015659332, 0.12514299154281616, 0.12445662170648575, 0.12331503629684448, 0.12735922634601593, 0.12374348193407059, 0.12424256652593613, 0.1354742795228958, 0.1250736564397812, 0.12061093747615814, 0.13116149604320526, 0.12428837269544601, 0.13039527833461761, 0.1345970630645752, 0.12616635859012604, 0.1326601654291153, 0.12730897963047028, 0.133662149310112, 0.12994854152202606, 0.1309901475906372, 0.13540740311145782, 0.1328289657831192, 0.135467991232872, 0.13387709856033325, 0.1336413323879242, 0.13935115933418274, 0.13283073902130127, 0.14014238119125366, 0.14017502963542938, 0.1355953961610794, 0.1394401341676712, 0.13632678985595703, 0.13872739672660828, 0.13760995864868164, 0.1348211169242859, 0.13201025128364563, 0.1379263550043106, 0.14403553307056427, 0.139169842004776, 0.13862885534763336, 0.13908179104328156, 0.14010868966579437, 0.1377764493227005, 0.13470378518104553, 0.14158084988594055, 0.13653112947940826, 0.1390993446111679, 0.13862885534763336, 0.13458605110645294, 0.13704510033130646, 0.1454586535692215, 0.14586752653121948, 0.14582549035549164, 0.14232195913791656, 0.1443043202161789, 0.14662964642047882, 0.14827318489551544, 0.1429024338722229, 0.14391300082206726, 0.14540457725524902, 0.14509372413158417, 0.15314757823944092, 0.15094858407974243, 0.14683206379413605, 0.14487908780574799, 0.14661452174186707, 0.14559003710746765, 0.14748960733413696, 0.1524529606103897, 0.14920508861541748, 0.14640405774116516, 0.15002617239952087, 0.14786659181118011, 0.15301984548568726, 0.1546514332294464, 0.154746875166893, 0.15921777486801147, 0.16272912919521332, 0.16326968371868134, 0.1725350320339203, 0.1679966300725937, 0.1582109034061432, 0.16408595442771912, 0.1552111953496933, 0.1574552059173584, 0.16242757439613342, 0.17056238651275635, 0.16489121317863464, 0.16630159318447113, 0.1641351282596588, 0.16515180468559265, 0.16937211155891418, 0.1681952178478241, 0.16301557421684265, 0.16855427622795105, 0.17070141434669495, 0.17059263586997986, 0.17083075642585754, 0.16904188692569733, 0.1680116355419159, 0.17020443081855774, 0.1748020052909851, 0.16700008511543274, 0.1617526412010193, 0.17210598289966583, 0.1790139228105545, 0.17821645736694336, 0.1806240826845169, 0.18149521946907043, 0.18375638127326965, 0.18058399856090546, 0.18703758716583252, 0.18447348475456238, 0.1859600841999054, 0.18685297667980194, 0.1794404685497284, 0.18095763027668, 0.18523536622524261, 0.19041964411735535, 0.1914874166250229, 0.18827861547470093, 0.18862085044384003, 0.1869640350341797, 0.19311943650245667, 0.1941308230161667, 0.1934499740600586, 0.1909620463848114, 0.19271181523799896, 0.19681593775749207, 0.2030981183052063, 0.19696059823036194, 0.19861871004104614, 0.22066110372543335, 0.21127040684223175, 0.20252008736133575, 0.20283973217010498, 0.19399555027484894, 0.22116054594516754, 0.20570321381092072, 0.2080615907907486, 0.20640400052070618, 0.2067168653011322, 0.197389617562294, 0.20544229447841644, 0.21178597211837769, 0.20804627239704132, 0.21974819898605347, 0.20781828463077545, 0.21455198526382446, 0.21881809830665588, 0.20979425311088562, 0.20758233964443207, 0.2193673998117447, 0.21149925887584686, 0.2105838507413864, 0.21362443268299103, 0.21448010206222534, 0.22061222791671753, 0.21086911857128143, 0.22375433146953583, 0.22360146045684814, 0.21573099493980408, 0.23695066571235657, 0.2157270908355713, 0.2013607621192932, 0.20193487405776978, 0.21470478177070618, 0.22615507245063782, 0.21724742650985718, 0.21713198721408844, 0.23298279941082, 0.23413018882274628, 0.23225122690200806, 0.23778702318668365, 0.22702674567699432, 0.23405662178993225, 0.24334929883480072, 0.23531469702720642, 0.2334831804037094, 0.22666803002357483, 0.23608633875846863, 0.2283993661403656, 0.2376275509595871, 0.24212299287319183, 0.21564346551895142, 0.22360926866531372, 0.2396552413702011, 0.233444482088089, 0.23111684620380402, 0.24139100313186646, 0.24362270534038544, 0.2461235523223877, 0.2464732974767685, 0.24810084700584412, 0.26183024048805237, 0.2562841773033142, 0.2560650706291199, 0.25655266642570496, 0.2571013271808624, 0.24880248308181763, 0.2586807608604431, 0.2628518044948578, 0.25919124484062195, 0.2666723430156708, 0.2708108723163605, 0.26683706045150757, 0.2648598551750183, 0.27170899510383606, 0.2738249897956848, 0.27779683470726013, 0.2615927457809448, 0.2610374689102173, 0.2652681767940521, 0.2662273347377777, 0.2690766751766205, 0.2746761441230774, 0.26967212557792664, 0.27035295963287354, 0.2771989107131958, 0.2837826907634735, 0.2729710042476654, 0.27536869049072266, 0.2818879783153534, 0.282761812210083, 0.27597352862358093, 0.28478187322616577, 0.2786029875278473, 0.28007981181144714, 0.2840966582298279, 0.2949642837047577, 0.2809348702430725, 0.2712169587612152, 0.27971890568733215, 0.28141966462135315, 0.2791193127632141, 0.2818904519081116, 0.2964487671852112, 0.2676733136177063, 0.2610253691673279, 0.27689868211746216, 0.2893984913825989, 0.28763824701309204, 0.2876024544239044, 0.2985956072807312, 0.2954634726047516, 0.29279887676239014, 0.30167025327682495, 0.2933909595012665, 0.2968112826347351, 0.29421061277389526, 0.29821884632110596, 0.289664089679718, 0.29199114441871643, 0.29489490389823914, 0.2953205406665802, 0.2895359396934509, 0.30484139919281006, 0.30177000164985657, 0.3111017644405365, 0.30760180950164795, 0.30716967582702637, 0.30673888325691223, 0.31072986125946045, 0.3096945285797119, 0.30695757269859314, 0.3078290522098541, 0.3138067424297333, 0.3149564862251282, 0.31960630416870117, 0.3181973397731781, 0.322974294424057]}],                        {\"legend\": {\"bgcolor\": \"#F5F6F9\", \"font\": {\"color\": \"#4D5663\"}}, \"paper_bgcolor\": \"#F5F6F9\", \"plot_bgcolor\": \"#F5F6F9\", \"template\": {\"data\": {\"bar\": [{\"error_x\": {\"color\": \"#2a3f5f\"}, \"error_y\": {\"color\": \"#2a3f5f\"}, \"marker\": {\"line\": {\"color\": \"#E5ECF6\", \"width\": 0.5}}, \"type\": \"bar\"}], \"barpolar\": [{\"marker\": {\"line\": {\"color\": \"#E5ECF6\", \"width\": 0.5}}, \"type\": \"barpolar\"}], \"carpet\": [{\"aaxis\": {\"endlinecolor\": \"#2a3f5f\", \"gridcolor\": \"white\", \"linecolor\": \"white\", \"minorgridcolor\": \"white\", \"startlinecolor\": \"#2a3f5f\"}, \"baxis\": {\"endlinecolor\": \"#2a3f5f\", \"gridcolor\": \"white\", \"linecolor\": \"white\", \"minorgridcolor\": \"white\", \"startlinecolor\": \"#2a3f5f\"}, \"type\": \"carpet\"}], \"choropleth\": [{\"colorbar\": {\"outlinewidth\": 0, \"ticks\": \"\"}, \"type\": \"choropleth\"}], \"contour\": [{\"colorbar\": {\"outlinewidth\": 0, \"ticks\": \"\"}, \"colorscale\": [[0.0, \"#0d0887\"], [0.1111111111111111, \"#46039f\"], [0.2222222222222222, \"#7201a8\"], [0.3333333333333333, \"#9c179e\"], [0.4444444444444444, \"#bd3786\"], [0.5555555555555556, \"#d8576b\"], [0.6666666666666666, \"#ed7953\"], [0.7777777777777778, \"#fb9f3a\"], [0.8888888888888888, \"#fdca26\"], [1.0, \"#f0f921\"]], \"type\": \"contour\"}], \"contourcarpet\": [{\"colorbar\": {\"outlinewidth\": 0, \"ticks\": \"\"}, \"type\": \"contourcarpet\"}], \"heatmap\": [{\"colorbar\": {\"outlinewidth\": 0, \"ticks\": \"\"}, \"colorscale\": [[0.0, \"#0d0887\"], [0.1111111111111111, \"#46039f\"], [0.2222222222222222, \"#7201a8\"], [0.3333333333333333, \"#9c179e\"], [0.4444444444444444, \"#bd3786\"], [0.5555555555555556, \"#d8576b\"], [0.6666666666666666, \"#ed7953\"], [0.7777777777777778, \"#fb9f3a\"], [0.8888888888888888, \"#fdca26\"], [1.0, \"#f0f921\"]], \"type\": \"heatmap\"}], \"heatmapgl\": [{\"colorbar\": {\"outlinewidth\": 0, \"ticks\": \"\"}, \"colorscale\": [[0.0, \"#0d0887\"], [0.1111111111111111, \"#46039f\"], [0.2222222222222222, \"#7201a8\"], [0.3333333333333333, \"#9c179e\"], [0.4444444444444444, \"#bd3786\"], [0.5555555555555556, \"#d8576b\"], [0.6666666666666666, \"#ed7953\"], [0.7777777777777778, \"#fb9f3a\"], [0.8888888888888888, \"#fdca26\"], [1.0, \"#f0f921\"]], \"type\": \"heatmapgl\"}], \"histogram\": [{\"marker\": {\"colorbar\": {\"outlinewidth\": 0, \"ticks\": \"\"}}, \"type\": \"histogram\"}], \"histogram2d\": [{\"colorbar\": {\"outlinewidth\": 0, \"ticks\": \"\"}, \"colorscale\": [[0.0, \"#0d0887\"], [0.1111111111111111, \"#46039f\"], [0.2222222222222222, \"#7201a8\"], [0.3333333333333333, \"#9c179e\"], [0.4444444444444444, \"#bd3786\"], [0.5555555555555556, \"#d8576b\"], [0.6666666666666666, \"#ed7953\"], [0.7777777777777778, \"#fb9f3a\"], [0.8888888888888888, \"#fdca26\"], [1.0, \"#f0f921\"]], \"type\": \"histogram2d\"}], \"histogram2dcontour\": [{\"colorbar\": {\"outlinewidth\": 0, \"ticks\": \"\"}, \"colorscale\": [[0.0, \"#0d0887\"], [0.1111111111111111, \"#46039f\"], [0.2222222222222222, \"#7201a8\"], [0.3333333333333333, \"#9c179e\"], [0.4444444444444444, \"#bd3786\"], [0.5555555555555556, \"#d8576b\"], [0.6666666666666666, \"#ed7953\"], [0.7777777777777778, \"#fb9f3a\"], [0.8888888888888888, \"#fdca26\"], [1.0, \"#f0f921\"]], \"type\": \"histogram2dcontour\"}], \"mesh3d\": [{\"colorbar\": {\"outlinewidth\": 0, \"ticks\": \"\"}, \"type\": \"mesh3d\"}], \"parcoords\": [{\"line\": {\"colorbar\": {\"outlinewidth\": 0, \"ticks\": \"\"}}, \"type\": \"parcoords\"}], \"pie\": [{\"automargin\": true, \"type\": \"pie\"}], \"scatter\": [{\"marker\": {\"colorbar\": {\"outlinewidth\": 0, \"ticks\": \"\"}}, \"type\": \"scatter\"}], \"scatter3d\": [{\"line\": {\"colorbar\": {\"outlinewidth\": 0, \"ticks\": \"\"}}, \"marker\": {\"colorbar\": {\"outlinewidth\": 0, \"ticks\": \"\"}}, \"type\": \"scatter3d\"}], \"scattercarpet\": [{\"marker\": {\"colorbar\": {\"outlinewidth\": 0, \"ticks\": \"\"}}, \"type\": \"scattercarpet\"}], \"scattergeo\": [{\"marker\": {\"colorbar\": {\"outlinewidth\": 0, \"ticks\": \"\"}}, \"type\": \"scattergeo\"}], \"scattergl\": [{\"marker\": {\"colorbar\": {\"outlinewidth\": 0, \"ticks\": \"\"}}, \"type\": \"scattergl\"}], \"scattermapbox\": [{\"marker\": {\"colorbar\": {\"outlinewidth\": 0, \"ticks\": \"\"}}, \"type\": \"scattermapbox\"}], \"scatterpolar\": [{\"marker\": {\"colorbar\": {\"outlinewidth\": 0, \"ticks\": \"\"}}, \"type\": \"scatterpolar\"}], \"scatterpolargl\": [{\"marker\": {\"colorbar\": {\"outlinewidth\": 0, \"ticks\": \"\"}}, \"type\": \"scatterpolargl\"}], \"scatterternary\": [{\"marker\": {\"colorbar\": {\"outlinewidth\": 0, \"ticks\": \"\"}}, \"type\": \"scatterternary\"}], \"surface\": [{\"colorbar\": {\"outlinewidth\": 0, \"ticks\": \"\"}, \"colorscale\": [[0.0, \"#0d0887\"], [0.1111111111111111, \"#46039f\"], [0.2222222222222222, \"#7201a8\"], [0.3333333333333333, \"#9c179e\"], [0.4444444444444444, \"#bd3786\"], [0.5555555555555556, \"#d8576b\"], [0.6666666666666666, \"#ed7953\"], [0.7777777777777778, \"#fb9f3a\"], [0.8888888888888888, \"#fdca26\"], [1.0, \"#f0f921\"]], \"type\": \"surface\"}], \"table\": [{\"cells\": {\"fill\": {\"color\": \"#EBF0F8\"}, \"line\": {\"color\": \"white\"}}, \"header\": {\"fill\": {\"color\": \"#C8D4E3\"}, \"line\": {\"color\": \"white\"}}, \"type\": \"table\"}]}, \"layout\": {\"annotationdefaults\": {\"arrowcolor\": \"#2a3f5f\", \"arrowhead\": 0, \"arrowwidth\": 1}, \"coloraxis\": {\"colorbar\": {\"outlinewidth\": 0, \"ticks\": \"\"}}, \"colorscale\": {\"diverging\": [[0, \"#8e0152\"], [0.1, \"#c51b7d\"], [0.2, \"#de77ae\"], [0.3, \"#f1b6da\"], [0.4, \"#fde0ef\"], [0.5, \"#f7f7f7\"], [0.6, \"#e6f5d0\"], [0.7, \"#b8e186\"], [0.8, \"#7fbc41\"], [0.9, \"#4d9221\"], [1, \"#276419\"]], \"sequential\": [[0.0, \"#0d0887\"], [0.1111111111111111, \"#46039f\"], [0.2222222222222222, \"#7201a8\"], [0.3333333333333333, \"#9c179e\"], [0.4444444444444444, \"#bd3786\"], [0.5555555555555556, \"#d8576b\"], [0.6666666666666666, \"#ed7953\"], [0.7777777777777778, \"#fb9f3a\"], [0.8888888888888888, \"#fdca26\"], [1.0, \"#f0f921\"]], \"sequentialminus\": [[0.0, \"#0d0887\"], [0.1111111111111111, \"#46039f\"], [0.2222222222222222, \"#7201a8\"], [0.3333333333333333, \"#9c179e\"], [0.4444444444444444, \"#bd3786\"], [0.5555555555555556, \"#d8576b\"], [0.6666666666666666, \"#ed7953\"], [0.7777777777777778, \"#fb9f3a\"], [0.8888888888888888, \"#fdca26\"], [1.0, \"#f0f921\"]]}, \"colorway\": [\"#636efa\", \"#EF553B\", \"#00cc96\", \"#ab63fa\", \"#FFA15A\", \"#19d3f3\", \"#FF6692\", \"#B6E880\", \"#FF97FF\", \"#FECB52\"], \"font\": {\"color\": \"#2a3f5f\"}, \"geo\": {\"bgcolor\": \"white\", \"lakecolor\": \"white\", \"landcolor\": \"#E5ECF6\", \"showlakes\": true, \"showland\": true, \"subunitcolor\": \"white\"}, \"hoverlabel\": {\"align\": \"left\"}, \"hovermode\": \"closest\", \"mapbox\": {\"style\": \"light\"}, \"paper_bgcolor\": \"white\", \"plot_bgcolor\": \"#E5ECF6\", \"polar\": {\"angularaxis\": {\"gridcolor\": \"white\", \"linecolor\": \"white\", \"ticks\": \"\"}, \"bgcolor\": \"#E5ECF6\", \"radialaxis\": {\"gridcolor\": \"white\", \"linecolor\": \"white\", \"ticks\": \"\"}}, \"scene\": {\"xaxis\": {\"backgroundcolor\": \"#E5ECF6\", \"gridcolor\": \"white\", \"gridwidth\": 2, \"linecolor\": \"white\", \"showbackground\": true, \"ticks\": \"\", \"zerolinecolor\": \"white\"}, \"yaxis\": {\"backgroundcolor\": \"#E5ECF6\", \"gridcolor\": \"white\", \"gridwidth\": 2, \"linecolor\": \"white\", \"showbackground\": true, \"ticks\": \"\", \"zerolinecolor\": \"white\"}, \"zaxis\": {\"backgroundcolor\": \"#E5ECF6\", \"gridcolor\": \"white\", \"gridwidth\": 2, \"linecolor\": \"white\", \"showbackground\": true, \"ticks\": \"\", \"zerolinecolor\": \"white\"}}, \"shapedefaults\": {\"line\": {\"color\": \"#2a3f5f\"}}, \"ternary\": {\"aaxis\": {\"gridcolor\": \"white\", \"linecolor\": \"white\", \"ticks\": \"\"}, \"baxis\": {\"gridcolor\": \"white\", \"linecolor\": \"white\", \"ticks\": \"\"}, \"bgcolor\": \"#E5ECF6\", \"caxis\": {\"gridcolor\": \"white\", \"linecolor\": \"white\", \"ticks\": \"\"}}, \"title\": {\"x\": 0.05}, \"xaxis\": {\"automargin\": true, \"gridcolor\": \"white\", \"linecolor\": \"white\", \"ticks\": \"\", \"title\": {\"standoff\": 15}, \"zerolinecolor\": \"white\", \"zerolinewidth\": 2}, \"yaxis\": {\"automargin\": true, \"gridcolor\": \"white\", \"linecolor\": \"white\", \"ticks\": \"\", \"title\": {\"standoff\": 15}, \"zerolinecolor\": \"white\", \"zerolinewidth\": 2}}}, \"title\": {\"font\": {\"color\": \"#4D5663\"}}, \"xaxis\": {\"gridcolor\": \"#E1E5ED\", \"showgrid\": true, \"tickfont\": {\"color\": \"#4D5663\"}, \"title\": {\"font\": {\"color\": \"#4D5663\"}, \"text\": \"\"}, \"zerolinecolor\": \"#E1E5ED\"}, \"yaxis\": {\"gridcolor\": \"#E1E5ED\", \"showgrid\": true, \"tickfont\": {\"color\": \"#4D5663\"}, \"title\": {\"font\": {\"color\": \"#4D5663\"}, \"text\": \"\"}, \"zerolinecolor\": \"#E1E5ED\"}},                        {\"showLink\": true, \"linkText\": \"Export to plot.ly\", \"plotlyServerURL\": \"https://plot.ly\", \"responsive\": true}                    ).then(function(){\n",
       "                            \n",
       "var gd = document.getElementById('051526bf-fa72-464f-85cc-83d305155b69');\n",
       "var x = new MutationObserver(function (mutations, observer) {{\n",
       "        var display = window.getComputedStyle(gd).display;\n",
       "        if (!display || display === 'none') {{\n",
       "            console.log([gd, 'removed!']);\n",
       "            Plotly.purge(gd);\n",
       "            observer.disconnect();\n",
       "        }}\n",
       "}});\n",
       "\n",
       "// Listen for the removal of the full notebook cells\n",
       "var notebookContainer = gd.closest('#notebook-container');\n",
       "if (notebookContainer) {{\n",
       "    x.observe(notebookContainer, {childList: true});\n",
       "}}\n",
       "\n",
       "// Listen for the clearing of the current output cell\n",
       "var outputEl = gd.closest('.output');\n",
       "if (outputEl) {{\n",
       "    x.observe(outputEl, {childList: true});\n",
       "}}\n",
       "\n",
       "                        })                };                });            </script>        </div>"
      ]
     },
     "metadata": {},
     "output_type": "display_data"
    }
   ],
   "source": [
    "losses.iplot()"
   ]
  },
  {
   "cell_type": "code",
   "execution_count": 45,
   "metadata": {},
   "outputs": [],
   "source": [
    "# the above is a great example of overfitting where loss in training dataset is going down while loss in validation dataset is going up"
   ]
  },
  {
   "cell_type": "code",
   "execution_count": 46,
   "metadata": {},
   "outputs": [],
   "source": [
    "# Create empty sequential models\n",
    "model = Sequential()\n",
    "\n",
    "# Add layers - We added 30 because number of vaiables in trained data set\n",
    "model.add(Dense(30,activation='relu'))\n",
    "model.add(Dense(15,activation='relu'))\n",
    "\n",
    "# Output layer - BINARY classification, so we chose sigmoid activation function\n",
    "model.add(Dense(1,activation='sigmoid'))\n",
    "\n",
    "# Compiling model - We use these optimizer and loss because we are solving a regression problem\n",
    "model.compile(optimizer='adam',loss='binary_crossentropy')"
   ]
  },
  {
   "cell_type": "code",
   "execution_count": 47,
   "metadata": {},
   "outputs": [],
   "source": [
    "from tensorflow.keras.callbacks import EarlyStopping"
   ]
  },
  {
   "cell_type": "code",
   "execution_count": 49,
   "metadata": {},
   "outputs": [],
   "source": [
    "# We choose min as the mode since we are trying to minimize the loss which is the value we are monitoring\n",
    "early_stop = EarlyStopping(monitor='val_loss',mode='min',verbose=1,patience=25)"
   ]
  },
  {
   "cell_type": "code",
   "execution_count": 50,
   "metadata": {},
   "outputs": [
    {
     "name": "stdout",
     "output_type": "stream",
     "text": [
      "Epoch 1/600\n",
      "14/14 [==============================] - 1s 17ms/step - loss: 0.7152 - val_loss: 0.6799\n",
      "Epoch 2/600\n",
      "14/14 [==============================] - 0s 23ms/step - loss: 0.6732 - val_loss: 0.6473\n",
      "Epoch 3/600\n",
      "14/14 [==============================] - 0s 6ms/step - loss: 0.6400 - val_loss: 0.6187\n",
      "Epoch 4/600\n",
      "14/14 [==============================] - 0s 7ms/step - loss: 0.6116 - val_loss: 0.5844\n",
      "Epoch 5/600\n",
      "14/14 [==============================] - 0s 7ms/step - loss: 0.5788 - val_loss: 0.5412\n",
      "Epoch 6/600\n",
      "14/14 [==============================] - 0s 8ms/step - loss: 0.5362 - val_loss: 0.4927\n",
      "Epoch 7/600\n",
      "14/14 [==============================] - 0s 8ms/step - loss: 0.4815 - val_loss: 0.4424\n",
      "Epoch 8/600\n",
      "14/14 [==============================] - 0s 6ms/step - loss: 0.4308 - val_loss: 0.3944\n",
      "Epoch 9/600\n",
      "14/14 [==============================] - 0s 6ms/step - loss: 0.3925 - val_loss: 0.3524\n",
      "Epoch 10/600\n",
      "14/14 [==============================] - 0s 6ms/step - loss: 0.3404 - val_loss: 0.3145\n",
      "Epoch 11/600\n",
      "14/14 [==============================] - 0s 6ms/step - loss: 0.3087 - val_loss: 0.2837\n",
      "Epoch 12/600\n",
      "14/14 [==============================] - 0s 13ms/step - loss: 0.2967 - val_loss: 0.2618\n",
      "Epoch 13/600\n",
      "14/14 [==============================] - 0s 22ms/step - loss: 0.2647 - val_loss: 0.2368\n",
      "Epoch 14/600\n",
      "14/14 [==============================] - 0s 7ms/step - loss: 0.2561 - val_loss: 0.2198\n",
      "Epoch 15/600\n",
      "14/14 [==============================] - 0s 6ms/step - loss: 0.2164 - val_loss: 0.2064\n",
      "Epoch 16/600\n",
      "14/14 [==============================] - 0s 7ms/step - loss: 0.2191 - val_loss: 0.1949\n",
      "Epoch 17/600\n",
      "14/14 [==============================] - 0s 7ms/step - loss: 0.2065 - val_loss: 0.1820\n",
      "Epoch 18/600\n",
      "14/14 [==============================] - 0s 7ms/step - loss: 0.1925 - val_loss: 0.1797\n",
      "Epoch 19/600\n",
      "14/14 [==============================] - 0s 7ms/step - loss: 0.1752 - val_loss: 0.1654\n",
      "Epoch 20/600\n",
      "14/14 [==============================] - 0s 7ms/step - loss: 0.1826 - val_loss: 0.1613\n",
      "Epoch 21/600\n",
      "14/14 [==============================] - 0s 24ms/step - loss: 0.1609 - val_loss: 0.1531\n",
      "Epoch 22/600\n",
      "14/14 [==============================] - 0s 9ms/step - loss: 0.1395 - val_loss: 0.1498\n",
      "Epoch 23/600\n",
      "14/14 [==============================] - 0s 7ms/step - loss: 0.1496 - val_loss: 0.1457\n",
      "Epoch 24/600\n",
      "14/14 [==============================] - 0s 7ms/step - loss: 0.1493 - val_loss: 0.1390\n",
      "Epoch 25/600\n",
      "14/14 [==============================] - 0s 6ms/step - loss: 0.1409 - val_loss: 0.1350\n",
      "Epoch 26/600\n",
      "14/14 [==============================] - 0s 6ms/step - loss: 0.1281 - val_loss: 0.1300\n",
      "Epoch 27/600\n",
      "14/14 [==============================] - 0s 7ms/step - loss: 0.1332 - val_loss: 0.1287\n",
      "Epoch 28/600\n",
      "14/14 [==============================] - 0s 7ms/step - loss: 0.1109 - val_loss: 0.1272\n",
      "Epoch 29/600\n",
      "14/14 [==============================] - 0s 8ms/step - loss: 0.1252 - val_loss: 0.1238\n",
      "Epoch 30/600\n",
      "14/14 [==============================] - 0s 20ms/step - loss: 0.1136 - val_loss: 0.1174\n",
      "Epoch 31/600\n",
      "14/14 [==============================] - 0s 14ms/step - loss: 0.1067 - val_loss: 0.1215\n",
      "Epoch 32/600\n",
      "14/14 [==============================] - 0s 14ms/step - loss: 0.1076 - val_loss: 0.1140\n",
      "Epoch 33/600\n",
      "14/14 [==============================] - 0s 11ms/step - loss: 0.0993 - val_loss: 0.1137\n",
      "Epoch 34/600\n",
      "14/14 [==============================] - 0s 7ms/step - loss: 0.1180 - val_loss: 0.1143\n",
      "Epoch 35/600\n",
      "14/14 [==============================] - 0s 6ms/step - loss: 0.0879 - val_loss: 0.1124\n",
      "Epoch 36/600\n",
      "14/14 [==============================] - 0s 7ms/step - loss: 0.0798 - val_loss: 0.1130\n",
      "Epoch 37/600\n",
      "14/14 [==============================] - 0s 14ms/step - loss: 0.0939 - val_loss: 0.1069\n",
      "Epoch 38/600\n",
      "14/14 [==============================] - 0s 13ms/step - loss: 0.0844 - val_loss: 0.1095\n",
      "Epoch 39/600\n",
      "14/14 [==============================] - 0s 12ms/step - loss: 0.0824 - val_loss: 0.1095\n",
      "Epoch 40/600\n",
      "14/14 [==============================] - 0s 7ms/step - loss: 0.0869 - val_loss: 0.1064\n",
      "Epoch 41/600\n",
      "14/14 [==============================] - 0s 6ms/step - loss: 0.0723 - val_loss: 0.1064\n",
      "Epoch 42/600\n",
      "14/14 [==============================] - 0s 23ms/step - loss: 0.0663 - val_loss: 0.1047\n",
      "Epoch 43/600\n",
      "14/14 [==============================] - 0s 7ms/step - loss: 0.0828 - val_loss: 0.1028\n",
      "Epoch 44/600\n",
      "14/14 [==============================] - 0s 8ms/step - loss: 0.0748 - val_loss: 0.1062\n",
      "Epoch 45/600\n",
      "14/14 [==============================] - 0s 7ms/step - loss: 0.0822 - val_loss: 0.1046\n",
      "Epoch 46/600\n",
      "14/14 [==============================] - 0s 6ms/step - loss: 0.0849 - val_loss: 0.1033\n",
      "Epoch 47/600\n",
      "14/14 [==============================] - 0s 6ms/step - loss: 0.0836 - val_loss: 0.1032\n",
      "Epoch 48/600\n",
      "14/14 [==============================] - 0s 6ms/step - loss: 0.0658 - val_loss: 0.1039\n",
      "Epoch 49/600\n",
      "14/14 [==============================] - 0s 6ms/step - loss: 0.0688 - val_loss: 0.1037\n",
      "Epoch 50/600\n",
      "14/14 [==============================] - 0s 7ms/step - loss: 0.0736 - val_loss: 0.1058\n",
      "Epoch 51/600\n",
      "14/14 [==============================] - 0s 19ms/step - loss: 0.0668 - val_loss: 0.1002\n",
      "Epoch 52/600\n",
      "14/14 [==============================] - 0s 15ms/step - loss: 0.0728 - val_loss: 0.1074\n",
      "Epoch 53/600\n",
      "14/14 [==============================] - 0s 15ms/step - loss: 0.0669 - val_loss: 0.1000\n",
      "Epoch 54/600\n",
      "14/14 [==============================] - 0s 7ms/step - loss: 0.0570 - val_loss: 0.1031\n",
      "Epoch 55/600\n",
      "14/14 [==============================] - 0s 13ms/step - loss: 0.0551 - val_loss: 0.1019\n",
      "Epoch 56/600\n",
      "14/14 [==============================] - 0s 8ms/step - loss: 0.0626 - val_loss: 0.1004\n",
      "Epoch 57/600\n",
      "14/14 [==============================] - 0s 6ms/step - loss: 0.0618 - val_loss: 0.1027\n",
      "Epoch 58/600\n",
      "14/14 [==============================] - 0s 6ms/step - loss: 0.0574 - val_loss: 0.0998\n",
      "Epoch 59/600\n",
      "14/14 [==============================] - 0s 6ms/step - loss: 0.0625 - val_loss: 0.1093\n",
      "Epoch 60/600\n",
      "14/14 [==============================] - 0s 10ms/step - loss: 0.0514 - val_loss: 0.0983\n",
      "Epoch 61/600\n",
      "14/14 [==============================] - 0s 7ms/step - loss: 0.0645 - val_loss: 0.1045\n",
      "Epoch 62/600\n",
      "14/14 [==============================] - 0s 9ms/step - loss: 0.0638 - val_loss: 0.1002\n",
      "Epoch 63/600\n",
      "14/14 [==============================] - 0s 8ms/step - loss: 0.0554 - val_loss: 0.1027\n",
      "Epoch 64/600\n",
      "14/14 [==============================] - 0s 15ms/step - loss: 0.0668 - val_loss: 0.1005\n",
      "Epoch 65/600\n",
      "14/14 [==============================] - 0s 15ms/step - loss: 0.0415 - val_loss: 0.1018\n",
      "Epoch 66/600\n",
      "14/14 [==============================] - 0s 15ms/step - loss: 0.0551 - val_loss: 0.1005\n",
      "Epoch 67/600\n",
      "14/14 [==============================] - 0s 15ms/step - loss: 0.0550 - val_loss: 0.1007\n",
      "Epoch 68/600\n",
      "14/14 [==============================] - 0s 14ms/step - loss: 0.0721 - val_loss: 0.1001\n",
      "Epoch 69/600\n",
      "14/14 [==============================] - 0s 14ms/step - loss: 0.0543 - val_loss: 0.1006\n",
      "Epoch 70/600\n",
      "14/14 [==============================] - 0s 8ms/step - loss: 0.0526 - val_loss: 0.1013\n",
      "Epoch 71/600\n",
      "14/14 [==============================] - 0s 6ms/step - loss: 0.0573 - val_loss: 0.1042\n",
      "Epoch 72/600\n",
      "14/14 [==============================] - 0s 7ms/step - loss: 0.0671 - val_loss: 0.0996\n",
      "Epoch 73/600\n",
      "14/14 [==============================] - 0s 7ms/step - loss: 0.0621 - val_loss: 0.1033\n",
      "Epoch 74/600\n",
      "14/14 [==============================] - 0s 7ms/step - loss: 0.0639 - val_loss: 0.0986\n",
      "Epoch 75/600\n",
      "14/14 [==============================] - 0s 7ms/step - loss: 0.0618 - val_loss: 0.1027\n",
      "Epoch 76/600\n",
      "14/14 [==============================] - 0s 7ms/step - loss: 0.0649 - val_loss: 0.1033\n",
      "Epoch 77/600\n",
      "14/14 [==============================] - 0s 8ms/step - loss: 0.0597 - val_loss: 0.1025\n",
      "Epoch 78/600\n",
      "14/14 [==============================] - 0s 7ms/step - loss: 0.0542 - val_loss: 0.1040\n",
      "Epoch 79/600\n",
      "14/14 [==============================] - 0s 7ms/step - loss: 0.0516 - val_loss: 0.1042\n",
      "Epoch 80/600\n",
      "14/14 [==============================] - 0s 7ms/step - loss: 0.0521 - val_loss: 0.1046\n",
      "Epoch 81/600\n",
      "14/14 [==============================] - 1s 47ms/step - loss: 0.0444 - val_loss: 0.1062\n",
      "Epoch 82/600\n",
      "14/14 [==============================] - 0s 16ms/step - loss: 0.0462 - val_loss: 0.1018\n"
     ]
    },
    {
     "name": "stdout",
     "output_type": "stream",
     "text": [
      "Epoch 83/600\n",
      "14/14 [==============================] - 0s 8ms/step - loss: 0.0386 - val_loss: 0.1072\n",
      "Epoch 84/600\n",
      "14/14 [==============================] - 0s 9ms/step - loss: 0.0646 - val_loss: 0.1035\n",
      "Epoch 85/600\n",
      "14/14 [==============================] - 0s 12ms/step - loss: 0.0670 - val_loss: 0.1051\n",
      "Epoch 00085: early stopping\n"
     ]
    },
    {
     "data": {
      "text/plain": [
       "<tensorflow.python.keras.callbacks.History at 0x1a4c41b690>"
      ]
     },
     "execution_count": 50,
     "metadata": {},
     "output_type": "execute_result"
    }
   ],
   "source": [
    "# No Batch Size\n",
    "# Epochs - Number of iterations\n",
    "# Using validation data here to prevent overfitting\n",
    "# Adding validation data has no impact in adjusting weights and biases\n",
    "# Adding callback parameter\n",
    "model.fit(x=X_train,y=y_train,validation_data=(X_test,y_test),epochs=600,callbacks=[early_stop])"
   ]
  },
  {
   "cell_type": "code",
   "execution_count": 51,
   "metadata": {},
   "outputs": [],
   "source": [
    "losses = pd.DataFrame(model.history.history)"
   ]
  },
  {
   "cell_type": "code",
   "execution_count": 52,
   "metadata": {},
   "outputs": [
    {
     "data": {
      "application/vnd.plotly.v1+json": {
       "config": {
        "linkText": "Export to plot.ly",
        "plotlyServerURL": "https://plot.ly",
        "showLink": true
       },
       "data": [
        {
         "line": {
          "color": "rgba(255, 153, 51, 1.0)",
          "dash": "solid",
          "shape": "linear",
          "width": 1.3
         },
         "mode": "lines",
         "name": "loss",
         "text": "",
         "type": "scatter",
         "x": [
          0,
          1,
          2,
          3,
          4,
          5,
          6,
          7,
          8,
          9,
          10,
          11,
          12,
          13,
          14,
          15,
          16,
          17,
          18,
          19,
          20,
          21,
          22,
          23,
          24,
          25,
          26,
          27,
          28,
          29,
          30,
          31,
          32,
          33,
          34,
          35,
          36,
          37,
          38,
          39,
          40,
          41,
          42,
          43,
          44,
          45,
          46,
          47,
          48,
          49,
          50,
          51,
          52,
          53,
          54,
          55,
          56,
          57,
          58,
          59,
          60,
          61,
          62,
          63,
          64,
          65,
          66,
          67,
          68,
          69,
          70,
          71,
          72,
          73,
          74,
          75,
          76,
          77,
          78,
          79,
          80,
          81,
          82,
          83,
          84
         ],
         "y": [
          0.7055861353874207,
          0.6677448153495789,
          0.6367110013961792,
          0.6061170697212219,
          0.5683493614196777,
          0.5223549604415894,
          0.4731813669204712,
          0.42531442642211914,
          0.3805851340293884,
          0.3419478237628937,
          0.31200096011161804,
          0.28280723094940186,
          0.2608391046524048,
          0.24548934400081635,
          0.22708119451999664,
          0.21323040127754211,
          0.20097769796848297,
          0.1921190470457077,
          0.18128007650375366,
          0.17348092794418335,
          0.16404344141483307,
          0.1566372662782669,
          0.1503675878047943,
          0.1444362998008728,
          0.1376604437828064,
          0.13230293989181519,
          0.1287042200565338,
          0.12211963534355164,
          0.11856810748577118,
          0.11334638297557831,
          0.11086058616638184,
          0.10737574100494385,
          0.10422874242067337,
          0.10235781222581863,
          0.09735462069511414,
          0.09454035758972168,
          0.09104100614786148,
          0.09006396681070328,
          0.08775188773870468,
          0.08546270430088043,
          0.08284572511911392,
          0.08172914385795593,
          0.07985945045948029,
          0.07948461920022964,
          0.0767531618475914,
          0.07544641941785812,
          0.07344029098749161,
          0.07239601016044617,
          0.07246227562427521,
          0.07114046066999435,
          0.07256490737199783,
          0.06681903451681137,
          0.06944076716899872,
          0.06791234761476517,
          0.06701797991991043,
          0.06698103994131088,
          0.06643535196781158,
          0.0644853338599205,
          0.06240665912628174,
          0.06352075189352036,
          0.06272327899932861,
          0.06111238896846771,
          0.06107271835207939,
          0.06103697791695595,
          0.06344252824783325,
          0.06560733169317245,
          0.059064026921987534,
          0.05863027647137642,
          0.05853504687547684,
          0.057353731244802475,
          0.057129573076963425,
          0.05629369243979454,
          0.05727933719754219,
          0.05766848847270012,
          0.05760596692562103,
          0.05602976679801941,
          0.05459730699658394,
          0.056348931044340134,
          0.05444451794028282,
          0.05373034626245499,
          0.05359731242060661,
          0.053813762962818146,
          0.05256512761116028,
          0.0534479022026062,
          0.05243786796927452
         ]
        },
        {
         "line": {
          "color": "rgba(55, 128, 191, 1.0)",
          "dash": "solid",
          "shape": "linear",
          "width": 1.3
         },
         "mode": "lines",
         "name": "val_loss",
         "text": "",
         "type": "scatter",
         "x": [
          0,
          1,
          2,
          3,
          4,
          5,
          6,
          7,
          8,
          9,
          10,
          11,
          12,
          13,
          14,
          15,
          16,
          17,
          18,
          19,
          20,
          21,
          22,
          23,
          24,
          25,
          26,
          27,
          28,
          29,
          30,
          31,
          32,
          33,
          34,
          35,
          36,
          37,
          38,
          39,
          40,
          41,
          42,
          43,
          44,
          45,
          46,
          47,
          48,
          49,
          50,
          51,
          52,
          53,
          54,
          55,
          56,
          57,
          58,
          59,
          60,
          61,
          62,
          63,
          64,
          65,
          66,
          67,
          68,
          69,
          70,
          71,
          72,
          73,
          74,
          75,
          76,
          77,
          78,
          79,
          80,
          81,
          82,
          83,
          84
         ],
         "y": [
          0.679885983467102,
          0.6472602486610413,
          0.6187261343002319,
          0.5843793153762817,
          0.5411861538887024,
          0.49268293380737305,
          0.44244804978370667,
          0.39440158009529114,
          0.3523615598678589,
          0.31450122594833374,
          0.2837279140949249,
          0.2618080675601959,
          0.2368195801973343,
          0.21982377767562866,
          0.2064368575811386,
          0.19486694037914276,
          0.18204471468925476,
          0.17968614399433136,
          0.16542164981365204,
          0.16125468909740448,
          0.15313443541526794,
          0.14979688823223114,
          0.14572961628437042,
          0.13899581134319305,
          0.13501006364822388,
          0.1299918293952942,
          0.12868009507656097,
          0.12722498178482056,
          0.12377850711345673,
          0.11738905310630798,
          0.12147659063339233,
          0.11396440118551254,
          0.11366801708936691,
          0.11431439220905304,
          0.11241644620895386,
          0.11302841454744339,
          0.10693284124135971,
          0.10953030735254288,
          0.10950087010860443,
          0.10639476776123047,
          0.10642484575510025,
          0.10473822057247162,
          0.10283980518579483,
          0.10623978823423386,
          0.10464010387659073,
          0.10332384705543518,
          0.10316482931375504,
          0.10387938469648361,
          0.10369439423084259,
          0.10579486936330795,
          0.100197933614254,
          0.10743430256843567,
          0.09998814016580582,
          0.10314489156007767,
          0.10194695740938187,
          0.10042625665664673,
          0.10272883623838425,
          0.09983108192682266,
          0.10931805521249771,
          0.09831304848194122,
          0.10453907400369644,
          0.10024649649858475,
          0.10267755389213562,
          0.10054907202720642,
          0.10176435858011246,
          0.1005239188671112,
          0.10068535804748535,
          0.10011852532625198,
          0.10062547028064728,
          0.10133806616067886,
          0.10419581085443497,
          0.09963243454694748,
          0.10334647446870804,
          0.09860481321811676,
          0.10266269743442535,
          0.10330722481012344,
          0.102499820291996,
          0.1040220782160759,
          0.10422610491514206,
          0.1045977994799614,
          0.10621735453605652,
          0.1018260195851326,
          0.1072305291891098,
          0.10349015891551971,
          0.10513629764318466
         ]
        }
       ],
       "layout": {
        "legend": {
         "bgcolor": "#F5F6F9",
         "font": {
          "color": "#4D5663"
         }
        },
        "paper_bgcolor": "#F5F6F9",
        "plot_bgcolor": "#F5F6F9",
        "template": {
         "data": {
          "bar": [
           {
            "error_x": {
             "color": "#2a3f5f"
            },
            "error_y": {
             "color": "#2a3f5f"
            },
            "marker": {
             "line": {
              "color": "#E5ECF6",
              "width": 0.5
             }
            },
            "type": "bar"
           }
          ],
          "barpolar": [
           {
            "marker": {
             "line": {
              "color": "#E5ECF6",
              "width": 0.5
             }
            },
            "type": "barpolar"
           }
          ],
          "carpet": [
           {
            "aaxis": {
             "endlinecolor": "#2a3f5f",
             "gridcolor": "white",
             "linecolor": "white",
             "minorgridcolor": "white",
             "startlinecolor": "#2a3f5f"
            },
            "baxis": {
             "endlinecolor": "#2a3f5f",
             "gridcolor": "white",
             "linecolor": "white",
             "minorgridcolor": "white",
             "startlinecolor": "#2a3f5f"
            },
            "type": "carpet"
           }
          ],
          "choropleth": [
           {
            "colorbar": {
             "outlinewidth": 0,
             "ticks": ""
            },
            "type": "choropleth"
           }
          ],
          "contour": [
           {
            "colorbar": {
             "outlinewidth": 0,
             "ticks": ""
            },
            "colorscale": [
             [
              0,
              "#0d0887"
             ],
             [
              0.1111111111111111,
              "#46039f"
             ],
             [
              0.2222222222222222,
              "#7201a8"
             ],
             [
              0.3333333333333333,
              "#9c179e"
             ],
             [
              0.4444444444444444,
              "#bd3786"
             ],
             [
              0.5555555555555556,
              "#d8576b"
             ],
             [
              0.6666666666666666,
              "#ed7953"
             ],
             [
              0.7777777777777778,
              "#fb9f3a"
             ],
             [
              0.8888888888888888,
              "#fdca26"
             ],
             [
              1,
              "#f0f921"
             ]
            ],
            "type": "contour"
           }
          ],
          "contourcarpet": [
           {
            "colorbar": {
             "outlinewidth": 0,
             "ticks": ""
            },
            "type": "contourcarpet"
           }
          ],
          "heatmap": [
           {
            "colorbar": {
             "outlinewidth": 0,
             "ticks": ""
            },
            "colorscale": [
             [
              0,
              "#0d0887"
             ],
             [
              0.1111111111111111,
              "#46039f"
             ],
             [
              0.2222222222222222,
              "#7201a8"
             ],
             [
              0.3333333333333333,
              "#9c179e"
             ],
             [
              0.4444444444444444,
              "#bd3786"
             ],
             [
              0.5555555555555556,
              "#d8576b"
             ],
             [
              0.6666666666666666,
              "#ed7953"
             ],
             [
              0.7777777777777778,
              "#fb9f3a"
             ],
             [
              0.8888888888888888,
              "#fdca26"
             ],
             [
              1,
              "#f0f921"
             ]
            ],
            "type": "heatmap"
           }
          ],
          "heatmapgl": [
           {
            "colorbar": {
             "outlinewidth": 0,
             "ticks": ""
            },
            "colorscale": [
             [
              0,
              "#0d0887"
             ],
             [
              0.1111111111111111,
              "#46039f"
             ],
             [
              0.2222222222222222,
              "#7201a8"
             ],
             [
              0.3333333333333333,
              "#9c179e"
             ],
             [
              0.4444444444444444,
              "#bd3786"
             ],
             [
              0.5555555555555556,
              "#d8576b"
             ],
             [
              0.6666666666666666,
              "#ed7953"
             ],
             [
              0.7777777777777778,
              "#fb9f3a"
             ],
             [
              0.8888888888888888,
              "#fdca26"
             ],
             [
              1,
              "#f0f921"
             ]
            ],
            "type": "heatmapgl"
           }
          ],
          "histogram": [
           {
            "marker": {
             "colorbar": {
              "outlinewidth": 0,
              "ticks": ""
             }
            },
            "type": "histogram"
           }
          ],
          "histogram2d": [
           {
            "colorbar": {
             "outlinewidth": 0,
             "ticks": ""
            },
            "colorscale": [
             [
              0,
              "#0d0887"
             ],
             [
              0.1111111111111111,
              "#46039f"
             ],
             [
              0.2222222222222222,
              "#7201a8"
             ],
             [
              0.3333333333333333,
              "#9c179e"
             ],
             [
              0.4444444444444444,
              "#bd3786"
             ],
             [
              0.5555555555555556,
              "#d8576b"
             ],
             [
              0.6666666666666666,
              "#ed7953"
             ],
             [
              0.7777777777777778,
              "#fb9f3a"
             ],
             [
              0.8888888888888888,
              "#fdca26"
             ],
             [
              1,
              "#f0f921"
             ]
            ],
            "type": "histogram2d"
           }
          ],
          "histogram2dcontour": [
           {
            "colorbar": {
             "outlinewidth": 0,
             "ticks": ""
            },
            "colorscale": [
             [
              0,
              "#0d0887"
             ],
             [
              0.1111111111111111,
              "#46039f"
             ],
             [
              0.2222222222222222,
              "#7201a8"
             ],
             [
              0.3333333333333333,
              "#9c179e"
             ],
             [
              0.4444444444444444,
              "#bd3786"
             ],
             [
              0.5555555555555556,
              "#d8576b"
             ],
             [
              0.6666666666666666,
              "#ed7953"
             ],
             [
              0.7777777777777778,
              "#fb9f3a"
             ],
             [
              0.8888888888888888,
              "#fdca26"
             ],
             [
              1,
              "#f0f921"
             ]
            ],
            "type": "histogram2dcontour"
           }
          ],
          "mesh3d": [
           {
            "colorbar": {
             "outlinewidth": 0,
             "ticks": ""
            },
            "type": "mesh3d"
           }
          ],
          "parcoords": [
           {
            "line": {
             "colorbar": {
              "outlinewidth": 0,
              "ticks": ""
             }
            },
            "type": "parcoords"
           }
          ],
          "pie": [
           {
            "automargin": true,
            "type": "pie"
           }
          ],
          "scatter": [
           {
            "marker": {
             "colorbar": {
              "outlinewidth": 0,
              "ticks": ""
             }
            },
            "type": "scatter"
           }
          ],
          "scatter3d": [
           {
            "line": {
             "colorbar": {
              "outlinewidth": 0,
              "ticks": ""
             }
            },
            "marker": {
             "colorbar": {
              "outlinewidth": 0,
              "ticks": ""
             }
            },
            "type": "scatter3d"
           }
          ],
          "scattercarpet": [
           {
            "marker": {
             "colorbar": {
              "outlinewidth": 0,
              "ticks": ""
             }
            },
            "type": "scattercarpet"
           }
          ],
          "scattergeo": [
           {
            "marker": {
             "colorbar": {
              "outlinewidth": 0,
              "ticks": ""
             }
            },
            "type": "scattergeo"
           }
          ],
          "scattergl": [
           {
            "marker": {
             "colorbar": {
              "outlinewidth": 0,
              "ticks": ""
             }
            },
            "type": "scattergl"
           }
          ],
          "scattermapbox": [
           {
            "marker": {
             "colorbar": {
              "outlinewidth": 0,
              "ticks": ""
             }
            },
            "type": "scattermapbox"
           }
          ],
          "scatterpolar": [
           {
            "marker": {
             "colorbar": {
              "outlinewidth": 0,
              "ticks": ""
             }
            },
            "type": "scatterpolar"
           }
          ],
          "scatterpolargl": [
           {
            "marker": {
             "colorbar": {
              "outlinewidth": 0,
              "ticks": ""
             }
            },
            "type": "scatterpolargl"
           }
          ],
          "scatterternary": [
           {
            "marker": {
             "colorbar": {
              "outlinewidth": 0,
              "ticks": ""
             }
            },
            "type": "scatterternary"
           }
          ],
          "surface": [
           {
            "colorbar": {
             "outlinewidth": 0,
             "ticks": ""
            },
            "colorscale": [
             [
              0,
              "#0d0887"
             ],
             [
              0.1111111111111111,
              "#46039f"
             ],
             [
              0.2222222222222222,
              "#7201a8"
             ],
             [
              0.3333333333333333,
              "#9c179e"
             ],
             [
              0.4444444444444444,
              "#bd3786"
             ],
             [
              0.5555555555555556,
              "#d8576b"
             ],
             [
              0.6666666666666666,
              "#ed7953"
             ],
             [
              0.7777777777777778,
              "#fb9f3a"
             ],
             [
              0.8888888888888888,
              "#fdca26"
             ],
             [
              1,
              "#f0f921"
             ]
            ],
            "type": "surface"
           }
          ],
          "table": [
           {
            "cells": {
             "fill": {
              "color": "#EBF0F8"
             },
             "line": {
              "color": "white"
             }
            },
            "header": {
             "fill": {
              "color": "#C8D4E3"
             },
             "line": {
              "color": "white"
             }
            },
            "type": "table"
           }
          ]
         },
         "layout": {
          "annotationdefaults": {
           "arrowcolor": "#2a3f5f",
           "arrowhead": 0,
           "arrowwidth": 1
          },
          "coloraxis": {
           "colorbar": {
            "outlinewidth": 0,
            "ticks": ""
           }
          },
          "colorscale": {
           "diverging": [
            [
             0,
             "#8e0152"
            ],
            [
             0.1,
             "#c51b7d"
            ],
            [
             0.2,
             "#de77ae"
            ],
            [
             0.3,
             "#f1b6da"
            ],
            [
             0.4,
             "#fde0ef"
            ],
            [
             0.5,
             "#f7f7f7"
            ],
            [
             0.6,
             "#e6f5d0"
            ],
            [
             0.7,
             "#b8e186"
            ],
            [
             0.8,
             "#7fbc41"
            ],
            [
             0.9,
             "#4d9221"
            ],
            [
             1,
             "#276419"
            ]
           ],
           "sequential": [
            [
             0,
             "#0d0887"
            ],
            [
             0.1111111111111111,
             "#46039f"
            ],
            [
             0.2222222222222222,
             "#7201a8"
            ],
            [
             0.3333333333333333,
             "#9c179e"
            ],
            [
             0.4444444444444444,
             "#bd3786"
            ],
            [
             0.5555555555555556,
             "#d8576b"
            ],
            [
             0.6666666666666666,
             "#ed7953"
            ],
            [
             0.7777777777777778,
             "#fb9f3a"
            ],
            [
             0.8888888888888888,
             "#fdca26"
            ],
            [
             1,
             "#f0f921"
            ]
           ],
           "sequentialminus": [
            [
             0,
             "#0d0887"
            ],
            [
             0.1111111111111111,
             "#46039f"
            ],
            [
             0.2222222222222222,
             "#7201a8"
            ],
            [
             0.3333333333333333,
             "#9c179e"
            ],
            [
             0.4444444444444444,
             "#bd3786"
            ],
            [
             0.5555555555555556,
             "#d8576b"
            ],
            [
             0.6666666666666666,
             "#ed7953"
            ],
            [
             0.7777777777777778,
             "#fb9f3a"
            ],
            [
             0.8888888888888888,
             "#fdca26"
            ],
            [
             1,
             "#f0f921"
            ]
           ]
          },
          "colorway": [
           "#636efa",
           "#EF553B",
           "#00cc96",
           "#ab63fa",
           "#FFA15A",
           "#19d3f3",
           "#FF6692",
           "#B6E880",
           "#FF97FF",
           "#FECB52"
          ],
          "font": {
           "color": "#2a3f5f"
          },
          "geo": {
           "bgcolor": "white",
           "lakecolor": "white",
           "landcolor": "#E5ECF6",
           "showlakes": true,
           "showland": true,
           "subunitcolor": "white"
          },
          "hoverlabel": {
           "align": "left"
          },
          "hovermode": "closest",
          "mapbox": {
           "style": "light"
          },
          "paper_bgcolor": "white",
          "plot_bgcolor": "#E5ECF6",
          "polar": {
           "angularaxis": {
            "gridcolor": "white",
            "linecolor": "white",
            "ticks": ""
           },
           "bgcolor": "#E5ECF6",
           "radialaxis": {
            "gridcolor": "white",
            "linecolor": "white",
            "ticks": ""
           }
          },
          "scene": {
           "xaxis": {
            "backgroundcolor": "#E5ECF6",
            "gridcolor": "white",
            "gridwidth": 2,
            "linecolor": "white",
            "showbackground": true,
            "ticks": "",
            "zerolinecolor": "white"
           },
           "yaxis": {
            "backgroundcolor": "#E5ECF6",
            "gridcolor": "white",
            "gridwidth": 2,
            "linecolor": "white",
            "showbackground": true,
            "ticks": "",
            "zerolinecolor": "white"
           },
           "zaxis": {
            "backgroundcolor": "#E5ECF6",
            "gridcolor": "white",
            "gridwidth": 2,
            "linecolor": "white",
            "showbackground": true,
            "ticks": "",
            "zerolinecolor": "white"
           }
          },
          "shapedefaults": {
           "line": {
            "color": "#2a3f5f"
           }
          },
          "ternary": {
           "aaxis": {
            "gridcolor": "white",
            "linecolor": "white",
            "ticks": ""
           },
           "baxis": {
            "gridcolor": "white",
            "linecolor": "white",
            "ticks": ""
           },
           "bgcolor": "#E5ECF6",
           "caxis": {
            "gridcolor": "white",
            "linecolor": "white",
            "ticks": ""
           }
          },
          "title": {
           "x": 0.05
          },
          "xaxis": {
           "automargin": true,
           "gridcolor": "white",
           "linecolor": "white",
           "ticks": "",
           "title": {
            "standoff": 15
           },
           "zerolinecolor": "white",
           "zerolinewidth": 2
          },
          "yaxis": {
           "automargin": true,
           "gridcolor": "white",
           "linecolor": "white",
           "ticks": "",
           "title": {
            "standoff": 15
           },
           "zerolinecolor": "white",
           "zerolinewidth": 2
          }
         }
        },
        "title": {
         "font": {
          "color": "#4D5663"
         }
        },
        "xaxis": {
         "gridcolor": "#E1E5ED",
         "showgrid": true,
         "tickfont": {
          "color": "#4D5663"
         },
         "title": {
          "font": {
           "color": "#4D5663"
          },
          "text": ""
         },
         "zerolinecolor": "#E1E5ED"
        },
        "yaxis": {
         "gridcolor": "#E1E5ED",
         "showgrid": true,
         "tickfont": {
          "color": "#4D5663"
         },
         "title": {
          "font": {
           "color": "#4D5663"
          },
          "text": ""
         },
         "zerolinecolor": "#E1E5ED"
        }
       }
      },
      "text/html": [
       "<div>                            <div id=\"bf99f264-b05d-461a-bae6-05265a3c1420\" class=\"plotly-graph-div\" style=\"height:525px; width:100%;\"></div>            <script type=\"text/javascript\">                require([\"plotly\"], function(Plotly) {                    window.PLOTLYENV=window.PLOTLYENV || {};\n",
       "                    window.PLOTLYENV.BASE_URL='https://plot.ly';                                    if (document.getElementById(\"bf99f264-b05d-461a-bae6-05265a3c1420\")) {                    Plotly.newPlot(                        \"bf99f264-b05d-461a-bae6-05265a3c1420\",                        [{\"line\": {\"color\": \"rgba(255, 153, 51, 1.0)\", \"dash\": \"solid\", \"shape\": \"linear\", \"width\": 1.3}, \"mode\": \"lines\", \"name\": \"loss\", \"text\": \"\", \"type\": \"scatter\", \"x\": [0, 1, 2, 3, 4, 5, 6, 7, 8, 9, 10, 11, 12, 13, 14, 15, 16, 17, 18, 19, 20, 21, 22, 23, 24, 25, 26, 27, 28, 29, 30, 31, 32, 33, 34, 35, 36, 37, 38, 39, 40, 41, 42, 43, 44, 45, 46, 47, 48, 49, 50, 51, 52, 53, 54, 55, 56, 57, 58, 59, 60, 61, 62, 63, 64, 65, 66, 67, 68, 69, 70, 71, 72, 73, 74, 75, 76, 77, 78, 79, 80, 81, 82, 83, 84], \"y\": [0.7055861353874207, 0.6677448153495789, 0.6367110013961792, 0.6061170697212219, 0.5683493614196777, 0.5223549604415894, 0.4731813669204712, 0.42531442642211914, 0.3805851340293884, 0.3419478237628937, 0.31200096011161804, 0.28280723094940186, 0.2608391046524048, 0.24548934400081635, 0.22708119451999664, 0.21323040127754211, 0.20097769796848297, 0.1921190470457077, 0.18128007650375366, 0.17348092794418335, 0.16404344141483307, 0.1566372662782669, 0.1503675878047943, 0.1444362998008728, 0.1376604437828064, 0.13230293989181519, 0.1287042200565338, 0.12211963534355164, 0.11856810748577118, 0.11334638297557831, 0.11086058616638184, 0.10737574100494385, 0.10422874242067337, 0.10235781222581863, 0.09735462069511414, 0.09454035758972168, 0.09104100614786148, 0.09006396681070328, 0.08775188773870468, 0.08546270430088043, 0.08284572511911392, 0.08172914385795593, 0.07985945045948029, 0.07948461920022964, 0.0767531618475914, 0.07544641941785812, 0.07344029098749161, 0.07239601016044617, 0.07246227562427521, 0.07114046066999435, 0.07256490737199783, 0.06681903451681137, 0.06944076716899872, 0.06791234761476517, 0.06701797991991043, 0.06698103994131088, 0.06643535196781158, 0.0644853338599205, 0.06240665912628174, 0.06352075189352036, 0.06272327899932861, 0.06111238896846771, 0.06107271835207939, 0.06103697791695595, 0.06344252824783325, 0.06560733169317245, 0.059064026921987534, 0.05863027647137642, 0.05853504687547684, 0.057353731244802475, 0.057129573076963425, 0.05629369243979454, 0.05727933719754219, 0.05766848847270012, 0.05760596692562103, 0.05602976679801941, 0.05459730699658394, 0.056348931044340134, 0.05444451794028282, 0.05373034626245499, 0.05359731242060661, 0.053813762962818146, 0.05256512761116028, 0.0534479022026062, 0.05243786796927452]}, {\"line\": {\"color\": \"rgba(55, 128, 191, 1.0)\", \"dash\": \"solid\", \"shape\": \"linear\", \"width\": 1.3}, \"mode\": \"lines\", \"name\": \"val_loss\", \"text\": \"\", \"type\": \"scatter\", \"x\": [0, 1, 2, 3, 4, 5, 6, 7, 8, 9, 10, 11, 12, 13, 14, 15, 16, 17, 18, 19, 20, 21, 22, 23, 24, 25, 26, 27, 28, 29, 30, 31, 32, 33, 34, 35, 36, 37, 38, 39, 40, 41, 42, 43, 44, 45, 46, 47, 48, 49, 50, 51, 52, 53, 54, 55, 56, 57, 58, 59, 60, 61, 62, 63, 64, 65, 66, 67, 68, 69, 70, 71, 72, 73, 74, 75, 76, 77, 78, 79, 80, 81, 82, 83, 84], \"y\": [0.679885983467102, 0.6472602486610413, 0.6187261343002319, 0.5843793153762817, 0.5411861538887024, 0.49268293380737305, 0.44244804978370667, 0.39440158009529114, 0.3523615598678589, 0.31450122594833374, 0.2837279140949249, 0.2618080675601959, 0.2368195801973343, 0.21982377767562866, 0.2064368575811386, 0.19486694037914276, 0.18204471468925476, 0.17968614399433136, 0.16542164981365204, 0.16125468909740448, 0.15313443541526794, 0.14979688823223114, 0.14572961628437042, 0.13899581134319305, 0.13501006364822388, 0.1299918293952942, 0.12868009507656097, 0.12722498178482056, 0.12377850711345673, 0.11738905310630798, 0.12147659063339233, 0.11396440118551254, 0.11366801708936691, 0.11431439220905304, 0.11241644620895386, 0.11302841454744339, 0.10693284124135971, 0.10953030735254288, 0.10950087010860443, 0.10639476776123047, 0.10642484575510025, 0.10473822057247162, 0.10283980518579483, 0.10623978823423386, 0.10464010387659073, 0.10332384705543518, 0.10316482931375504, 0.10387938469648361, 0.10369439423084259, 0.10579486936330795, 0.100197933614254, 0.10743430256843567, 0.09998814016580582, 0.10314489156007767, 0.10194695740938187, 0.10042625665664673, 0.10272883623838425, 0.09983108192682266, 0.10931805521249771, 0.09831304848194122, 0.10453907400369644, 0.10024649649858475, 0.10267755389213562, 0.10054907202720642, 0.10176435858011246, 0.1005239188671112, 0.10068535804748535, 0.10011852532625198, 0.10062547028064728, 0.10133806616067886, 0.10419581085443497, 0.09963243454694748, 0.10334647446870804, 0.09860481321811676, 0.10266269743442535, 0.10330722481012344, 0.102499820291996, 0.1040220782160759, 0.10422610491514206, 0.1045977994799614, 0.10621735453605652, 0.1018260195851326, 0.1072305291891098, 0.10349015891551971, 0.10513629764318466]}],                        {\"legend\": {\"bgcolor\": \"#F5F6F9\", \"font\": {\"color\": \"#4D5663\"}}, \"paper_bgcolor\": \"#F5F6F9\", \"plot_bgcolor\": \"#F5F6F9\", \"template\": {\"data\": {\"bar\": [{\"error_x\": {\"color\": \"#2a3f5f\"}, \"error_y\": {\"color\": \"#2a3f5f\"}, \"marker\": {\"line\": {\"color\": \"#E5ECF6\", \"width\": 0.5}}, \"type\": \"bar\"}], \"barpolar\": [{\"marker\": {\"line\": {\"color\": \"#E5ECF6\", \"width\": 0.5}}, \"type\": \"barpolar\"}], \"carpet\": [{\"aaxis\": {\"endlinecolor\": \"#2a3f5f\", \"gridcolor\": \"white\", \"linecolor\": \"white\", \"minorgridcolor\": \"white\", \"startlinecolor\": \"#2a3f5f\"}, \"baxis\": {\"endlinecolor\": \"#2a3f5f\", \"gridcolor\": \"white\", \"linecolor\": \"white\", \"minorgridcolor\": \"white\", \"startlinecolor\": \"#2a3f5f\"}, \"type\": \"carpet\"}], \"choropleth\": [{\"colorbar\": {\"outlinewidth\": 0, \"ticks\": \"\"}, \"type\": \"choropleth\"}], \"contour\": [{\"colorbar\": {\"outlinewidth\": 0, \"ticks\": \"\"}, \"colorscale\": [[0.0, \"#0d0887\"], [0.1111111111111111, \"#46039f\"], [0.2222222222222222, \"#7201a8\"], [0.3333333333333333, \"#9c179e\"], [0.4444444444444444, \"#bd3786\"], [0.5555555555555556, \"#d8576b\"], [0.6666666666666666, \"#ed7953\"], [0.7777777777777778, \"#fb9f3a\"], [0.8888888888888888, \"#fdca26\"], [1.0, \"#f0f921\"]], \"type\": \"contour\"}], \"contourcarpet\": [{\"colorbar\": {\"outlinewidth\": 0, \"ticks\": \"\"}, \"type\": \"contourcarpet\"}], \"heatmap\": [{\"colorbar\": {\"outlinewidth\": 0, \"ticks\": \"\"}, \"colorscale\": [[0.0, \"#0d0887\"], [0.1111111111111111, \"#46039f\"], [0.2222222222222222, \"#7201a8\"], [0.3333333333333333, \"#9c179e\"], [0.4444444444444444, \"#bd3786\"], [0.5555555555555556, \"#d8576b\"], [0.6666666666666666, \"#ed7953\"], [0.7777777777777778, \"#fb9f3a\"], [0.8888888888888888, \"#fdca26\"], [1.0, \"#f0f921\"]], \"type\": \"heatmap\"}], \"heatmapgl\": [{\"colorbar\": {\"outlinewidth\": 0, \"ticks\": \"\"}, \"colorscale\": [[0.0, \"#0d0887\"], [0.1111111111111111, \"#46039f\"], [0.2222222222222222, \"#7201a8\"], [0.3333333333333333, \"#9c179e\"], [0.4444444444444444, \"#bd3786\"], [0.5555555555555556, \"#d8576b\"], [0.6666666666666666, \"#ed7953\"], [0.7777777777777778, \"#fb9f3a\"], [0.8888888888888888, \"#fdca26\"], [1.0, \"#f0f921\"]], \"type\": \"heatmapgl\"}], \"histogram\": [{\"marker\": {\"colorbar\": {\"outlinewidth\": 0, \"ticks\": \"\"}}, \"type\": \"histogram\"}], \"histogram2d\": [{\"colorbar\": {\"outlinewidth\": 0, \"ticks\": \"\"}, \"colorscale\": [[0.0, \"#0d0887\"], [0.1111111111111111, \"#46039f\"], [0.2222222222222222, \"#7201a8\"], [0.3333333333333333, \"#9c179e\"], [0.4444444444444444, \"#bd3786\"], [0.5555555555555556, \"#d8576b\"], [0.6666666666666666, \"#ed7953\"], [0.7777777777777778, \"#fb9f3a\"], [0.8888888888888888, \"#fdca26\"], [1.0, \"#f0f921\"]], \"type\": \"histogram2d\"}], \"histogram2dcontour\": [{\"colorbar\": {\"outlinewidth\": 0, \"ticks\": \"\"}, \"colorscale\": [[0.0, \"#0d0887\"], [0.1111111111111111, \"#46039f\"], [0.2222222222222222, \"#7201a8\"], [0.3333333333333333, \"#9c179e\"], [0.4444444444444444, \"#bd3786\"], [0.5555555555555556, \"#d8576b\"], [0.6666666666666666, \"#ed7953\"], [0.7777777777777778, \"#fb9f3a\"], [0.8888888888888888, \"#fdca26\"], [1.0, \"#f0f921\"]], \"type\": \"histogram2dcontour\"}], \"mesh3d\": [{\"colorbar\": {\"outlinewidth\": 0, \"ticks\": \"\"}, \"type\": \"mesh3d\"}], \"parcoords\": [{\"line\": {\"colorbar\": {\"outlinewidth\": 0, \"ticks\": \"\"}}, \"type\": \"parcoords\"}], \"pie\": [{\"automargin\": true, \"type\": \"pie\"}], \"scatter\": [{\"marker\": {\"colorbar\": {\"outlinewidth\": 0, \"ticks\": \"\"}}, \"type\": \"scatter\"}], \"scatter3d\": [{\"line\": {\"colorbar\": {\"outlinewidth\": 0, \"ticks\": \"\"}}, \"marker\": {\"colorbar\": {\"outlinewidth\": 0, \"ticks\": \"\"}}, \"type\": \"scatter3d\"}], \"scattercarpet\": [{\"marker\": {\"colorbar\": {\"outlinewidth\": 0, \"ticks\": \"\"}}, \"type\": \"scattercarpet\"}], \"scattergeo\": [{\"marker\": {\"colorbar\": {\"outlinewidth\": 0, \"ticks\": \"\"}}, \"type\": \"scattergeo\"}], \"scattergl\": [{\"marker\": {\"colorbar\": {\"outlinewidth\": 0, \"ticks\": \"\"}}, \"type\": \"scattergl\"}], \"scattermapbox\": [{\"marker\": {\"colorbar\": {\"outlinewidth\": 0, \"ticks\": \"\"}}, \"type\": \"scattermapbox\"}], \"scatterpolar\": [{\"marker\": {\"colorbar\": {\"outlinewidth\": 0, \"ticks\": \"\"}}, \"type\": \"scatterpolar\"}], \"scatterpolargl\": [{\"marker\": {\"colorbar\": {\"outlinewidth\": 0, \"ticks\": \"\"}}, \"type\": \"scatterpolargl\"}], \"scatterternary\": [{\"marker\": {\"colorbar\": {\"outlinewidth\": 0, \"ticks\": \"\"}}, \"type\": \"scatterternary\"}], \"surface\": [{\"colorbar\": {\"outlinewidth\": 0, \"ticks\": \"\"}, \"colorscale\": [[0.0, \"#0d0887\"], [0.1111111111111111, \"#46039f\"], [0.2222222222222222, \"#7201a8\"], [0.3333333333333333, \"#9c179e\"], [0.4444444444444444, \"#bd3786\"], [0.5555555555555556, \"#d8576b\"], [0.6666666666666666, \"#ed7953\"], [0.7777777777777778, \"#fb9f3a\"], [0.8888888888888888, \"#fdca26\"], [1.0, \"#f0f921\"]], \"type\": \"surface\"}], \"table\": [{\"cells\": {\"fill\": {\"color\": \"#EBF0F8\"}, \"line\": {\"color\": \"white\"}}, \"header\": {\"fill\": {\"color\": \"#C8D4E3\"}, \"line\": {\"color\": \"white\"}}, \"type\": \"table\"}]}, \"layout\": {\"annotationdefaults\": {\"arrowcolor\": \"#2a3f5f\", \"arrowhead\": 0, \"arrowwidth\": 1}, \"coloraxis\": {\"colorbar\": {\"outlinewidth\": 0, \"ticks\": \"\"}}, \"colorscale\": {\"diverging\": [[0, \"#8e0152\"], [0.1, \"#c51b7d\"], [0.2, \"#de77ae\"], [0.3, \"#f1b6da\"], [0.4, \"#fde0ef\"], [0.5, \"#f7f7f7\"], [0.6, \"#e6f5d0\"], [0.7, \"#b8e186\"], [0.8, \"#7fbc41\"], [0.9, \"#4d9221\"], [1, \"#276419\"]], \"sequential\": [[0.0, \"#0d0887\"], [0.1111111111111111, \"#46039f\"], [0.2222222222222222, \"#7201a8\"], [0.3333333333333333, \"#9c179e\"], [0.4444444444444444, \"#bd3786\"], [0.5555555555555556, \"#d8576b\"], [0.6666666666666666, \"#ed7953\"], [0.7777777777777778, \"#fb9f3a\"], [0.8888888888888888, \"#fdca26\"], [1.0, \"#f0f921\"]], \"sequentialminus\": [[0.0, \"#0d0887\"], [0.1111111111111111, \"#46039f\"], [0.2222222222222222, \"#7201a8\"], [0.3333333333333333, \"#9c179e\"], [0.4444444444444444, \"#bd3786\"], [0.5555555555555556, \"#d8576b\"], [0.6666666666666666, \"#ed7953\"], [0.7777777777777778, \"#fb9f3a\"], [0.8888888888888888, \"#fdca26\"], [1.0, \"#f0f921\"]]}, \"colorway\": [\"#636efa\", \"#EF553B\", \"#00cc96\", \"#ab63fa\", \"#FFA15A\", \"#19d3f3\", \"#FF6692\", \"#B6E880\", \"#FF97FF\", \"#FECB52\"], \"font\": {\"color\": \"#2a3f5f\"}, \"geo\": {\"bgcolor\": \"white\", \"lakecolor\": \"white\", \"landcolor\": \"#E5ECF6\", \"showlakes\": true, \"showland\": true, \"subunitcolor\": \"white\"}, \"hoverlabel\": {\"align\": \"left\"}, \"hovermode\": \"closest\", \"mapbox\": {\"style\": \"light\"}, \"paper_bgcolor\": \"white\", \"plot_bgcolor\": \"#E5ECF6\", \"polar\": {\"angularaxis\": {\"gridcolor\": \"white\", \"linecolor\": \"white\", \"ticks\": \"\"}, \"bgcolor\": \"#E5ECF6\", \"radialaxis\": {\"gridcolor\": \"white\", \"linecolor\": \"white\", \"ticks\": \"\"}}, \"scene\": {\"xaxis\": {\"backgroundcolor\": \"#E5ECF6\", \"gridcolor\": \"white\", \"gridwidth\": 2, \"linecolor\": \"white\", \"showbackground\": true, \"ticks\": \"\", \"zerolinecolor\": \"white\"}, \"yaxis\": {\"backgroundcolor\": \"#E5ECF6\", \"gridcolor\": \"white\", \"gridwidth\": 2, \"linecolor\": \"white\", \"showbackground\": true, \"ticks\": \"\", \"zerolinecolor\": \"white\"}, \"zaxis\": {\"backgroundcolor\": \"#E5ECF6\", \"gridcolor\": \"white\", \"gridwidth\": 2, \"linecolor\": \"white\", \"showbackground\": true, \"ticks\": \"\", \"zerolinecolor\": \"white\"}}, \"shapedefaults\": {\"line\": {\"color\": \"#2a3f5f\"}}, \"ternary\": {\"aaxis\": {\"gridcolor\": \"white\", \"linecolor\": \"white\", \"ticks\": \"\"}, \"baxis\": {\"gridcolor\": \"white\", \"linecolor\": \"white\", \"ticks\": \"\"}, \"bgcolor\": \"#E5ECF6\", \"caxis\": {\"gridcolor\": \"white\", \"linecolor\": \"white\", \"ticks\": \"\"}}, \"title\": {\"x\": 0.05}, \"xaxis\": {\"automargin\": true, \"gridcolor\": \"white\", \"linecolor\": \"white\", \"ticks\": \"\", \"title\": {\"standoff\": 15}, \"zerolinecolor\": \"white\", \"zerolinewidth\": 2}, \"yaxis\": {\"automargin\": true, \"gridcolor\": \"white\", \"linecolor\": \"white\", \"ticks\": \"\", \"title\": {\"standoff\": 15}, \"zerolinecolor\": \"white\", \"zerolinewidth\": 2}}}, \"title\": {\"font\": {\"color\": \"#4D5663\"}}, \"xaxis\": {\"gridcolor\": \"#E1E5ED\", \"showgrid\": true, \"tickfont\": {\"color\": \"#4D5663\"}, \"title\": {\"font\": {\"color\": \"#4D5663\"}, \"text\": \"\"}, \"zerolinecolor\": \"#E1E5ED\"}, \"yaxis\": {\"gridcolor\": \"#E1E5ED\", \"showgrid\": true, \"tickfont\": {\"color\": \"#4D5663\"}, \"title\": {\"font\": {\"color\": \"#4D5663\"}, \"text\": \"\"}, \"zerolinecolor\": \"#E1E5ED\"}},                        {\"showLink\": true, \"linkText\": \"Export to plot.ly\", \"plotlyServerURL\": \"https://plot.ly\", \"responsive\": true}                    ).then(function(){\n",
       "                            \n",
       "var gd = document.getElementById('bf99f264-b05d-461a-bae6-05265a3c1420');\n",
       "var x = new MutationObserver(function (mutations, observer) {{\n",
       "        var display = window.getComputedStyle(gd).display;\n",
       "        if (!display || display === 'none') {{\n",
       "            console.log([gd, 'removed!']);\n",
       "            Plotly.purge(gd);\n",
       "            observer.disconnect();\n",
       "        }}\n",
       "}});\n",
       "\n",
       "// Listen for the removal of the full notebook cells\n",
       "var notebookContainer = gd.closest('#notebook-container');\n",
       "if (notebookContainer) {{\n",
       "    x.observe(notebookContainer, {childList: true});\n",
       "}}\n",
       "\n",
       "// Listen for the clearing of the current output cell\n",
       "var outputEl = gd.closest('.output');\n",
       "if (outputEl) {{\n",
       "    x.observe(outputEl, {childList: true});\n",
       "}}\n",
       "\n",
       "                        })                };                });            </script>        </div>"
      ]
     },
     "metadata": {},
     "output_type": "display_data"
    }
   ],
   "source": [
    "losses.iplot()"
   ]
  },
  {
   "cell_type": "code",
   "execution_count": 53,
   "metadata": {},
   "outputs": [],
   "source": [
    "# Add dropout layer to prevent overfitting"
   ]
  },
  {
   "cell_type": "code",
   "execution_count": 54,
   "metadata": {},
   "outputs": [],
   "source": [
    "# Create empty sequential models\n",
    "model = Sequential()\n",
    "\n",
    "# Add layers - We added 30 because number of vaiables in trained data set\n",
    "model.add(Dense(30,activation='relu'))\n",
    "# Rate at which neurons will be dropped out\n",
    "model.add(Dropout(0.5))\n",
    "\n",
    "model.add(Dense(15,activation='relu'))\n",
    "model.add(Dropout(0.5))\n",
    "\n",
    "# Output layer - BINARY classification, so we chose sigmoid activation function\n",
    "model.add(Dense(1,activation='sigmoid'))\n",
    "\n",
    "# Compiling model - We use these optimizer and loss because we are solving a regression problem\n",
    "model.compile(optimizer='adam',loss='binary_crossentropy')"
   ]
  },
  {
   "cell_type": "code",
   "execution_count": 55,
   "metadata": {},
   "outputs": [
    {
     "name": "stdout",
     "output_type": "stream",
     "text": [
      "Epoch 1/600\n",
      "14/14 [==============================] - 1s 20ms/step - loss: 0.6915 - val_loss: 0.6761\n",
      "Epoch 2/600\n",
      "14/14 [==============================] - 0s 6ms/step - loss: 0.6837 - val_loss: 0.6631\n",
      "Epoch 3/600\n",
      "14/14 [==============================] - 0s 6ms/step - loss: 0.6668 - val_loss: 0.6475\n",
      "Epoch 4/600\n",
      "14/14 [==============================] - 0s 6ms/step - loss: 0.6509 - val_loss: 0.6278\n",
      "Epoch 5/600\n",
      "14/14 [==============================] - 0s 6ms/step - loss: 0.6305 - val_loss: 0.6037\n",
      "Epoch 6/600\n",
      "14/14 [==============================] - 0s 7ms/step - loss: 0.6149 - val_loss: 0.5757\n",
      "Epoch 7/600\n",
      "14/14 [==============================] - 0s 6ms/step - loss: 0.6102 - val_loss: 0.5471\n",
      "Epoch 8/600\n",
      "14/14 [==============================] - 0s 6ms/step - loss: 0.5659 - val_loss: 0.5124\n",
      "Epoch 9/600\n",
      "14/14 [==============================] - 0s 7ms/step - loss: 0.5356 - val_loss: 0.4751\n",
      "Epoch 10/600\n",
      "14/14 [==============================] - 0s 7ms/step - loss: 0.5222 - val_loss: 0.4480\n",
      "Epoch 11/600\n",
      "14/14 [==============================] - 0s 6ms/step - loss: 0.4966 - val_loss: 0.4185\n",
      "Epoch 12/600\n",
      "14/14 [==============================] - 0s 7ms/step - loss: 0.4894 - val_loss: 0.3907\n",
      "Epoch 13/600\n",
      "14/14 [==============================] - 0s 6ms/step - loss: 0.4274 - val_loss: 0.3676\n",
      "Epoch 14/600\n",
      "14/14 [==============================] - 0s 6ms/step - loss: 0.4254 - val_loss: 0.3470\n",
      "Epoch 15/600\n",
      "14/14 [==============================] - 0s 7ms/step - loss: 0.4156 - val_loss: 0.3298\n",
      "Epoch 16/600\n",
      "14/14 [==============================] - 0s 6ms/step - loss: 0.4094 - val_loss: 0.3046\n",
      "Epoch 17/600\n",
      "14/14 [==============================] - 0s 6ms/step - loss: 0.3999 - val_loss: 0.2885\n",
      "Epoch 18/600\n",
      "14/14 [==============================] - 0s 6ms/step - loss: 0.4020 - val_loss: 0.2760\n",
      "Epoch 19/600\n",
      "14/14 [==============================] - 0s 8ms/step - loss: 0.3397 - val_loss: 0.2617\n",
      "Epoch 20/600\n",
      "14/14 [==============================] - 0s 8ms/step - loss: 0.3711 - val_loss: 0.2489\n",
      "Epoch 21/600\n",
      "14/14 [==============================] - 0s 7ms/step - loss: 0.3296 - val_loss: 0.2376\n",
      "Epoch 22/600\n",
      "14/14 [==============================] - 0s 6ms/step - loss: 0.3015 - val_loss: 0.2323\n",
      "Epoch 23/600\n",
      "14/14 [==============================] - 0s 6ms/step - loss: 0.3410 - val_loss: 0.2199\n",
      "Epoch 24/600\n",
      "14/14 [==============================] - 0s 7ms/step - loss: 0.3051 - val_loss: 0.2201\n",
      "Epoch 25/600\n",
      "14/14 [==============================] - 0s 7ms/step - loss: 0.3196 - val_loss: 0.2074\n",
      "Epoch 26/600\n",
      "14/14 [==============================] - 0s 7ms/step - loss: 0.2788 - val_loss: 0.2014\n",
      "Epoch 27/600\n",
      "14/14 [==============================] - 0s 6ms/step - loss: 0.2871 - val_loss: 0.1899\n",
      "Epoch 28/600\n",
      "14/14 [==============================] - 0s 11ms/step - loss: 0.3035 - val_loss: 0.1880\n",
      "Epoch 29/600\n",
      "14/14 [==============================] - 0s 7ms/step - loss: 0.3124 - val_loss: 0.1830\n",
      "Epoch 30/600\n",
      "14/14 [==============================] - 0s 6ms/step - loss: 0.2752 - val_loss: 0.1730\n",
      "Epoch 31/600\n",
      "14/14 [==============================] - 0s 27ms/step - loss: 0.2707 - val_loss: 0.1701\n",
      "Epoch 32/600\n",
      "14/14 [==============================] - 0s 7ms/step - loss: 0.2824 - val_loss: 0.1672\n",
      "Epoch 33/600\n",
      "14/14 [==============================] - 0s 7ms/step - loss: 0.2972 - val_loss: 0.1567\n",
      "Epoch 34/600\n",
      "14/14 [==============================] - 0s 7ms/step - loss: 0.2399 - val_loss: 0.1521\n",
      "Epoch 35/600\n",
      "14/14 [==============================] - 0s 7ms/step - loss: 0.2420 - val_loss: 0.1538\n",
      "Epoch 36/600\n",
      "14/14 [==============================] - 0s 7ms/step - loss: 0.2340 - val_loss: 0.1452\n",
      "Epoch 37/600\n",
      "14/14 [==============================] - 0s 7ms/step - loss: 0.2232 - val_loss: 0.1442\n",
      "Epoch 38/600\n",
      "14/14 [==============================] - 0s 7ms/step - loss: 0.2437 - val_loss: 0.1478\n",
      "Epoch 39/600\n",
      "14/14 [==============================] - 0s 7ms/step - loss: 0.2395 - val_loss: 0.1400\n",
      "Epoch 40/600\n",
      "14/14 [==============================] - 0s 8ms/step - loss: 0.2512 - val_loss: 0.1368\n",
      "Epoch 41/600\n",
      "14/14 [==============================] - 0s 7ms/step - loss: 0.2564 - val_loss: 0.1423\n",
      "Epoch 42/600\n",
      "14/14 [==============================] - 0s 7ms/step - loss: 0.2393 - val_loss: 0.1377\n",
      "Epoch 43/600\n",
      "14/14 [==============================] - 0s 8ms/step - loss: 0.2269 - val_loss: 0.1312\n",
      "Epoch 44/600\n",
      "14/14 [==============================] - 0s 8ms/step - loss: 0.1950 - val_loss: 0.1361\n",
      "Epoch 45/600\n",
      "14/14 [==============================] - 0s 12ms/step - loss: 0.2422 - val_loss: 0.1234\n",
      "Epoch 46/600\n",
      "14/14 [==============================] - 0s 18ms/step - loss: 0.1855 - val_loss: 0.1187\n",
      "Epoch 47/600\n",
      "14/14 [==============================] - 0s 8ms/step - loss: 0.1793 - val_loss: 0.1142\n",
      "Epoch 48/600\n",
      "14/14 [==============================] - 0s 8ms/step - loss: 0.2327 - val_loss: 0.1133\n",
      "Epoch 49/600\n",
      "14/14 [==============================] - 0s 9ms/step - loss: 0.2378 - val_loss: 0.1193\n",
      "Epoch 50/600\n",
      "14/14 [==============================] - 0s 12ms/step - loss: 0.2096 - val_loss: 0.1174\n",
      "Epoch 51/600\n",
      "14/14 [==============================] - 0s 7ms/step - loss: 0.1711 - val_loss: 0.1103\n",
      "Epoch 52/600\n",
      "14/14 [==============================] - 0s 30ms/step - loss: 0.2062 - val_loss: 0.1128\n",
      "Epoch 53/600\n",
      "14/14 [==============================] - 0s 8ms/step - loss: 0.1832 - val_loss: 0.1215\n",
      "Epoch 54/600\n",
      "14/14 [==============================] - 0s 24ms/step - loss: 0.1860 - val_loss: 0.1092\n",
      "Epoch 55/600\n",
      "14/14 [==============================] - 0s 24ms/step - loss: 0.1928 - val_loss: 0.1061\n",
      "Epoch 56/600\n",
      "14/14 [==============================] - 0s 10ms/step - loss: 0.1663 - val_loss: 0.1093\n",
      "Epoch 57/600\n",
      "14/14 [==============================] - 0s 11ms/step - loss: 0.1634 - val_loss: 0.1138\n",
      "Epoch 58/600\n",
      "14/14 [==============================] - 0s 14ms/step - loss: 0.1858 - val_loss: 0.1125\n",
      "Epoch 59/600\n",
      "14/14 [==============================] - 0s 10ms/step - loss: 0.1809 - val_loss: 0.1006\n",
      "Epoch 60/600\n",
      "14/14 [==============================] - 0s 14ms/step - loss: 0.1728 - val_loss: 0.1004\n",
      "Epoch 61/600\n",
      "14/14 [==============================] - 0s 25ms/step - loss: 0.1423 - val_loss: 0.0974\n",
      "Epoch 62/600\n",
      "14/14 [==============================] - 0s 18ms/step - loss: 0.1793 - val_loss: 0.1010\n",
      "Epoch 63/600\n",
      "14/14 [==============================] - 0s 18ms/step - loss: 0.1703 - val_loss: 0.0980\n",
      "Epoch 64/600\n",
      "14/14 [==============================] - 0s 10ms/step - loss: 0.1700 - val_loss: 0.0943\n",
      "Epoch 65/600\n",
      "14/14 [==============================] - 0s 13ms/step - loss: 0.1392 - val_loss: 0.0972\n",
      "Epoch 66/600\n",
      "14/14 [==============================] - 0s 11ms/step - loss: 0.1836 - val_loss: 0.0920\n",
      "Epoch 67/600\n",
      "14/14 [==============================] - 0s 12ms/step - loss: 0.1199 - val_loss: 0.1006\n",
      "Epoch 68/600\n",
      "14/14 [==============================] - 0s 16ms/step - loss: 0.1525 - val_loss: 0.0892\n",
      "Epoch 69/600\n",
      "14/14 [==============================] - 0s 35ms/step - loss: 0.1480 - val_loss: 0.0891\n",
      "Epoch 70/600\n",
      "14/14 [==============================] - 0s 15ms/step - loss: 0.1284 - val_loss: 0.0926\n",
      "Epoch 71/600\n",
      "14/14 [==============================] - 0s 12ms/step - loss: 0.1453 - val_loss: 0.0894\n",
      "Epoch 72/600\n",
      "14/14 [==============================] - 0s 14ms/step - loss: 0.1422 - val_loss: 0.0883\n",
      "Epoch 73/600\n",
      "14/14 [==============================] - 0s 7ms/step - loss: 0.1328 - val_loss: 0.0877\n",
      "Epoch 74/600\n",
      "14/14 [==============================] - 0s 7ms/step - loss: 0.1865 - val_loss: 0.0881\n",
      "Epoch 75/600\n",
      "14/14 [==============================] - 0s 8ms/step - loss: 0.1564 - val_loss: 0.0890\n",
      "Epoch 76/600\n",
      "14/14 [==============================] - 0s 8ms/step - loss: 0.1651 - val_loss: 0.0899\n",
      "Epoch 77/600\n",
      "14/14 [==============================] - 0s 17ms/step - loss: 0.1338 - val_loss: 0.0826\n",
      "Epoch 78/600\n",
      "14/14 [==============================] - 0s 10ms/step - loss: 0.1662 - val_loss: 0.0824\n",
      "Epoch 79/600\n",
      "14/14 [==============================] - 0s 16ms/step - loss: 0.1688 - val_loss: 0.0892\n",
      "Epoch 80/600\n",
      "14/14 [==============================] - 0s 9ms/step - loss: 0.1502 - val_loss: 0.0827\n",
      "Epoch 81/600\n",
      "14/14 [==============================] - 0s 7ms/step - loss: 0.2415 - val_loss: 0.0960\n",
      "Epoch 82/600\n"
     ]
    },
    {
     "name": "stdout",
     "output_type": "stream",
     "text": [
      "14/14 [==============================] - 0s 7ms/step - loss: 0.1553 - val_loss: 0.0851\n",
      "Epoch 83/600\n",
      "14/14 [==============================] - 0s 7ms/step - loss: 0.1444 - val_loss: 0.0840\n",
      "Epoch 84/600\n",
      "14/14 [==============================] - 0s 6ms/step - loss: 0.1481 - val_loss: 0.0817\n",
      "Epoch 85/600\n",
      "14/14 [==============================] - 0s 6ms/step - loss: 0.1295 - val_loss: 0.0811\n",
      "Epoch 86/600\n",
      "14/14 [==============================] - 0s 7ms/step - loss: 0.1072 - val_loss: 0.0989\n",
      "Epoch 87/600\n",
      "14/14 [==============================] - 0s 7ms/step - loss: 0.1275 - val_loss: 0.0853\n",
      "Epoch 88/600\n",
      "14/14 [==============================] - 0s 16ms/step - loss: 0.1447 - val_loss: 0.0776\n",
      "Epoch 89/600\n",
      "14/14 [==============================] - 0s 17ms/step - loss: 0.1885 - val_loss: 0.0828\n",
      "Epoch 90/600\n",
      "14/14 [==============================] - 0s 16ms/step - loss: 0.1096 - val_loss: 0.0771\n",
      "Epoch 91/600\n",
      "14/14 [==============================] - 0s 9ms/step - loss: 0.1610 - val_loss: 0.0877\n",
      "Epoch 92/600\n",
      "14/14 [==============================] - 0s 7ms/step - loss: 0.1630 - val_loss: 0.0933\n",
      "Epoch 93/600\n",
      "14/14 [==============================] - 0s 7ms/step - loss: 0.1243 - val_loss: 0.0769\n",
      "Epoch 94/600\n",
      "14/14 [==============================] - 0s 11ms/step - loss: 0.1183 - val_loss: 0.0779\n",
      "Epoch 95/600\n",
      "14/14 [==============================] - 0s 14ms/step - loss: 0.0860 - val_loss: 0.0850\n",
      "Epoch 96/600\n",
      "14/14 [==============================] - 0s 9ms/step - loss: 0.1050 - val_loss: 0.0760\n",
      "Epoch 97/600\n",
      "14/14 [==============================] - 0s 11ms/step - loss: 0.1018 - val_loss: 0.0778\n",
      "Epoch 98/600\n",
      "14/14 [==============================] - 0s 10ms/step - loss: 0.1927 - val_loss: 0.0847\n",
      "Epoch 99/600\n",
      "14/14 [==============================] - 0s 8ms/step - loss: 0.1152 - val_loss: 0.0799\n",
      "Epoch 100/600\n",
      "14/14 [==============================] - 0s 7ms/step - loss: 0.1234 - val_loss: 0.0763\n",
      "Epoch 101/600\n",
      "14/14 [==============================] - 0s 7ms/step - loss: 0.1226 - val_loss: 0.0755\n",
      "Epoch 102/600\n",
      "14/14 [==============================] - 0s 7ms/step - loss: 0.1323 - val_loss: 0.0819\n",
      "Epoch 103/600\n",
      "14/14 [==============================] - 0s 9ms/step - loss: 0.1090 - val_loss: 0.0784\n",
      "Epoch 104/600\n",
      "14/14 [==============================] - 0s 12ms/step - loss: 0.1174 - val_loss: 0.0915\n",
      "Epoch 105/600\n",
      "14/14 [==============================] - 0s 12ms/step - loss: 0.1430 - val_loss: 0.0875\n",
      "Epoch 106/600\n",
      "14/14 [==============================] - 0s 13ms/step - loss: 0.1244 - val_loss: 0.0755\n",
      "Epoch 107/600\n",
      "14/14 [==============================] - 0s 27ms/step - loss: 0.1299 - val_loss: 0.0804\n",
      "Epoch 108/600\n",
      "14/14 [==============================] - 0s 7ms/step - loss: 0.1449 - val_loss: 0.0796\n",
      "Epoch 109/600\n",
      "14/14 [==============================] - 0s 7ms/step - loss: 0.1299 - val_loss: 0.0754\n",
      "Epoch 110/600\n",
      "14/14 [==============================] - 0s 8ms/step - loss: 0.0957 - val_loss: 0.0814\n",
      "Epoch 111/600\n",
      "14/14 [==============================] - 0s 16ms/step - loss: 0.1069 - val_loss: 0.0805\n",
      "Epoch 112/600\n",
      "14/14 [==============================] - 0s 16ms/step - loss: 0.1380 - val_loss: 0.0764\n",
      "Epoch 113/600\n",
      "14/14 [==============================] - 0s 16ms/step - loss: 0.1080 - val_loss: 0.0741\n",
      "Epoch 114/600\n",
      "14/14 [==============================] - 0s 8ms/step - loss: 0.1136 - val_loss: 0.0870\n",
      "Epoch 115/600\n",
      "14/14 [==============================] - 0s 8ms/step - loss: 0.1558 - val_loss: 0.0814\n",
      "Epoch 116/600\n",
      "14/14 [==============================] - 0s 8ms/step - loss: 0.1127 - val_loss: 0.0728\n",
      "Epoch 117/600\n",
      "14/14 [==============================] - 0s 7ms/step - loss: 0.1269 - val_loss: 0.0812\n",
      "Epoch 118/600\n",
      "14/14 [==============================] - ETA: 0s - loss: 0.135 - 0s 7ms/step - loss: 0.1299 - val_loss: 0.0805\n",
      "Epoch 119/600\n",
      "14/14 [==============================] - 0s 10ms/step - loss: 0.1539 - val_loss: 0.0734\n",
      "Epoch 120/600\n",
      "14/14 [==============================] - 0s 15ms/step - loss: 0.1457 - val_loss: 0.0750\n",
      "Epoch 121/600\n",
      "14/14 [==============================] - 0s 14ms/step - loss: 0.1612 - val_loss: 0.0797\n",
      "Epoch 122/600\n",
      "14/14 [==============================] - 0s 16ms/step - loss: 0.1279 - val_loss: 0.0851\n",
      "Epoch 123/600\n",
      "14/14 [==============================] - 0s 8ms/step - loss: 0.1245 - val_loss: 0.0718\n",
      "Epoch 124/600\n",
      "14/14 [==============================] - 0s 8ms/step - loss: 0.1422 - val_loss: 0.0769\n",
      "Epoch 125/600\n",
      "14/14 [==============================] - 0s 8ms/step - loss: 0.1136 - val_loss: 0.0713\n",
      "Epoch 126/600\n",
      "14/14 [==============================] - 0s 7ms/step - loss: 0.0878 - val_loss: 0.0823\n",
      "Epoch 127/600\n",
      "14/14 [==============================] - 0s 9ms/step - loss: 0.1089 - val_loss: 0.0869\n",
      "Epoch 128/600\n",
      "14/14 [==============================] - 0s 17ms/step - loss: 0.1213 - val_loss: 0.0759\n",
      "Epoch 129/600\n",
      "14/14 [==============================] - 0s 13ms/step - loss: 0.1076 - val_loss: 0.0748\n",
      "Epoch 130/600\n",
      "14/14 [==============================] - 0s 21ms/step - loss: 0.1174 - val_loss: 0.0769\n",
      "Epoch 131/600\n",
      "14/14 [==============================] - 0s 9ms/step - loss: 0.1211 - val_loss: 0.0725\n",
      "Epoch 132/600\n",
      "14/14 [==============================] - 0s 8ms/step - loss: 0.0991 - val_loss: 0.0734\n",
      "Epoch 133/600\n",
      "14/14 [==============================] - 0s 10ms/step - loss: 0.1029 - val_loss: 0.0786\n",
      "Epoch 134/600\n",
      "14/14 [==============================] - 0s 8ms/step - loss: 0.0954 - val_loss: 0.0717\n",
      "Epoch 135/600\n",
      "14/14 [==============================] - 0s 13ms/step - loss: 0.0994 - val_loss: 0.0724\n",
      "Epoch 136/600\n",
      "14/14 [==============================] - 0s 14ms/step - loss: 0.1050 - val_loss: 0.0749\n",
      "Epoch 137/600\n",
      "14/14 [==============================] - 0s 10ms/step - loss: 0.0886 - val_loss: 0.0718\n",
      "Epoch 138/600\n",
      "14/14 [==============================] - 0s 12ms/step - loss: 0.1242 - val_loss: 0.0713\n",
      "Epoch 139/600\n",
      "14/14 [==============================] - 0s 22ms/step - loss: 0.1189 - val_loss: 0.0706\n",
      "Epoch 140/600\n",
      "14/14 [==============================] - 0s 13ms/step - loss: 0.1618 - val_loss: 0.0843\n",
      "Epoch 141/600\n",
      "14/14 [==============================] - 0s 12ms/step - loss: 0.1122 - val_loss: 0.0744\n",
      "Epoch 142/600\n",
      "14/14 [==============================] - 0s 8ms/step - loss: 0.0792 - val_loss: 0.0686\n",
      "Epoch 143/600\n",
      "14/14 [==============================] - 0s 8ms/step - loss: 0.1229 - val_loss: 0.0847\n",
      "Epoch 144/600\n",
      "14/14 [==============================] - 0s 8ms/step - loss: 0.0855 - val_loss: 0.0804\n",
      "Epoch 145/600\n",
      "14/14 [==============================] - 0s 36ms/step - loss: 0.1376 - val_loss: 0.0812\n",
      "Epoch 146/600\n",
      "14/14 [==============================] - 0s 8ms/step - loss: 0.1353 - val_loss: 0.0730\n",
      "Epoch 147/600\n",
      "14/14 [==============================] - 0s 7ms/step - loss: 0.1022 - val_loss: 0.0823\n",
      "Epoch 148/600\n",
      "14/14 [==============================] - 0s 8ms/step - loss: 0.0986 - val_loss: 0.0771\n",
      "Epoch 149/600\n",
      "14/14 [==============================] - 0s 14ms/step - loss: 0.0859 - val_loss: 0.0777\n",
      "Epoch 150/600\n",
      "14/14 [==============================] - 0s 8ms/step - loss: 0.0794 - val_loss: 0.0709\n",
      "Epoch 151/600\n",
      "14/14 [==============================] - 0s 7ms/step - loss: 0.1020 - val_loss: 0.0718\n",
      "Epoch 152/600\n",
      "14/14 [==============================] - 0s 7ms/step - loss: 0.0963 - val_loss: 0.0815\n",
      "Epoch 153/600\n",
      "14/14 [==============================] - 0s 7ms/step - loss: 0.1087 - val_loss: 0.0707\n",
      "Epoch 154/600\n",
      "14/14 [==============================] - 0s 8ms/step - loss: 0.0852 - val_loss: 0.0744\n",
      "Epoch 155/600\n",
      "14/14 [==============================] - 0s 7ms/step - loss: 0.0877 - val_loss: 0.0707\n",
      "Epoch 156/600\n",
      "14/14 [==============================] - 0s 7ms/step - loss: 0.1104 - val_loss: 0.0771\n",
      "Epoch 157/600\n",
      "14/14 [==============================] - 0s 7ms/step - loss: 0.1088 - val_loss: 0.0726\n",
      "Epoch 158/600\n",
      "14/14 [==============================] - 0s 7ms/step - loss: 0.1137 - val_loss: 0.0694\n",
      "Epoch 159/600\n",
      "14/14 [==============================] - 0s 7ms/step - loss: 0.1285 - val_loss: 0.0715\n",
      "Epoch 160/600\n",
      "14/14 [==============================] - 0s 7ms/step - loss: 0.1176 - val_loss: 0.0748\n",
      "Epoch 161/600\n",
      "14/14 [==============================] - 0s 7ms/step - loss: 0.0851 - val_loss: 0.0850\n",
      "Epoch 162/600\n",
      "14/14 [==============================] - 0s 8ms/step - loss: 0.0966 - val_loss: 0.0707\n"
     ]
    },
    {
     "name": "stdout",
     "output_type": "stream",
     "text": [
      "Epoch 163/600\n",
      "14/14 [==============================] - 0s 7ms/step - loss: 0.0992 - val_loss: 0.0731\n",
      "Epoch 164/600\n",
      "14/14 [==============================] - 0s 7ms/step - loss: 0.1181 - val_loss: 0.0817\n",
      "Epoch 165/600\n",
      "14/14 [==============================] - 0s 6ms/step - loss: 0.1164 - val_loss: 0.0738\n",
      "Epoch 166/600\n",
      "14/14 [==============================] - 0s 6ms/step - loss: 0.1048 - val_loss: 0.0803\n",
      "Epoch 167/600\n",
      "14/14 [==============================] - 0s 6ms/step - loss: 0.0966 - val_loss: 0.0765\n",
      "Epoch 00167: early stopping\n"
     ]
    },
    {
     "data": {
      "text/plain": [
       "<tensorflow.python.keras.callbacks.History at 0x1a4cac6d10>"
      ]
     },
     "execution_count": 55,
     "metadata": {},
     "output_type": "execute_result"
    }
   ],
   "source": [
    "# No Batch Size\n",
    "# Epochs - Number of iterations\n",
    "# Using validation data here to prevent overfitting\n",
    "# Adding validation data has no impact in adjusting weights and biases\n",
    "# Adding callback parameter\n",
    "model.fit(x=X_train,y=y_train,validation_data=(X_test,y_test),epochs=600,callbacks=[early_stop])"
   ]
  },
  {
   "cell_type": "code",
   "execution_count": 56,
   "metadata": {},
   "outputs": [],
   "source": [
    "losses = pd.DataFrame(model.history.history)"
   ]
  },
  {
   "cell_type": "code",
   "execution_count": 57,
   "metadata": {},
   "outputs": [
    {
     "data": {
      "application/vnd.plotly.v1+json": {
       "config": {
        "linkText": "Export to plot.ly",
        "plotlyServerURL": "https://plot.ly",
        "showLink": true
       },
       "data": [
        {
         "line": {
          "color": "rgba(255, 153, 51, 1.0)",
          "dash": "solid",
          "shape": "linear",
          "width": 1.3
         },
         "mode": "lines",
         "name": "loss",
         "text": "",
         "type": "scatter",
         "x": [
          0,
          1,
          2,
          3,
          4,
          5,
          6,
          7,
          8,
          9,
          10,
          11,
          12,
          13,
          14,
          15,
          16,
          17,
          18,
          19,
          20,
          21,
          22,
          23,
          24,
          25,
          26,
          27,
          28,
          29,
          30,
          31,
          32,
          33,
          34,
          35,
          36,
          37,
          38,
          39,
          40,
          41,
          42,
          43,
          44,
          45,
          46,
          47,
          48,
          49,
          50,
          51,
          52,
          53,
          54,
          55,
          56,
          57,
          58,
          59,
          60,
          61,
          62,
          63,
          64,
          65,
          66,
          67,
          68,
          69,
          70,
          71,
          72,
          73,
          74,
          75,
          76,
          77,
          78,
          79,
          80,
          81,
          82,
          83,
          84,
          85,
          86,
          87,
          88,
          89,
          90,
          91,
          92,
          93,
          94,
          95,
          96,
          97,
          98,
          99,
          100,
          101,
          102,
          103,
          104,
          105,
          106,
          107,
          108,
          109,
          110,
          111,
          112,
          113,
          114,
          115,
          116,
          117,
          118,
          119,
          120,
          121,
          122,
          123,
          124,
          125,
          126,
          127,
          128,
          129,
          130,
          131,
          132,
          133,
          134,
          135,
          136,
          137,
          138,
          139,
          140,
          141,
          142,
          143,
          144,
          145,
          146,
          147,
          148,
          149,
          150,
          151,
          152,
          153,
          154,
          155,
          156,
          157,
          158,
          159,
          160,
          161,
          162,
          163,
          164,
          165,
          166
         ],
         "y": [
          0.6916653513908386,
          0.6842882037162781,
          0.6630560159683228,
          0.6459006667137146,
          0.629030704498291,
          0.6056214570999146,
          0.5983091592788696,
          0.5738572478294373,
          0.5332044363021851,
          0.5246211886405945,
          0.5050419569015503,
          0.4903627038002014,
          0.4378397464752197,
          0.4591250419616699,
          0.4046649932861328,
          0.3991074860095978,
          0.390608012676239,
          0.39020365476608276,
          0.3540579080581665,
          0.368068128824234,
          0.3404991030693054,
          0.31652194261550903,
          0.3693019449710846,
          0.31066611409187317,
          0.30842164158821106,
          0.2920747995376587,
          0.28962740302085876,
          0.30051738023757935,
          0.2949989438056946,
          0.2642594873905182,
          0.2847684323787689,
          0.26662418246269226,
          0.2709701657295227,
          0.2545253336429596,
          0.24653881788253784,
          0.24903427064418793,
          0.2427222579717636,
          0.2463720142841339,
          0.23680144548416138,
          0.24151229858398438,
          0.23311366140842438,
          0.2362411767244339,
          0.22842495143413544,
          0.20912650227546692,
          0.2223389446735382,
          0.20795553922653198,
          0.1864742934703827,
          0.22904661297798157,
          0.20674347877502441,
          0.20882754027843475,
          0.18175362050533295,
          0.2024616003036499,
          0.1749228835105896,
          0.1931464821100235,
          0.19475410878658295,
          0.1610638052225113,
          0.19481949508190155,
          0.19738483428955078,
          0.16617095470428467,
          0.19141075015068054,
          0.1607285588979721,
          0.17204400897026062,
          0.1636856496334076,
          0.16064397990703583,
          0.14140215516090393,
          0.1856204718351364,
          0.1435307264328003,
          0.15734465420246124,
          0.1540176272392273,
          0.15273956954479218,
          0.13996899127960205,
          0.17012731730937958,
          0.15171971917152405,
          0.16699661314487457,
          0.16135315597057343,
          0.16076722741127014,
          0.14547589421272278,
          0.16639259457588196,
          0.1519772708415985,
          0.1330491453409195,
          0.19357220828533173,
          0.1475376933813095,
          0.1387992799282074,
          0.14462104439735413,
          0.14897732436656952,
          0.1275741308927536,
          0.13144464790821075,
          0.1348412185907364,
          0.15187184512615204,
          0.11491011083126068,
          0.14793771505355835,
          0.1553650051355362,
          0.13237683475017548,
          0.12729093432426453,
          0.10508467257022858,
          0.12014518678188324,
          0.1259949952363968,
          0.16604314744472504,
          0.1259615272283554,
          0.11209195107221603,
          0.11246979236602783,
          0.12481894344091415,
          0.13555768132209778,
          0.12930777668952942,
          0.13530176877975464,
          0.13721045851707458,
          0.13126178085803986,
          0.15122398734092712,
          0.12889158725738525,
          0.10660846531391144,
          0.11404900997877121,
          0.12708419561386108,
          0.11300385743379593,
          0.11389169842004776,
          0.12270559370517731,
          0.12543486058712006,
          0.1238434687256813,
          0.12780873477458954,
          0.13379834592342377,
          0.12662792205810547,
          0.13202273845672607,
          0.11973677575588226,
          0.10550593584775925,
          0.11899831891059875,
          0.11414813250303268,
          0.10975023359060287,
          0.12696251273155212,
          0.10958089679479599,
          0.1133669838309288,
          0.11361685395240784,
          0.13696977496147156,
          0.09405560791492462,
          0.11198116093873978,
          0.09559620916843414,
          0.11265537142753601,
          0.10003849118947983,
          0.10005904734134674,
          0.11475523561239243,
          0.1049196869134903,
          0.12889884412288666,
          0.11095944046974182,
          0.1142347902059555,
          0.1234414130449295,
          0.08903893083333969,
          0.12004750221967697,
          0.10761713236570358,
          0.09044016152620316,
          0.10102608799934387,
          0.08470919728279114,
          0.10018087923526764,
          0.10925155133008957,
          0.08620376139879227,
          0.11536063253879547,
          0.08781860023736954,
          0.10204848647117615,
          0.11110410839319229,
          0.11080200225114822,
          0.09241686016321182,
          0.10950402170419693,
          0.10620852559804916,
          0.10446207225322723,
          0.10424071550369263,
          0.09194763749837875,
          0.11312728375196457,
          0.10752930492162704,
          0.10592883080244064,
          0.106869637966156
         ]
        },
        {
         "line": {
          "color": "rgba(55, 128, 191, 1.0)",
          "dash": "solid",
          "shape": "linear",
          "width": 1.3
         },
         "mode": "lines",
         "name": "val_loss",
         "text": "",
         "type": "scatter",
         "x": [
          0,
          1,
          2,
          3,
          4,
          5,
          6,
          7,
          8,
          9,
          10,
          11,
          12,
          13,
          14,
          15,
          16,
          17,
          18,
          19,
          20,
          21,
          22,
          23,
          24,
          25,
          26,
          27,
          28,
          29,
          30,
          31,
          32,
          33,
          34,
          35,
          36,
          37,
          38,
          39,
          40,
          41,
          42,
          43,
          44,
          45,
          46,
          47,
          48,
          49,
          50,
          51,
          52,
          53,
          54,
          55,
          56,
          57,
          58,
          59,
          60,
          61,
          62,
          63,
          64,
          65,
          66,
          67,
          68,
          69,
          70,
          71,
          72,
          73,
          74,
          75,
          76,
          77,
          78,
          79,
          80,
          81,
          82,
          83,
          84,
          85,
          86,
          87,
          88,
          89,
          90,
          91,
          92,
          93,
          94,
          95,
          96,
          97,
          98,
          99,
          100,
          101,
          102,
          103,
          104,
          105,
          106,
          107,
          108,
          109,
          110,
          111,
          112,
          113,
          114,
          115,
          116,
          117,
          118,
          119,
          120,
          121,
          122,
          123,
          124,
          125,
          126,
          127,
          128,
          129,
          130,
          131,
          132,
          133,
          134,
          135,
          136,
          137,
          138,
          139,
          140,
          141,
          142,
          143,
          144,
          145,
          146,
          147,
          148,
          149,
          150,
          151,
          152,
          153,
          154,
          155,
          156,
          157,
          158,
          159,
          160,
          161,
          162,
          163,
          164,
          165,
          166
         ],
         "y": [
          0.6760891079902649,
          0.6631466150283813,
          0.6475237607955933,
          0.6277614235877991,
          0.6036596298217773,
          0.5757331848144531,
          0.5470985770225525,
          0.5124318599700928,
          0.47510668635368347,
          0.44801101088523865,
          0.41852957010269165,
          0.39070701599121094,
          0.36758390069007874,
          0.3470163643360138,
          0.3297809660434723,
          0.3046288788318634,
          0.2884865701198578,
          0.2759946286678314,
          0.2617087960243225,
          0.24894122779369354,
          0.2375645637512207,
          0.2323366403579712,
          0.21989811956882477,
          0.22008337080478668,
          0.20744627714157104,
          0.20135538280010223,
          0.18991000950336456,
          0.18802261352539062,
          0.18295377492904663,
          0.17297931015491486,
          0.170139342546463,
          0.167153999209404,
          0.1566952019929886,
          0.15212953090667725,
          0.15379144251346588,
          0.14521808922290802,
          0.14419454336166382,
          0.14775198698043823,
          0.13996461033821106,
          0.1367877572774887,
          0.1422705054283142,
          0.13767941296100616,
          0.13116727769374847,
          0.136134535074234,
          0.1233830451965332,
          0.11874673515558243,
          0.11417970806360245,
          0.11333341896533966,
          0.11933373659849167,
          0.11735741049051285,
          0.11032037436962128,
          0.11280078440904617,
          0.12149479985237122,
          0.10918862372636795,
          0.10610437393188477,
          0.10929183661937714,
          0.11380477249622345,
          0.1125277504324913,
          0.10058899968862534,
          0.1003907173871994,
          0.09744482487440109,
          0.10096601396799088,
          0.09795490652322769,
          0.09427203238010406,
          0.09723898023366928,
          0.09199646860361099,
          0.10062332451343536,
          0.08915246278047562,
          0.0891406238079071,
          0.09263177961111069,
          0.08944875746965408,
          0.0883045420050621,
          0.08771248161792755,
          0.08806783705949783,
          0.08898966759443283,
          0.08988054096698761,
          0.08258853107690811,
          0.08237660676240921,
          0.08922453224658966,
          0.08267880976200104,
          0.09598612040281296,
          0.08510620892047882,
          0.08397338539361954,
          0.0816667228937149,
          0.08105937391519547,
          0.09887240827083588,
          0.08526923507452011,
          0.07760704308748245,
          0.08276017010211945,
          0.07713791728019714,
          0.08772353827953339,
          0.09329313039779663,
          0.07693346589803696,
          0.07785889506340027,
          0.08496313542127609,
          0.07600956410169601,
          0.07780685275793076,
          0.08474605530500412,
          0.07987295091152191,
          0.07629719376564026,
          0.07547266781330109,
          0.08193515241146088,
          0.07841791212558746,
          0.091522216796875,
          0.08751849830150604,
          0.07550527155399323,
          0.0804326981306076,
          0.07962492108345032,
          0.07540450990200043,
          0.08141832053661346,
          0.08049937337636948,
          0.07641148567199707,
          0.0741160437464714,
          0.08697421848773956,
          0.08136322349309921,
          0.07278113067150116,
          0.08117920905351639,
          0.08052454888820648,
          0.07338058948516846,
          0.07503507286310196,
          0.0797407254576683,
          0.08512946218252182,
          0.07184064388275146,
          0.07687857002019882,
          0.07132737338542938,
          0.08225702494382858,
          0.0868929848074913,
          0.07587279379367828,
          0.07475624978542328,
          0.07693075388669968,
          0.07247034460306168,
          0.07344087958335876,
          0.07855638861656189,
          0.07170195132493973,
          0.07238547503948212,
          0.07485437393188477,
          0.07181649655103683,
          0.07129748165607452,
          0.07059832662343979,
          0.0842798575758934,
          0.074379563331604,
          0.06855421513319016,
          0.08465485274791718,
          0.08039315789937973,
          0.08122973889112473,
          0.07301191985607147,
          0.08231789618730545,
          0.07708388566970825,
          0.07766179740428925,
          0.0709417536854744,
          0.07177330553531647,
          0.08147052675485611,
          0.07067651301622391,
          0.07443676143884659,
          0.07072097808122635,
          0.07706346362829208,
          0.07257334887981415,
          0.06941533833742142,
          0.07148147374391556,
          0.07476486265659332,
          0.08496060222387314,
          0.07074638456106186,
          0.07307787239551544,
          0.08171452581882477,
          0.07376084476709366,
          0.08029083907604218,
          0.07651124149560928
         ]
        }
       ],
       "layout": {
        "legend": {
         "bgcolor": "#F5F6F9",
         "font": {
          "color": "#4D5663"
         }
        },
        "paper_bgcolor": "#F5F6F9",
        "plot_bgcolor": "#F5F6F9",
        "template": {
         "data": {
          "bar": [
           {
            "error_x": {
             "color": "#2a3f5f"
            },
            "error_y": {
             "color": "#2a3f5f"
            },
            "marker": {
             "line": {
              "color": "#E5ECF6",
              "width": 0.5
             }
            },
            "type": "bar"
           }
          ],
          "barpolar": [
           {
            "marker": {
             "line": {
              "color": "#E5ECF6",
              "width": 0.5
             }
            },
            "type": "barpolar"
           }
          ],
          "carpet": [
           {
            "aaxis": {
             "endlinecolor": "#2a3f5f",
             "gridcolor": "white",
             "linecolor": "white",
             "minorgridcolor": "white",
             "startlinecolor": "#2a3f5f"
            },
            "baxis": {
             "endlinecolor": "#2a3f5f",
             "gridcolor": "white",
             "linecolor": "white",
             "minorgridcolor": "white",
             "startlinecolor": "#2a3f5f"
            },
            "type": "carpet"
           }
          ],
          "choropleth": [
           {
            "colorbar": {
             "outlinewidth": 0,
             "ticks": ""
            },
            "type": "choropleth"
           }
          ],
          "contour": [
           {
            "colorbar": {
             "outlinewidth": 0,
             "ticks": ""
            },
            "colorscale": [
             [
              0,
              "#0d0887"
             ],
             [
              0.1111111111111111,
              "#46039f"
             ],
             [
              0.2222222222222222,
              "#7201a8"
             ],
             [
              0.3333333333333333,
              "#9c179e"
             ],
             [
              0.4444444444444444,
              "#bd3786"
             ],
             [
              0.5555555555555556,
              "#d8576b"
             ],
             [
              0.6666666666666666,
              "#ed7953"
             ],
             [
              0.7777777777777778,
              "#fb9f3a"
             ],
             [
              0.8888888888888888,
              "#fdca26"
             ],
             [
              1,
              "#f0f921"
             ]
            ],
            "type": "contour"
           }
          ],
          "contourcarpet": [
           {
            "colorbar": {
             "outlinewidth": 0,
             "ticks": ""
            },
            "type": "contourcarpet"
           }
          ],
          "heatmap": [
           {
            "colorbar": {
             "outlinewidth": 0,
             "ticks": ""
            },
            "colorscale": [
             [
              0,
              "#0d0887"
             ],
             [
              0.1111111111111111,
              "#46039f"
             ],
             [
              0.2222222222222222,
              "#7201a8"
             ],
             [
              0.3333333333333333,
              "#9c179e"
             ],
             [
              0.4444444444444444,
              "#bd3786"
             ],
             [
              0.5555555555555556,
              "#d8576b"
             ],
             [
              0.6666666666666666,
              "#ed7953"
             ],
             [
              0.7777777777777778,
              "#fb9f3a"
             ],
             [
              0.8888888888888888,
              "#fdca26"
             ],
             [
              1,
              "#f0f921"
             ]
            ],
            "type": "heatmap"
           }
          ],
          "heatmapgl": [
           {
            "colorbar": {
             "outlinewidth": 0,
             "ticks": ""
            },
            "colorscale": [
             [
              0,
              "#0d0887"
             ],
             [
              0.1111111111111111,
              "#46039f"
             ],
             [
              0.2222222222222222,
              "#7201a8"
             ],
             [
              0.3333333333333333,
              "#9c179e"
             ],
             [
              0.4444444444444444,
              "#bd3786"
             ],
             [
              0.5555555555555556,
              "#d8576b"
             ],
             [
              0.6666666666666666,
              "#ed7953"
             ],
             [
              0.7777777777777778,
              "#fb9f3a"
             ],
             [
              0.8888888888888888,
              "#fdca26"
             ],
             [
              1,
              "#f0f921"
             ]
            ],
            "type": "heatmapgl"
           }
          ],
          "histogram": [
           {
            "marker": {
             "colorbar": {
              "outlinewidth": 0,
              "ticks": ""
             }
            },
            "type": "histogram"
           }
          ],
          "histogram2d": [
           {
            "colorbar": {
             "outlinewidth": 0,
             "ticks": ""
            },
            "colorscale": [
             [
              0,
              "#0d0887"
             ],
             [
              0.1111111111111111,
              "#46039f"
             ],
             [
              0.2222222222222222,
              "#7201a8"
             ],
             [
              0.3333333333333333,
              "#9c179e"
             ],
             [
              0.4444444444444444,
              "#bd3786"
             ],
             [
              0.5555555555555556,
              "#d8576b"
             ],
             [
              0.6666666666666666,
              "#ed7953"
             ],
             [
              0.7777777777777778,
              "#fb9f3a"
             ],
             [
              0.8888888888888888,
              "#fdca26"
             ],
             [
              1,
              "#f0f921"
             ]
            ],
            "type": "histogram2d"
           }
          ],
          "histogram2dcontour": [
           {
            "colorbar": {
             "outlinewidth": 0,
             "ticks": ""
            },
            "colorscale": [
             [
              0,
              "#0d0887"
             ],
             [
              0.1111111111111111,
              "#46039f"
             ],
             [
              0.2222222222222222,
              "#7201a8"
             ],
             [
              0.3333333333333333,
              "#9c179e"
             ],
             [
              0.4444444444444444,
              "#bd3786"
             ],
             [
              0.5555555555555556,
              "#d8576b"
             ],
             [
              0.6666666666666666,
              "#ed7953"
             ],
             [
              0.7777777777777778,
              "#fb9f3a"
             ],
             [
              0.8888888888888888,
              "#fdca26"
             ],
             [
              1,
              "#f0f921"
             ]
            ],
            "type": "histogram2dcontour"
           }
          ],
          "mesh3d": [
           {
            "colorbar": {
             "outlinewidth": 0,
             "ticks": ""
            },
            "type": "mesh3d"
           }
          ],
          "parcoords": [
           {
            "line": {
             "colorbar": {
              "outlinewidth": 0,
              "ticks": ""
             }
            },
            "type": "parcoords"
           }
          ],
          "pie": [
           {
            "automargin": true,
            "type": "pie"
           }
          ],
          "scatter": [
           {
            "marker": {
             "colorbar": {
              "outlinewidth": 0,
              "ticks": ""
             }
            },
            "type": "scatter"
           }
          ],
          "scatter3d": [
           {
            "line": {
             "colorbar": {
              "outlinewidth": 0,
              "ticks": ""
             }
            },
            "marker": {
             "colorbar": {
              "outlinewidth": 0,
              "ticks": ""
             }
            },
            "type": "scatter3d"
           }
          ],
          "scattercarpet": [
           {
            "marker": {
             "colorbar": {
              "outlinewidth": 0,
              "ticks": ""
             }
            },
            "type": "scattercarpet"
           }
          ],
          "scattergeo": [
           {
            "marker": {
             "colorbar": {
              "outlinewidth": 0,
              "ticks": ""
             }
            },
            "type": "scattergeo"
           }
          ],
          "scattergl": [
           {
            "marker": {
             "colorbar": {
              "outlinewidth": 0,
              "ticks": ""
             }
            },
            "type": "scattergl"
           }
          ],
          "scattermapbox": [
           {
            "marker": {
             "colorbar": {
              "outlinewidth": 0,
              "ticks": ""
             }
            },
            "type": "scattermapbox"
           }
          ],
          "scatterpolar": [
           {
            "marker": {
             "colorbar": {
              "outlinewidth": 0,
              "ticks": ""
             }
            },
            "type": "scatterpolar"
           }
          ],
          "scatterpolargl": [
           {
            "marker": {
             "colorbar": {
              "outlinewidth": 0,
              "ticks": ""
             }
            },
            "type": "scatterpolargl"
           }
          ],
          "scatterternary": [
           {
            "marker": {
             "colorbar": {
              "outlinewidth": 0,
              "ticks": ""
             }
            },
            "type": "scatterternary"
           }
          ],
          "surface": [
           {
            "colorbar": {
             "outlinewidth": 0,
             "ticks": ""
            },
            "colorscale": [
             [
              0,
              "#0d0887"
             ],
             [
              0.1111111111111111,
              "#46039f"
             ],
             [
              0.2222222222222222,
              "#7201a8"
             ],
             [
              0.3333333333333333,
              "#9c179e"
             ],
             [
              0.4444444444444444,
              "#bd3786"
             ],
             [
              0.5555555555555556,
              "#d8576b"
             ],
             [
              0.6666666666666666,
              "#ed7953"
             ],
             [
              0.7777777777777778,
              "#fb9f3a"
             ],
             [
              0.8888888888888888,
              "#fdca26"
             ],
             [
              1,
              "#f0f921"
             ]
            ],
            "type": "surface"
           }
          ],
          "table": [
           {
            "cells": {
             "fill": {
              "color": "#EBF0F8"
             },
             "line": {
              "color": "white"
             }
            },
            "header": {
             "fill": {
              "color": "#C8D4E3"
             },
             "line": {
              "color": "white"
             }
            },
            "type": "table"
           }
          ]
         },
         "layout": {
          "annotationdefaults": {
           "arrowcolor": "#2a3f5f",
           "arrowhead": 0,
           "arrowwidth": 1
          },
          "coloraxis": {
           "colorbar": {
            "outlinewidth": 0,
            "ticks": ""
           }
          },
          "colorscale": {
           "diverging": [
            [
             0,
             "#8e0152"
            ],
            [
             0.1,
             "#c51b7d"
            ],
            [
             0.2,
             "#de77ae"
            ],
            [
             0.3,
             "#f1b6da"
            ],
            [
             0.4,
             "#fde0ef"
            ],
            [
             0.5,
             "#f7f7f7"
            ],
            [
             0.6,
             "#e6f5d0"
            ],
            [
             0.7,
             "#b8e186"
            ],
            [
             0.8,
             "#7fbc41"
            ],
            [
             0.9,
             "#4d9221"
            ],
            [
             1,
             "#276419"
            ]
           ],
           "sequential": [
            [
             0,
             "#0d0887"
            ],
            [
             0.1111111111111111,
             "#46039f"
            ],
            [
             0.2222222222222222,
             "#7201a8"
            ],
            [
             0.3333333333333333,
             "#9c179e"
            ],
            [
             0.4444444444444444,
             "#bd3786"
            ],
            [
             0.5555555555555556,
             "#d8576b"
            ],
            [
             0.6666666666666666,
             "#ed7953"
            ],
            [
             0.7777777777777778,
             "#fb9f3a"
            ],
            [
             0.8888888888888888,
             "#fdca26"
            ],
            [
             1,
             "#f0f921"
            ]
           ],
           "sequentialminus": [
            [
             0,
             "#0d0887"
            ],
            [
             0.1111111111111111,
             "#46039f"
            ],
            [
             0.2222222222222222,
             "#7201a8"
            ],
            [
             0.3333333333333333,
             "#9c179e"
            ],
            [
             0.4444444444444444,
             "#bd3786"
            ],
            [
             0.5555555555555556,
             "#d8576b"
            ],
            [
             0.6666666666666666,
             "#ed7953"
            ],
            [
             0.7777777777777778,
             "#fb9f3a"
            ],
            [
             0.8888888888888888,
             "#fdca26"
            ],
            [
             1,
             "#f0f921"
            ]
           ]
          },
          "colorway": [
           "#636efa",
           "#EF553B",
           "#00cc96",
           "#ab63fa",
           "#FFA15A",
           "#19d3f3",
           "#FF6692",
           "#B6E880",
           "#FF97FF",
           "#FECB52"
          ],
          "font": {
           "color": "#2a3f5f"
          },
          "geo": {
           "bgcolor": "white",
           "lakecolor": "white",
           "landcolor": "#E5ECF6",
           "showlakes": true,
           "showland": true,
           "subunitcolor": "white"
          },
          "hoverlabel": {
           "align": "left"
          },
          "hovermode": "closest",
          "mapbox": {
           "style": "light"
          },
          "paper_bgcolor": "white",
          "plot_bgcolor": "#E5ECF6",
          "polar": {
           "angularaxis": {
            "gridcolor": "white",
            "linecolor": "white",
            "ticks": ""
           },
           "bgcolor": "#E5ECF6",
           "radialaxis": {
            "gridcolor": "white",
            "linecolor": "white",
            "ticks": ""
           }
          },
          "scene": {
           "xaxis": {
            "backgroundcolor": "#E5ECF6",
            "gridcolor": "white",
            "gridwidth": 2,
            "linecolor": "white",
            "showbackground": true,
            "ticks": "",
            "zerolinecolor": "white"
           },
           "yaxis": {
            "backgroundcolor": "#E5ECF6",
            "gridcolor": "white",
            "gridwidth": 2,
            "linecolor": "white",
            "showbackground": true,
            "ticks": "",
            "zerolinecolor": "white"
           },
           "zaxis": {
            "backgroundcolor": "#E5ECF6",
            "gridcolor": "white",
            "gridwidth": 2,
            "linecolor": "white",
            "showbackground": true,
            "ticks": "",
            "zerolinecolor": "white"
           }
          },
          "shapedefaults": {
           "line": {
            "color": "#2a3f5f"
           }
          },
          "ternary": {
           "aaxis": {
            "gridcolor": "white",
            "linecolor": "white",
            "ticks": ""
           },
           "baxis": {
            "gridcolor": "white",
            "linecolor": "white",
            "ticks": ""
           },
           "bgcolor": "#E5ECF6",
           "caxis": {
            "gridcolor": "white",
            "linecolor": "white",
            "ticks": ""
           }
          },
          "title": {
           "x": 0.05
          },
          "xaxis": {
           "automargin": true,
           "gridcolor": "white",
           "linecolor": "white",
           "ticks": "",
           "title": {
            "standoff": 15
           },
           "zerolinecolor": "white",
           "zerolinewidth": 2
          },
          "yaxis": {
           "automargin": true,
           "gridcolor": "white",
           "linecolor": "white",
           "ticks": "",
           "title": {
            "standoff": 15
           },
           "zerolinecolor": "white",
           "zerolinewidth": 2
          }
         }
        },
        "title": {
         "font": {
          "color": "#4D5663"
         }
        },
        "xaxis": {
         "gridcolor": "#E1E5ED",
         "showgrid": true,
         "tickfont": {
          "color": "#4D5663"
         },
         "title": {
          "font": {
           "color": "#4D5663"
          },
          "text": ""
         },
         "zerolinecolor": "#E1E5ED"
        },
        "yaxis": {
         "gridcolor": "#E1E5ED",
         "showgrid": true,
         "tickfont": {
          "color": "#4D5663"
         },
         "title": {
          "font": {
           "color": "#4D5663"
          },
          "text": ""
         },
         "zerolinecolor": "#E1E5ED"
        }
       }
      },
      "text/html": [
       "<div>                            <div id=\"389ba07a-7538-4b24-9771-7dd0f84df091\" class=\"plotly-graph-div\" style=\"height:525px; width:100%;\"></div>            <script type=\"text/javascript\">                require([\"plotly\"], function(Plotly) {                    window.PLOTLYENV=window.PLOTLYENV || {};\n",
       "                    window.PLOTLYENV.BASE_URL='https://plot.ly';                                    if (document.getElementById(\"389ba07a-7538-4b24-9771-7dd0f84df091\")) {                    Plotly.newPlot(                        \"389ba07a-7538-4b24-9771-7dd0f84df091\",                        [{\"line\": {\"color\": \"rgba(255, 153, 51, 1.0)\", \"dash\": \"solid\", \"shape\": \"linear\", \"width\": 1.3}, \"mode\": \"lines\", \"name\": \"loss\", \"text\": \"\", \"type\": \"scatter\", \"x\": [0, 1, 2, 3, 4, 5, 6, 7, 8, 9, 10, 11, 12, 13, 14, 15, 16, 17, 18, 19, 20, 21, 22, 23, 24, 25, 26, 27, 28, 29, 30, 31, 32, 33, 34, 35, 36, 37, 38, 39, 40, 41, 42, 43, 44, 45, 46, 47, 48, 49, 50, 51, 52, 53, 54, 55, 56, 57, 58, 59, 60, 61, 62, 63, 64, 65, 66, 67, 68, 69, 70, 71, 72, 73, 74, 75, 76, 77, 78, 79, 80, 81, 82, 83, 84, 85, 86, 87, 88, 89, 90, 91, 92, 93, 94, 95, 96, 97, 98, 99, 100, 101, 102, 103, 104, 105, 106, 107, 108, 109, 110, 111, 112, 113, 114, 115, 116, 117, 118, 119, 120, 121, 122, 123, 124, 125, 126, 127, 128, 129, 130, 131, 132, 133, 134, 135, 136, 137, 138, 139, 140, 141, 142, 143, 144, 145, 146, 147, 148, 149, 150, 151, 152, 153, 154, 155, 156, 157, 158, 159, 160, 161, 162, 163, 164, 165, 166], \"y\": [0.6916653513908386, 0.6842882037162781, 0.6630560159683228, 0.6459006667137146, 0.629030704498291, 0.6056214570999146, 0.5983091592788696, 0.5738572478294373, 0.5332044363021851, 0.5246211886405945, 0.5050419569015503, 0.4903627038002014, 0.4378397464752197, 0.4591250419616699, 0.4046649932861328, 0.3991074860095978, 0.390608012676239, 0.39020365476608276, 0.3540579080581665, 0.368068128824234, 0.3404991030693054, 0.31652194261550903, 0.3693019449710846, 0.31066611409187317, 0.30842164158821106, 0.2920747995376587, 0.28962740302085876, 0.30051738023757935, 0.2949989438056946, 0.2642594873905182, 0.2847684323787689, 0.26662418246269226, 0.2709701657295227, 0.2545253336429596, 0.24653881788253784, 0.24903427064418793, 0.2427222579717636, 0.2463720142841339, 0.23680144548416138, 0.24151229858398438, 0.23311366140842438, 0.2362411767244339, 0.22842495143413544, 0.20912650227546692, 0.2223389446735382, 0.20795553922653198, 0.1864742934703827, 0.22904661297798157, 0.20674347877502441, 0.20882754027843475, 0.18175362050533295, 0.2024616003036499, 0.1749228835105896, 0.1931464821100235, 0.19475410878658295, 0.1610638052225113, 0.19481949508190155, 0.19738483428955078, 0.16617095470428467, 0.19141075015068054, 0.1607285588979721, 0.17204400897026062, 0.1636856496334076, 0.16064397990703583, 0.14140215516090393, 0.1856204718351364, 0.1435307264328003, 0.15734465420246124, 0.1540176272392273, 0.15273956954479218, 0.13996899127960205, 0.17012731730937958, 0.15171971917152405, 0.16699661314487457, 0.16135315597057343, 0.16076722741127014, 0.14547589421272278, 0.16639259457588196, 0.1519772708415985, 0.1330491453409195, 0.19357220828533173, 0.1475376933813095, 0.1387992799282074, 0.14462104439735413, 0.14897732436656952, 0.1275741308927536, 0.13144464790821075, 0.1348412185907364, 0.15187184512615204, 0.11491011083126068, 0.14793771505355835, 0.1553650051355362, 0.13237683475017548, 0.12729093432426453, 0.10508467257022858, 0.12014518678188324, 0.1259949952363968, 0.16604314744472504, 0.1259615272283554, 0.11209195107221603, 0.11246979236602783, 0.12481894344091415, 0.13555768132209778, 0.12930777668952942, 0.13530176877975464, 0.13721045851707458, 0.13126178085803986, 0.15122398734092712, 0.12889158725738525, 0.10660846531391144, 0.11404900997877121, 0.12708419561386108, 0.11300385743379593, 0.11389169842004776, 0.12270559370517731, 0.12543486058712006, 0.1238434687256813, 0.12780873477458954, 0.13379834592342377, 0.12662792205810547, 0.13202273845672607, 0.11973677575588226, 0.10550593584775925, 0.11899831891059875, 0.11414813250303268, 0.10975023359060287, 0.12696251273155212, 0.10958089679479599, 0.1133669838309288, 0.11361685395240784, 0.13696977496147156, 0.09405560791492462, 0.11198116093873978, 0.09559620916843414, 0.11265537142753601, 0.10003849118947983, 0.10005904734134674, 0.11475523561239243, 0.1049196869134903, 0.12889884412288666, 0.11095944046974182, 0.1142347902059555, 0.1234414130449295, 0.08903893083333969, 0.12004750221967697, 0.10761713236570358, 0.09044016152620316, 0.10102608799934387, 0.08470919728279114, 0.10018087923526764, 0.10925155133008957, 0.08620376139879227, 0.11536063253879547, 0.08781860023736954, 0.10204848647117615, 0.11110410839319229, 0.11080200225114822, 0.09241686016321182, 0.10950402170419693, 0.10620852559804916, 0.10446207225322723, 0.10424071550369263, 0.09194763749837875, 0.11312728375196457, 0.10752930492162704, 0.10592883080244064, 0.106869637966156]}, {\"line\": {\"color\": \"rgba(55, 128, 191, 1.0)\", \"dash\": \"solid\", \"shape\": \"linear\", \"width\": 1.3}, \"mode\": \"lines\", \"name\": \"val_loss\", \"text\": \"\", \"type\": \"scatter\", \"x\": [0, 1, 2, 3, 4, 5, 6, 7, 8, 9, 10, 11, 12, 13, 14, 15, 16, 17, 18, 19, 20, 21, 22, 23, 24, 25, 26, 27, 28, 29, 30, 31, 32, 33, 34, 35, 36, 37, 38, 39, 40, 41, 42, 43, 44, 45, 46, 47, 48, 49, 50, 51, 52, 53, 54, 55, 56, 57, 58, 59, 60, 61, 62, 63, 64, 65, 66, 67, 68, 69, 70, 71, 72, 73, 74, 75, 76, 77, 78, 79, 80, 81, 82, 83, 84, 85, 86, 87, 88, 89, 90, 91, 92, 93, 94, 95, 96, 97, 98, 99, 100, 101, 102, 103, 104, 105, 106, 107, 108, 109, 110, 111, 112, 113, 114, 115, 116, 117, 118, 119, 120, 121, 122, 123, 124, 125, 126, 127, 128, 129, 130, 131, 132, 133, 134, 135, 136, 137, 138, 139, 140, 141, 142, 143, 144, 145, 146, 147, 148, 149, 150, 151, 152, 153, 154, 155, 156, 157, 158, 159, 160, 161, 162, 163, 164, 165, 166], \"y\": [0.6760891079902649, 0.6631466150283813, 0.6475237607955933, 0.6277614235877991, 0.6036596298217773, 0.5757331848144531, 0.5470985770225525, 0.5124318599700928, 0.47510668635368347, 0.44801101088523865, 0.41852957010269165, 0.39070701599121094, 0.36758390069007874, 0.3470163643360138, 0.3297809660434723, 0.3046288788318634, 0.2884865701198578, 0.2759946286678314, 0.2617087960243225, 0.24894122779369354, 0.2375645637512207, 0.2323366403579712, 0.21989811956882477, 0.22008337080478668, 0.20744627714157104, 0.20135538280010223, 0.18991000950336456, 0.18802261352539062, 0.18295377492904663, 0.17297931015491486, 0.170139342546463, 0.167153999209404, 0.1566952019929886, 0.15212953090667725, 0.15379144251346588, 0.14521808922290802, 0.14419454336166382, 0.14775198698043823, 0.13996461033821106, 0.1367877572774887, 0.1422705054283142, 0.13767941296100616, 0.13116727769374847, 0.136134535074234, 0.1233830451965332, 0.11874673515558243, 0.11417970806360245, 0.11333341896533966, 0.11933373659849167, 0.11735741049051285, 0.11032037436962128, 0.11280078440904617, 0.12149479985237122, 0.10918862372636795, 0.10610437393188477, 0.10929183661937714, 0.11380477249622345, 0.1125277504324913, 0.10058899968862534, 0.1003907173871994, 0.09744482487440109, 0.10096601396799088, 0.09795490652322769, 0.09427203238010406, 0.09723898023366928, 0.09199646860361099, 0.10062332451343536, 0.08915246278047562, 0.0891406238079071, 0.09263177961111069, 0.08944875746965408, 0.0883045420050621, 0.08771248161792755, 0.08806783705949783, 0.08898966759443283, 0.08988054096698761, 0.08258853107690811, 0.08237660676240921, 0.08922453224658966, 0.08267880976200104, 0.09598612040281296, 0.08510620892047882, 0.08397338539361954, 0.0816667228937149, 0.08105937391519547, 0.09887240827083588, 0.08526923507452011, 0.07760704308748245, 0.08276017010211945, 0.07713791728019714, 0.08772353827953339, 0.09329313039779663, 0.07693346589803696, 0.07785889506340027, 0.08496313542127609, 0.07600956410169601, 0.07780685275793076, 0.08474605530500412, 0.07987295091152191, 0.07629719376564026, 0.07547266781330109, 0.08193515241146088, 0.07841791212558746, 0.091522216796875, 0.08751849830150604, 0.07550527155399323, 0.0804326981306076, 0.07962492108345032, 0.07540450990200043, 0.08141832053661346, 0.08049937337636948, 0.07641148567199707, 0.0741160437464714, 0.08697421848773956, 0.08136322349309921, 0.07278113067150116, 0.08117920905351639, 0.08052454888820648, 0.07338058948516846, 0.07503507286310196, 0.0797407254576683, 0.08512946218252182, 0.07184064388275146, 0.07687857002019882, 0.07132737338542938, 0.08225702494382858, 0.0868929848074913, 0.07587279379367828, 0.07475624978542328, 0.07693075388669968, 0.07247034460306168, 0.07344087958335876, 0.07855638861656189, 0.07170195132493973, 0.07238547503948212, 0.07485437393188477, 0.07181649655103683, 0.07129748165607452, 0.07059832662343979, 0.0842798575758934, 0.074379563331604, 0.06855421513319016, 0.08465485274791718, 0.08039315789937973, 0.08122973889112473, 0.07301191985607147, 0.08231789618730545, 0.07708388566970825, 0.07766179740428925, 0.0709417536854744, 0.07177330553531647, 0.08147052675485611, 0.07067651301622391, 0.07443676143884659, 0.07072097808122635, 0.07706346362829208, 0.07257334887981415, 0.06941533833742142, 0.07148147374391556, 0.07476486265659332, 0.08496060222387314, 0.07074638456106186, 0.07307787239551544, 0.08171452581882477, 0.07376084476709366, 0.08029083907604218, 0.07651124149560928]}],                        {\"legend\": {\"bgcolor\": \"#F5F6F9\", \"font\": {\"color\": \"#4D5663\"}}, \"paper_bgcolor\": \"#F5F6F9\", \"plot_bgcolor\": \"#F5F6F9\", \"template\": {\"data\": {\"bar\": [{\"error_x\": {\"color\": \"#2a3f5f\"}, \"error_y\": {\"color\": \"#2a3f5f\"}, \"marker\": {\"line\": {\"color\": \"#E5ECF6\", \"width\": 0.5}}, \"type\": \"bar\"}], \"barpolar\": [{\"marker\": {\"line\": {\"color\": \"#E5ECF6\", \"width\": 0.5}}, \"type\": \"barpolar\"}], \"carpet\": [{\"aaxis\": {\"endlinecolor\": \"#2a3f5f\", \"gridcolor\": \"white\", \"linecolor\": \"white\", \"minorgridcolor\": \"white\", \"startlinecolor\": \"#2a3f5f\"}, \"baxis\": {\"endlinecolor\": \"#2a3f5f\", \"gridcolor\": \"white\", \"linecolor\": \"white\", \"minorgridcolor\": \"white\", \"startlinecolor\": \"#2a3f5f\"}, \"type\": \"carpet\"}], \"choropleth\": [{\"colorbar\": {\"outlinewidth\": 0, \"ticks\": \"\"}, \"type\": \"choropleth\"}], \"contour\": [{\"colorbar\": {\"outlinewidth\": 0, \"ticks\": \"\"}, \"colorscale\": [[0.0, \"#0d0887\"], [0.1111111111111111, \"#46039f\"], [0.2222222222222222, \"#7201a8\"], [0.3333333333333333, \"#9c179e\"], [0.4444444444444444, \"#bd3786\"], [0.5555555555555556, \"#d8576b\"], [0.6666666666666666, \"#ed7953\"], [0.7777777777777778, \"#fb9f3a\"], [0.8888888888888888, \"#fdca26\"], [1.0, \"#f0f921\"]], \"type\": \"contour\"}], \"contourcarpet\": [{\"colorbar\": {\"outlinewidth\": 0, \"ticks\": \"\"}, \"type\": \"contourcarpet\"}], \"heatmap\": [{\"colorbar\": {\"outlinewidth\": 0, \"ticks\": \"\"}, \"colorscale\": [[0.0, \"#0d0887\"], [0.1111111111111111, \"#46039f\"], [0.2222222222222222, \"#7201a8\"], [0.3333333333333333, \"#9c179e\"], [0.4444444444444444, \"#bd3786\"], [0.5555555555555556, \"#d8576b\"], [0.6666666666666666, \"#ed7953\"], [0.7777777777777778, \"#fb9f3a\"], [0.8888888888888888, \"#fdca26\"], [1.0, \"#f0f921\"]], \"type\": \"heatmap\"}], \"heatmapgl\": [{\"colorbar\": {\"outlinewidth\": 0, \"ticks\": \"\"}, \"colorscale\": [[0.0, \"#0d0887\"], [0.1111111111111111, \"#46039f\"], [0.2222222222222222, \"#7201a8\"], [0.3333333333333333, \"#9c179e\"], [0.4444444444444444, \"#bd3786\"], [0.5555555555555556, \"#d8576b\"], [0.6666666666666666, \"#ed7953\"], [0.7777777777777778, \"#fb9f3a\"], [0.8888888888888888, \"#fdca26\"], [1.0, \"#f0f921\"]], \"type\": \"heatmapgl\"}], \"histogram\": [{\"marker\": {\"colorbar\": {\"outlinewidth\": 0, \"ticks\": \"\"}}, \"type\": \"histogram\"}], \"histogram2d\": [{\"colorbar\": {\"outlinewidth\": 0, \"ticks\": \"\"}, \"colorscale\": [[0.0, \"#0d0887\"], [0.1111111111111111, \"#46039f\"], [0.2222222222222222, \"#7201a8\"], [0.3333333333333333, \"#9c179e\"], [0.4444444444444444, \"#bd3786\"], [0.5555555555555556, \"#d8576b\"], [0.6666666666666666, \"#ed7953\"], [0.7777777777777778, \"#fb9f3a\"], [0.8888888888888888, \"#fdca26\"], [1.0, \"#f0f921\"]], \"type\": \"histogram2d\"}], \"histogram2dcontour\": [{\"colorbar\": {\"outlinewidth\": 0, \"ticks\": \"\"}, \"colorscale\": [[0.0, \"#0d0887\"], [0.1111111111111111, \"#46039f\"], [0.2222222222222222, \"#7201a8\"], [0.3333333333333333, \"#9c179e\"], [0.4444444444444444, \"#bd3786\"], [0.5555555555555556, \"#d8576b\"], [0.6666666666666666, \"#ed7953\"], [0.7777777777777778, \"#fb9f3a\"], [0.8888888888888888, \"#fdca26\"], [1.0, \"#f0f921\"]], \"type\": \"histogram2dcontour\"}], \"mesh3d\": [{\"colorbar\": {\"outlinewidth\": 0, \"ticks\": \"\"}, \"type\": \"mesh3d\"}], \"parcoords\": [{\"line\": {\"colorbar\": {\"outlinewidth\": 0, \"ticks\": \"\"}}, \"type\": \"parcoords\"}], \"pie\": [{\"automargin\": true, \"type\": \"pie\"}], \"scatter\": [{\"marker\": {\"colorbar\": {\"outlinewidth\": 0, \"ticks\": \"\"}}, \"type\": \"scatter\"}], \"scatter3d\": [{\"line\": {\"colorbar\": {\"outlinewidth\": 0, \"ticks\": \"\"}}, \"marker\": {\"colorbar\": {\"outlinewidth\": 0, \"ticks\": \"\"}}, \"type\": \"scatter3d\"}], \"scattercarpet\": [{\"marker\": {\"colorbar\": {\"outlinewidth\": 0, \"ticks\": \"\"}}, \"type\": \"scattercarpet\"}], \"scattergeo\": [{\"marker\": {\"colorbar\": {\"outlinewidth\": 0, \"ticks\": \"\"}}, \"type\": \"scattergeo\"}], \"scattergl\": [{\"marker\": {\"colorbar\": {\"outlinewidth\": 0, \"ticks\": \"\"}}, \"type\": \"scattergl\"}], \"scattermapbox\": [{\"marker\": {\"colorbar\": {\"outlinewidth\": 0, \"ticks\": \"\"}}, \"type\": \"scattermapbox\"}], \"scatterpolar\": [{\"marker\": {\"colorbar\": {\"outlinewidth\": 0, \"ticks\": \"\"}}, \"type\": \"scatterpolar\"}], \"scatterpolargl\": [{\"marker\": {\"colorbar\": {\"outlinewidth\": 0, \"ticks\": \"\"}}, \"type\": \"scatterpolargl\"}], \"scatterternary\": [{\"marker\": {\"colorbar\": {\"outlinewidth\": 0, \"ticks\": \"\"}}, \"type\": \"scatterternary\"}], \"surface\": [{\"colorbar\": {\"outlinewidth\": 0, \"ticks\": \"\"}, \"colorscale\": [[0.0, \"#0d0887\"], [0.1111111111111111, \"#46039f\"], [0.2222222222222222, \"#7201a8\"], [0.3333333333333333, \"#9c179e\"], [0.4444444444444444, \"#bd3786\"], [0.5555555555555556, \"#d8576b\"], [0.6666666666666666, \"#ed7953\"], [0.7777777777777778, \"#fb9f3a\"], [0.8888888888888888, \"#fdca26\"], [1.0, \"#f0f921\"]], \"type\": \"surface\"}], \"table\": [{\"cells\": {\"fill\": {\"color\": \"#EBF0F8\"}, \"line\": {\"color\": \"white\"}}, \"header\": {\"fill\": {\"color\": \"#C8D4E3\"}, \"line\": {\"color\": \"white\"}}, \"type\": \"table\"}]}, \"layout\": {\"annotationdefaults\": {\"arrowcolor\": \"#2a3f5f\", \"arrowhead\": 0, \"arrowwidth\": 1}, \"coloraxis\": {\"colorbar\": {\"outlinewidth\": 0, \"ticks\": \"\"}}, \"colorscale\": {\"diverging\": [[0, \"#8e0152\"], [0.1, \"#c51b7d\"], [0.2, \"#de77ae\"], [0.3, \"#f1b6da\"], [0.4, \"#fde0ef\"], [0.5, \"#f7f7f7\"], [0.6, \"#e6f5d0\"], [0.7, \"#b8e186\"], [0.8, \"#7fbc41\"], [0.9, \"#4d9221\"], [1, \"#276419\"]], \"sequential\": [[0.0, \"#0d0887\"], [0.1111111111111111, \"#46039f\"], [0.2222222222222222, \"#7201a8\"], [0.3333333333333333, \"#9c179e\"], [0.4444444444444444, \"#bd3786\"], [0.5555555555555556, \"#d8576b\"], [0.6666666666666666, \"#ed7953\"], [0.7777777777777778, \"#fb9f3a\"], [0.8888888888888888, \"#fdca26\"], [1.0, \"#f0f921\"]], \"sequentialminus\": [[0.0, \"#0d0887\"], [0.1111111111111111, \"#46039f\"], [0.2222222222222222, \"#7201a8\"], [0.3333333333333333, \"#9c179e\"], [0.4444444444444444, \"#bd3786\"], [0.5555555555555556, \"#d8576b\"], [0.6666666666666666, \"#ed7953\"], [0.7777777777777778, \"#fb9f3a\"], [0.8888888888888888, \"#fdca26\"], [1.0, \"#f0f921\"]]}, \"colorway\": [\"#636efa\", \"#EF553B\", \"#00cc96\", \"#ab63fa\", \"#FFA15A\", \"#19d3f3\", \"#FF6692\", \"#B6E880\", \"#FF97FF\", \"#FECB52\"], \"font\": {\"color\": \"#2a3f5f\"}, \"geo\": {\"bgcolor\": \"white\", \"lakecolor\": \"white\", \"landcolor\": \"#E5ECF6\", \"showlakes\": true, \"showland\": true, \"subunitcolor\": \"white\"}, \"hoverlabel\": {\"align\": \"left\"}, \"hovermode\": \"closest\", \"mapbox\": {\"style\": \"light\"}, \"paper_bgcolor\": \"white\", \"plot_bgcolor\": \"#E5ECF6\", \"polar\": {\"angularaxis\": {\"gridcolor\": \"white\", \"linecolor\": \"white\", \"ticks\": \"\"}, \"bgcolor\": \"#E5ECF6\", \"radialaxis\": {\"gridcolor\": \"white\", \"linecolor\": \"white\", \"ticks\": \"\"}}, \"scene\": {\"xaxis\": {\"backgroundcolor\": \"#E5ECF6\", \"gridcolor\": \"white\", \"gridwidth\": 2, \"linecolor\": \"white\", \"showbackground\": true, \"ticks\": \"\", \"zerolinecolor\": \"white\"}, \"yaxis\": {\"backgroundcolor\": \"#E5ECF6\", \"gridcolor\": \"white\", \"gridwidth\": 2, \"linecolor\": \"white\", \"showbackground\": true, \"ticks\": \"\", \"zerolinecolor\": \"white\"}, \"zaxis\": {\"backgroundcolor\": \"#E5ECF6\", \"gridcolor\": \"white\", \"gridwidth\": 2, \"linecolor\": \"white\", \"showbackground\": true, \"ticks\": \"\", \"zerolinecolor\": \"white\"}}, \"shapedefaults\": {\"line\": {\"color\": \"#2a3f5f\"}}, \"ternary\": {\"aaxis\": {\"gridcolor\": \"white\", \"linecolor\": \"white\", \"ticks\": \"\"}, \"baxis\": {\"gridcolor\": \"white\", \"linecolor\": \"white\", \"ticks\": \"\"}, \"bgcolor\": \"#E5ECF6\", \"caxis\": {\"gridcolor\": \"white\", \"linecolor\": \"white\", \"ticks\": \"\"}}, \"title\": {\"x\": 0.05}, \"xaxis\": {\"automargin\": true, \"gridcolor\": \"white\", \"linecolor\": \"white\", \"ticks\": \"\", \"title\": {\"standoff\": 15}, \"zerolinecolor\": \"white\", \"zerolinewidth\": 2}, \"yaxis\": {\"automargin\": true, \"gridcolor\": \"white\", \"linecolor\": \"white\", \"ticks\": \"\", \"title\": {\"standoff\": 15}, \"zerolinecolor\": \"white\", \"zerolinewidth\": 2}}}, \"title\": {\"font\": {\"color\": \"#4D5663\"}}, \"xaxis\": {\"gridcolor\": \"#E1E5ED\", \"showgrid\": true, \"tickfont\": {\"color\": \"#4D5663\"}, \"title\": {\"font\": {\"color\": \"#4D5663\"}, \"text\": \"\"}, \"zerolinecolor\": \"#E1E5ED\"}, \"yaxis\": {\"gridcolor\": \"#E1E5ED\", \"showgrid\": true, \"tickfont\": {\"color\": \"#4D5663\"}, \"title\": {\"font\": {\"color\": \"#4D5663\"}, \"text\": \"\"}, \"zerolinecolor\": \"#E1E5ED\"}},                        {\"showLink\": true, \"linkText\": \"Export to plot.ly\", \"plotlyServerURL\": \"https://plot.ly\", \"responsive\": true}                    ).then(function(){\n",
       "                            \n",
       "var gd = document.getElementById('389ba07a-7538-4b24-9771-7dd0f84df091');\n",
       "var x = new MutationObserver(function (mutations, observer) {{\n",
       "        var display = window.getComputedStyle(gd).display;\n",
       "        if (!display || display === 'none') {{\n",
       "            console.log([gd, 'removed!']);\n",
       "            Plotly.purge(gd);\n",
       "            observer.disconnect();\n",
       "        }}\n",
       "}});\n",
       "\n",
       "// Listen for the removal of the full notebook cells\n",
       "var notebookContainer = gd.closest('#notebook-container');\n",
       "if (notebookContainer) {{\n",
       "    x.observe(notebookContainer, {childList: true});\n",
       "}}\n",
       "\n",
       "// Listen for the clearing of the current output cell\n",
       "var outputEl = gd.closest('.output');\n",
       "if (outputEl) {{\n",
       "    x.observe(outputEl, {childList: true});\n",
       "}}\n",
       "\n",
       "                        })                };                });            </script>        </div>"
      ]
     },
     "metadata": {},
     "output_type": "display_data"
    }
   ],
   "source": [
    "losses.iplot()"
   ]
  },
  {
   "cell_type": "code",
   "execution_count": 59,
   "metadata": {},
   "outputs": [],
   "source": [
    "predictions = model.predict_classes(X_test)"
   ]
  },
  {
   "cell_type": "code",
   "execution_count": 60,
   "metadata": {},
   "outputs": [],
   "source": [
    "from sklearn.metrics import classification_report,confusion_matrix"
   ]
  },
  {
   "cell_type": "code",
   "execution_count": 61,
   "metadata": {},
   "outputs": [
    {
     "name": "stdout",
     "output_type": "stream",
     "text": [
      "              precision    recall  f1-score   support\n",
      "\n",
      "           0       0.96      0.98      0.97        55\n",
      "           1       0.99      0.98      0.98        88\n",
      "\n",
      "    accuracy                           0.98       143\n",
      "   macro avg       0.98      0.98      0.98       143\n",
      "weighted avg       0.98      0.98      0.98       143\n",
      "\n"
     ]
    }
   ],
   "source": [
    "print(classification_report(y_test,predictions))"
   ]
  },
  {
   "cell_type": "code",
   "execution_count": 62,
   "metadata": {},
   "outputs": [
    {
     "name": "stdout",
     "output_type": "stream",
     "text": [
      "[[54  1]\n",
      " [ 2 86]]\n"
     ]
    }
   ],
   "source": [
    "print(confusion_matrix(y_test,predictions))"
   ]
  },
  {
   "cell_type": "code",
   "execution_count": null,
   "metadata": {},
   "outputs": [],
   "source": []
  }
 ],
 "metadata": {
  "kernelspec": {
   "display_name": "Python 3",
   "language": "python",
   "name": "python3"
  },
  "language_info": {
   "codemirror_mode": {
    "name": "ipython",
    "version": 3
   },
   "file_extension": ".py",
   "mimetype": "text/x-python",
   "name": "python",
   "nbconvert_exporter": "python",
   "pygments_lexer": "ipython3",
   "version": "3.7.6"
  }
 },
 "nbformat": 4,
 "nbformat_minor": 4
}
